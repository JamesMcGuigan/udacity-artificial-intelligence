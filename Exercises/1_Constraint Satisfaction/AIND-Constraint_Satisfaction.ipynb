{
 "cells": [
  {
   "cell_type": "markdown",
   "metadata": {},
   "source": [
    "# Constraint Satisfaction Problems\n",
    "---\n",
    "Constraint satisfaction is a general problem solving technique for solving a class of combinatorial optimization problems by imposing limits on the values in the solution. The goal of this exercise is to practice formulating some classical example problems as constraint satisfaction problems (CSPs), and then to explore using a powerful open source constraint satisfaction tool called [Z3](https://github.com/Z3Prover/z3) from Microsoft Research to solve them. Practicing with these simple problems will help you to recognize real-world problems that can be posed as CSPs; some solvers even have specialized utilities for specific types of problem (vehicle routing, planning, scheduling, etc.).\n",
    "\n",
    "There are many different kinds of CSP solvers available for CSPs. Z3 is a \"Satisfiability Modulo Theories\" (SMT) solver, which means that unlike the backtracking and variable assignment heuristics discussed in lecture, Z3 first converts CSPs to satisfiability problems then uses a [boolean satisfiability](https://en.wikipedia.org/wiki/Boolean_satisfiability_problem) (SAT) solver to determine feasibility. Z3 includes a number of efficient solver algorithms primarily developed to perform formal program verification, but it can also be used on general CSPs. Google's [OR tools](https://developers.google.com/optimization/) includes a CSP solver using backtracking with specialized subroutines for some common CP domains.\n",
    "\n",
    "## I. The Road Ahead\n",
    "\n",
    "0. [Cryptarithmetic](#I.-Cryptarithmetic) - introducing the Z3 API with simple word puzzles\n",
    "0. [Map Coloring](#II.-Map-Coloring) - solving the map coloring problem from lectures\n",
    "0. [N-Queens](#III.-N-Queens) - experimenting with problems that scale\n",
    "0. [Revisiting Sudoku](#IV.-Revisiting-Sudoku) - revisit the sudoku project with the Z3 solver"
   ]
  },
  {
   "cell_type": "markdown",
   "metadata": {},
   "source": [
    "<div class=\"alert alert-box alert-info\">\n",
    "NOTE: You can find solutions to this exercise in the \"solutions\" branch of the git repo, or on GitHub [here](https://github.com/udacity/artificial-intelligence/blob/solutions/Exercises/1_Constraint%20Satisfaction/AIND-Constraint_Satisfaction.ipynb).\n",
    "</div>"
   ]
  },
  {
   "cell_type": "code",
   "execution_count": 3,
   "metadata": {},
   "outputs": [],
   "source": [
    "%matplotlib inline"
   ]
  },
  {
   "cell_type": "code",
   "execution_count": 4,
   "metadata": {},
   "outputs": [],
   "source": [
    "import matplotlib as mpl\n",
    "import matplotlib.pyplot as plt\n",
    "\n",
    "# from util import displayBoard\n",
    "from itertools import product\n",
    "from IPython.display import display\n",
    "\n",
    "__builtins__.Z3_LIB_DIRS = ['/home/workspace/z3/bin']\n",
    "from z3 import *"
   ]
  },
  {
   "cell_type": "markdown",
   "metadata": {},
   "source": [
    "---\n",
    "## I. Cryptarithmetic\n",
    "\n",
    "We'll start by exploring the Z3 module with a _very_ simple & classic CSP problem called cryptarithmetic. A cryptarithmetic puzzle is posed as an arithmetic equation made up of words where each letter represents a distinct digit in the range (0-9). (This problem has no practical significance in AI, but it is a useful illustration of the basic ideas of CSPs.) For example, consider the problem and one possible solution shown below:\n",
    "\n",
    "```\n",
    "  T W O  :    9 3 8\n",
    "+ T W O  :  + 9 3 8\n",
    "-------  :  -------\n",
    "F O U R  :  1 8 7 6\n",
    "```\n",
    "There are six distinct variables (F, O, R, T, U, W), and when we require each letter to represent a disctinct number (e.g., F != O, R != T, ..., etc.) and disallow leading zeros (i.e., T != 0 and F != 0) then one possible solution is (F=1, O=8, R=6, T=9, U=7, W=3). \n",
    "\n",
    "### IMPLEMENTATION: Declaring Variables\n",
    "For this problem we need a single variable for each distinct letter in the puzzle, and each variable will have an integer values between 0-9. (We will handle restricting the leading digits separately.) Complete the declarations in the next cell to create all of the remaining variables and constraint them to the range 0-9."
   ]
  },
  {
   "cell_type": "code",
   "execution_count": 5,
   "metadata": {},
   "outputs": [],
   "source": [
    "ca_solver = Solver()  # create an instance of a Z3 CSP solver\n",
    "\n",
    "# create an z3.Int type variable instance called \"F\"\n",
    "# add constraints to the solver: 0 <= F <= 9\n",
    "F = Int('F'); ca_solver.add(0 <= F, F <= 9)  \n",
    "O = Int('O'); ca_solver.add(0 <= O, O <= 9)  \n",
    "U = Int('U'); ca_solver.add(0 <= U, U <= 9)  \n",
    "R = Int('R'); ca_solver.add(0 <= R, R <= 9)  \n",
    "T = Int('T'); ca_solver.add(0 <= T, T <= 9)  \n",
    "W = Int('W'); ca_solver.add(0 <= W, W <= 9)  "
   ]
  },
  {
   "cell_type": "markdown",
   "metadata": {},
   "source": [
    "### IMPLEMENTATION: Encoding Assumptions as Constraints\n",
    "We had two additional assumptions that need to be added as constraints: 1) leading digits cannot be zero, and 2) no two distinct letters represent the same digits. The first assumption can simply be added as a boolean statement like M != 0. And the second is a _very_ common CSP constraint (so common, in fact, that most libraries have a built in function to support it); z3 is no exception, with the Distinct(var_list) constraint function."
   ]
  },
  {
   "cell_type": "code",
   "execution_count": 6,
   "metadata": {},
   "outputs": [],
   "source": [
    "# TODO: Add constraints prohibiting leading digits F & T from taking the value 0\n",
    "ca_solver.add( F != 0, T != 0 )\n",
    "\n",
    "# TODO: Add a Distinct constraint for all the variables\n",
    "ca_solver.add(Distinct(F,O,U,R,T,W))"
   ]
  },
  {
   "cell_type": "markdown",
   "metadata": {},
   "source": [
    "### Choosing Problem Constraints\n",
    "There are often multiple ways to express the constraints for a problem. For example, in this case we could write a single large constraint combining all of the letters simultaneously $T\\times10^2 + W\\times10^1 + O\\times10^0 + T\\times10^2 + W\\times10^1 + O\\times10^0 = F\\times10^3 + O\\times10^2 + U\\times10^1 + R\\times10^0$. This kind of constraint works fine for some problems, but large constraints cannot usually be evaluated for satisfiability unless every variable is bound to a specific value. Expressing the problem with smaller constraints can sometimes allow the solver to finish faster.\n",
    "\n",
    "For example, we can break out each pair of digits in the summands and introduce a carry variable for each column: $(O + O)\\times10^0 = R\\times10^0 + carry_1\\times10^1$ This constraint can be evaluated as True/False with only four values assigned.\n",
    "\n",
    "The choice of encoding on this problem is unlikely to have any effect (because the problem is so small), however it is worth considering on more complex problems.\n",
    "\n",
    "### Implementation: Add the Problem Constraints\n",
    "Pick one of the possible encodings discussed above and add the required constraints into the solver in the next cell. "
   ]
  },
  {
   "cell_type": "code",
   "execution_count": 5,
   "metadata": {},
   "outputs": [],
   "source": [
    "# TODO: add any required variables and/or constraints to solve the cryptarithmetic puzzle\n",
    "# Primary solution using single constraint for the cryptarithmetic equation\n",
    "ca_solver.add((T*100 + W*10 + O*1) * 2 == (F*1000 + O*100 + U*10 + R*1))"
   ]
  },
  {
   "cell_type": "code",
   "execution_count": 6,
   "metadata": {},
   "outputs": [
    {
     "name": "stdout",
     "output_type": "stream",
     "text": [
      "  T W O  :    7 3 4\n",
      "+ T W O  :  + 7 3 4\n",
      "-------  :  -------\n",
      "F O U R  :  1 4 6 8\n"
     ]
    }
   ],
   "source": [
    "assert ca_solver.check() == sat, \"Uh oh...the solver did not find a solution. Check your constraints.\"\n",
    "print(\"  T W O  :    {} {} {}\".format(ca_solver.model()[T], ca_solver.model()[W], ca_solver.model()[O]))\n",
    "print(\"+ T W O  :  + {} {} {}\".format(ca_solver.model()[T], ca_solver.model()[W], ca_solver.model()[O]))\n",
    "print(\"-------  :  -------\")\n",
    "print(\"F O U R  :  {} {} {} {}\".format(ca_solver.model()[F], ca_solver.model()[O], ca_solver.model()[U], ca_solver.model()[R]))"
   ]
  },
  {
   "cell_type": "code",
   "execution_count": 7,
   "metadata": {},
   "outputs": [
    {
     "data": {
      "text/plain": [
       "[O = 4, W = 3, F = 1, U = 6, T = 7, R = 8]"
      ]
     },
     "execution_count": 7,
     "metadata": {},
     "output_type": "execute_result"
    }
   ],
   "source": [
    "ca_solver.model()"
   ]
  },
  {
   "cell_type": "code",
   "execution_count": 8,
   "metadata": {
    "scrolled": true
   },
   "outputs": [
    {
     "name": "stdout",
     "output_type": "stream",
     "text": [
      "  T W O  :    7 3 4\n",
      "+ T W O  :  + 7 3 4\n",
      "-------  :  -------\n",
      "F O U R  :  1 4 6 8\n",
      "\n",
      "  T W O  :    7 6 5\n",
      "+ T W O  :  + 7 6 5\n",
      "-------  :  -------\n",
      "F O U R  :  1 5 3 0\n",
      "\n",
      "  T W O  :    8 3 6\n",
      "+ T W O  :  + 8 3 6\n",
      "-------  :  -------\n",
      "F O U R  :  1 6 7 2\n",
      "\n",
      "  T W O  :    8 4 6\n",
      "+ T W O  :  + 8 4 6\n",
      "-------  :  -------\n",
      "F O U R  :  1 6 9 2\n",
      "\n",
      "  T W O  :    8 6 7\n",
      "+ T W O  :  + 8 6 7\n",
      "-------  :  -------\n",
      "F O U R  :  1 7 3 4\n",
      "\n",
      "  T W O  :    9 2 8\n",
      "+ T W O  :  + 9 2 8\n",
      "-------  :  -------\n",
      "F O U R  :  1 8 5 6\n",
      "\n",
      "  T W O  :    9 3 8\n",
      "+ T W O  :  + 9 3 8\n",
      "-------  :  -------\n",
      "F O U R  :  1 8 7 6\n",
      "\n"
     ]
    }
   ],
   "source": [
    "def print_solution(ca_solver):\n",
    "    print(\"  T W O  :    {} {} {}\".format(ca_solver.model()[T], ca_solver.model()[W], ca_solver.model()[O]))\n",
    "    print(\"+ T W O  :  + {} {} {}\".format(ca_solver.model()[T], ca_solver.model()[W], ca_solver.model()[O]))\n",
    "    print(\"-------  :  -------\")\n",
    "    print(\"F O U R  :  {} {} {} {}\".format(ca_solver.model()[F], ca_solver.model()[O], ca_solver.model()[U], ca_solver.model()[R]))    \n",
    "    print(\"\")\n",
    "\n",
    "try:\n",
    "    ca_solver.push()\n",
    "    while str(ca_solver.check()) == 'sat':\n",
    "        # print(ca_solver.check(), type(ca_solver.check()))  # sat <class 'z3.z3.CheckSatResult'>\n",
    "        print_solution(ca_solver)\n",
    "        ca_solver.add(Or(\n",
    "            F != ca_solver.model()[F], \n",
    "            O != ca_solver.model()[O], \n",
    "            U != ca_solver.model()[U], \n",
    "            R != ca_solver.model()[R], \n",
    "            T != ca_solver.model()[T], \n",
    "            W != ca_solver.model()[W], \n",
    "        ))\n",
    "except Exception as exception:\n",
    "    print(exception)\n",
    "    ca_solver.pop()"
   ]
  },
  {
   "cell_type": "code",
   "execution_count": 9,
   "metadata": {},
   "outputs": [
    {
     "name": "stdout",
     "output_type": "stream",
     "text": [
      "== all solutions found ==\n"
     ]
    }
   ],
   "source": [
    "def word1_x_word2_output():\n",
    "    solver  = Solver()  # create an instance of a Z3 CSP solver\n",
    "    letters = (W,O,R,D,_1,_2,U,T,P,I,N,G,S) = Ints('W O R D 1 2 U T P I N G S')\n",
    "    words   = (WORD1, WORD2, OUTPUTS)       = Ints('WORD1 WORD2 OUTPUTS')\n",
    "    solver.add(Distinct(*words))\n",
    "    solver.add(Distinct(*letters))\n",
    "    for letter in letters: solver.add(0 <= letter, letter <= 9)\n",
    "    solver.add(O != 0, W != 0)\n",
    "        \n",
    "    solver.add(WORD1   == Sum(*[s*10**i for i,s in enumerate(reversed([W,O,R,D,_1])) ]))\n",
    "    solver.add(WORD2   == Sum(*[s*10**i for i,s in enumerate(reversed([W,O,R,D,_2])) ]))\n",
    "    solver.add(OUTPUTS == Sum(*[s*10**i for i,s in enumerate(reversed([O,U,T,P,U,T,S ])) ]))\n",
    "    solver.add(WORD1 * WORD2 == OUTPUTS)\n",
    "\n",
    "    while str(solver.check()) == 'sat':\n",
    "        print({ str(s): solver.model()[s] for s in words })   \n",
    "        solver.add(Or(*[s != solver.model()[s] for s in words]))\n",
    "    print('== all solutions found ==')\n",
    "\n",
    "word1_x_word2_output()"
   ]
  },
  {
   "cell_type": "markdown",
   "metadata": {},
   "source": [
    "### Cryptarithmetic Challenges\n",
    "0. Search online for [more cryptarithmetic puzzles](https://www.reddit.com/r/dailyprogrammer/comments/7p5p2o/20180108_challenge_346_easy_cryptarithmetic_solver/) (or create your own). Come to office hours or join a discussion channel to chat with your peers about the trade-offs between monolithic constraints & splitting up the constraints. (Is one way or another easier to generalize or scale with new problems? Is one of them faster for large or small problems?)\n",
    "0. Can you extend the solution to handle complex puzzles (e.g., using multiplication WORD1 x WORD2 = OUTPUT)?"
   ]
  },
  {
   "cell_type": "code",
   "execution_count": 10,
   "metadata": {},
   "outputs": [],
   "source": [
    "__builtins__.Z3_LIB_DIRS = ['/home/workspace/z3/bin']\n",
    "from z3 import *\n",
    "import string\n",
    "import re\n",
    "import time\n",
    "\n",
    "def cryptarithmetic(input: str, limit=None, unique=True):\n",
    "    start_time  = time.perf_counter()\n",
    "    solver      = Solver()\n",
    "    token_words = re.findall(r'\\b[a-zA-Z]\\w*\\b', input)  # words must start with a letter\n",
    "    \n",
    "    letters = { l: Int(l) for l in list(\"\".join(token_words)) }\n",
    "    words   = { w: Int(w) for w in list(token_words)          }  \n",
    "\n",
    "    # Constraint: convert letters to numbers    \n",
    "    for l,s in letters.items(): solver.add(0 <= s, s <= 9)\n",
    "\n",
    "    # Constraint: letters must be unique (optional)\n",
    "    if unique and len(letters) <= 10: \n",
    "        solver.add(Distinct(*letters.values()))\n",
    "\n",
    "    # Constraint: words must be unique\n",
    "    solver.add(Distinct(*words.values()))\n",
    "    \n",
    "    # Constraint: first letter of words must not be zero    \n",
    "    for word in words.keys():\n",
    "        solver.add( letters[word[0]] != 0 )        \n",
    "        \n",
    "    # Constraint: convert words to decimal values  \n",
    "    for word, word_symbol in words.items():\n",
    "        solver.add(word_symbol == Sum(*[\n",
    "            letter_symbol * 10**index \n",
    "            for index,letter_symbol in enumerate(reversed([\n",
    "                letters[l] for l in list(word)    \n",
    "            ])) \n",
    "        ]))\n",
    "\n",
    "    # Constraint: problem definition as defined by input\n",
    "    solver.add(eval(input, None, words))\n",
    "    \n",
    "    solutions = []\n",
    "    print(input)    \n",
    "    while str(solver.check()) == 'sat':\n",
    "        solutions.append({ str(s): solver.model()[s] for w,s in words.items() })\n",
    "        print(solutions[-1])   \n",
    "        solver.add(Or(*[ s != solver.model()[s] for w,s in words.items() ]))\n",
    "        if limit and len(solutions) >= limit: break\n",
    "\n",
    "    run_time = round(time.perf_counter() - start_time, 1)\n",
    "    print(f'== {len(solutions)} solutions found in {run_time}s ==\\n')\n",
    "    return solutions"
   ]
  },
  {
   "cell_type": "code",
   "execution_count": 11,
   "metadata": {},
   "outputs": [
    {
     "name": "stdout",
     "output_type": "stream",
     "text": [
      "XY - X == YX\n",
      "{'XY': 98, 'X': 9, 'YX': 89}\n",
      "== 1 solutions found in 0.0s ==\n",
      "\n",
      "TWO + TWO == FOUR\n",
      "{'TWO': 846, 'FOUR': 1692}\n",
      "{'TWO': 734, 'FOUR': 1468}\n",
      "{'TWO': 765, 'FOUR': 1530}\n",
      "{'TWO': 836, 'FOUR': 1672}\n",
      "{'TWO': 867, 'FOUR': 1734}\n",
      "{'TWO': 928, 'FOUR': 1856}\n",
      "{'TWO': 938, 'FOUR': 1876}\n",
      "== 7 solutions found in 1.5s ==\n",
      "\n",
      "ONE * TWO == THREE\n",
      "{'ONE': 105, 'TWO': 271, 'THREE': 28455}\n",
      "== 1 solutions found in 0.3s ==\n",
      "\n",
      "X / Y == 2\n",
      "{'X': 2, 'Y': 1}\n",
      "{'X': 4, 'Y': 2}\n",
      "{'X': 6, 'Y': 3}\n",
      "{'X': 5, 'Y': 2}\n",
      "{'X': 7, 'Y': 3}\n",
      "{'X': 8, 'Y': 3}\n",
      "{'X': 8, 'Y': 4}\n",
      "{'X': 9, 'Y': 4}\n",
      "== 8 solutions found in 0.0s ==\n",
      "\n",
      "Y == A * X + B\n",
      "{'Y': 5, 'A': 1, 'X': 2, 'B': 3}\n",
      "{'Y': 5, 'A': 3, 'X': 1, 'B': 2}\n",
      "{'Y': 6, 'A': 4, 'X': 1, 'B': 2}\n",
      "{'Y': 9, 'A': 7, 'X': 1, 'B': 2}\n",
      "{'Y': 8, 'A': 6, 'X': 1, 'B': 2}\n",
      "{'Y': 7, 'A': 5, 'X': 1, 'B': 2}\n",
      "{'Y': 7, 'A': 1, 'X': 3, 'B': 4}\n",
      "{'Y': 8, 'A': 1, 'X': 3, 'B': 5}\n",
      "{'Y': 9, 'A': 1, 'X': 4, 'B': 5}\n",
      "{'Y': 9, 'A': 1, 'X': 3, 'B': 6}\n",
      "{'Y': 9, 'A': 1, 'X': 2, 'B': 7}\n",
      "{'Y': 9, 'A': 5, 'X': 1, 'B': 4}\n",
      "{'Y': 9, 'A': 4, 'X': 1, 'B': 5}\n",
      "{'Y': 9, 'A': 3, 'X': 1, 'B': 6}\n",
      "{'Y': 9, 'A': 2, 'X': 1, 'B': 7}\n",
      "{'Y': 9, 'A': 6, 'X': 1, 'B': 3}\n",
      "{'Y': 9, 'A': 2, 'X': 4, 'B': 1}\n",
      "{'Y': 9, 'A': 1, 'X': 7, 'B': 2}\n",
      "{'Y': 9, 'A': 1, 'X': 5, 'B': 4}\n",
      "{'Y': 9, 'A': 1, 'X': 6, 'B': 3}\n",
      "{'Y': 9, 'A': 4, 'X': 2, 'B': 1}\n",
      "{'Y': 8, 'A': 1, 'X': 5, 'B': 3}\n",
      "{'Y': 7, 'A': 1, 'X': 4, 'B': 3}\n",
      "{'Y': 8, 'A': 1, 'X': 6, 'B': 2}\n",
      "{'Y': 7, 'A': 1, 'X': 5, 'B': 2}\n",
      "{'Y': 6, 'A': 1, 'X': 4, 'B': 2}\n",
      "{'Y': 5, 'A': 1, 'X': 3, 'B': 2}\n",
      "{'Y': 6, 'A': 1, 'X': 2, 'B': 4}\n",
      "{'Y': 8, 'A': 1, 'X': 2, 'B': 6}\n",
      "{'Y': 7, 'A': 1, 'X': 2, 'B': 5}\n",
      "{'Y': 7, 'A': 2, 'X': 3, 'B': 1}\n",
      "{'Y': 6, 'A': 2, 'X': 1, 'B': 4}\n",
      "{'Y': 7, 'A': 2, 'X': 1, 'B': 5}\n",
      "{'Y': 8, 'A': 2, 'X': 1, 'B': 6}\n",
      "{'Y': 8, 'A': 3, 'X': 1, 'B': 5}\n",
      "{'Y': 7, 'A': 3, 'X': 1, 'B': 4}\n",
      "{'Y': 7, 'A': 4, 'X': 1, 'B': 3}\n",
      "{'Y': 8, 'A': 5, 'X': 1, 'B': 3}\n",
      "{'Y': 5, 'A': 2, 'X': 1, 'B': 3}\n",
      "{'Y': 7, 'A': 3, 'X': 2, 'B': 1}\n",
      "== 40 solutions found in 0.1s ==\n",
      "\n",
      "EIGHT - FOUR == FOUR\n",
      "{'EIGHT': 15864, 'FOUR': 7932}\n",
      "{'EIGHT': 17064, 'FOUR': 8532}\n",
      "{'EIGHT': 17046, 'FOUR': 8523}\n",
      "{'EIGHT': 17092, 'FOUR': 8546}\n",
      "== 4 solutions found in 22.0s ==\n",
      "\n",
      "( FOUR - TWO ) * ( NINE - ONE ) + TWO == EIGHTEEN\n",
      "{'FOUR': 7255, 'TWO': 512, 'NINE': 2421, 'ONE': 221, 'EIGHTEEN': 14835112}\n",
      "{'FOUR': 3543, 'TWO': 315, 'NINE': 5651, 'ONE': 551, 'EIGHTEEN': 16463115}\n",
      "{'FOUR': 7231, 'TWO': 412, 'NINE': 2521, 'ONE': 221, 'EIGHTEEN': 15684112}\n",
      "== 3 solutions found in 44.7s ==\n",
      "\n"
     ]
    }
   ],
   "source": [
    "cryptarithmetic('XY - X == YX')\n",
    "cryptarithmetic('TWO + TWO == FOUR')\n",
    "cryptarithmetic('ONE * TWO == THREE', limit=1)\n",
    "cryptarithmetic('X / Y == 2')  # Division by 2 is rounded\n",
    "cryptarithmetic(\"Y == A * X + B\")\n",
    "cryptarithmetic('EIGHT - FOUR == FOUR', limit=4)\n",
    "cryptarithmetic('( FOUR - TWO ) * ( NINE - ONE ) + TWO == EIGHTEEN', limit=3)\n",
    "pass"
   ]
  },
  {
   "cell_type": "code",
   "execution_count": 12,
   "metadata": {},
   "outputs": [
    {
     "name": "stdout",
     "output_type": "stream",
     "text": [
      "A**2 + B**2 == C**2\n",
      "{'A': 4, 'B': 3, 'C': 5}\n",
      "{'A': 3, 'B': 4, 'C': 5}\n",
      "== 2 solutions found in 0.2s ==\n",
      "\n",
      "A**2 + B**2 == CD**2\n",
      "{'A': 6, 'B': 8, 'CD': 10}\n",
      "{'A': 8, 'B': 6, 'CD': 10}\n",
      "== 2 solutions found in 0.1s ==\n",
      "\n"
     ]
    },
    {
     "data": {
      "text/plain": [
       "[{'A': 6, 'B': 8, 'CD': 10}, {'A': 8, 'B': 6, 'CD': 10}]"
      ]
     },
     "execution_count": 12,
     "metadata": {},
     "output_type": "execute_result"
    }
   ],
   "source": [
    "cryptarithmetic(\"A**2 + B**2 == C**2\",  unique=False)\n",
    "cryptarithmetic(\"A**2 + B**2 == CD**2\", unique=False)"
   ]
  },
  {
   "cell_type": "code",
   "execution_count": null,
   "metadata": {
    "scrolled": true
   },
   "outputs": [
    {
     "name": "stdout",
     "output_type": "stream",
     "text": [
      "WHAT + WAS + THY == CAUSE\n",
      "{'WHAT': 9206, 'WAS': 903, 'THY': 625, 'CAUSE': 10734}\n",
      "== 1 solutions found in 0.3s ==\n",
      "\n",
      "HIS + HORSE + IS == SLAIN\n",
      "{'HIS': 354, 'HORSE': 39748, 'IS': 54, 'SLAIN': 40156}\n",
      "== 1 solutions found in 0.1s ==\n",
      "\n",
      "HERE + SHE == COMES\n",
      "{'HERE': 9454, 'SHE': 894, 'COMES': 10348}\n",
      "== 1 solutions found in 0.0s ==\n",
      "\n",
      "FOR + LACK + OF == TREAD\n",
      "{'FOR': 540, 'LACK': 9678, 'OF': 45, 'TREAD': 10263}\n",
      "== 1 solutions found in 0.7s ==\n",
      "\n",
      "I + WILL + PAY + THE == THEFT\n",
      "{'I': 8, 'WILL': 9833, 'PAY': 526, 'THE': 104, 'THEFT': 10471}\n",
      "== 1 solutions found in 1.0s ==\n",
      "\n",
      "TEN + HERONS + REST + NEAR + NORTH + SEA + SHORE + AS + TAN + TERNS + SOAR + TO + ENTER + THERE + AS + HERONS + NEST + ON + STONES + AT + SHORE + THREE + STARS + ARE + SEEN + TERN + SNORES + ARE + NEAR == SEVVOTH\n",
      "{'TEN': 957, 'HERONS': 356471, 'REST': 6519, 'NEAR': 7526, 'NORTH': 74693, 'SEA': 152, 'SHORE': 13465, 'AS': 21, 'TAN': 927, 'TERNS': 95671, 'SOAR': 1426, 'TO': 94, 'ENTER': 57956, 'THERE': 93565, 'NEST': 7519, 'ON': 47, 'STONES': 194751, 'AT': 29, 'THREE': 93655, 'STARS': 19261, 'ARE': 265, 'SEEN': 1557, 'TERN': 9567, 'SNORES': 174651, 'SEVVOTH': 1588493}\n",
      "== 1 solutions found in 451.9s ==\n",
      "\n",
      "SO + MANY + MORE + MEN + SEEM + TO + SAY + THAT + THEY + MAY + SOON + TRY + TO + STAY + AT + HOME +  SO + AS + TO + SEE + OR + HEAR + THE + SAME + ONE + MAN + TRY + TO + MEET + THE + TEAM + ON + THE + MOON + AS + HE + HAS + AT + THE + OTHER + TEN == TESTS\n",
      "{'SO': 31, 'MANY': 2764, 'MORE': 2180, 'MEN': 206, 'SEEM': 3002, 'TO': 91, 'SAY': 374, 'THAT': 9579, 'THEY': 9504, 'MAY': 274, 'SOON': 3116, 'TRY': 984, 'STAY': 3974, 'AT': 79, 'HOME': 5120, 'AS': 73, 'SEE': 300, 'OR': 18, 'HEAR': 5078, 'THE': 950, 'SAME': 3720, 'ONE': 160, 'MAN': 276, 'MEET': 2009, 'TEAM': 9072, 'ON': 16, 'MOON': 2116, 'HE': 50, 'HAS': 573, 'OTHER': 19508, 'TEN': 906, 'TESTS': 90393}\n",
      "== 1 solutions found in 96.7s ==\n",
      "\n",
      "THIS + A + FIRE + THEREFORE + FOR + ALL + HISTORIES + I + TELL + A + TALE + THAT + FALSIFIES + ITS + TITLE + TIS + A + LIE + THE + TALE + OF + THE + LAST + FIRE + HORSES + LATE + AFTER + THE + FIRST + FATHERS + FORESEE + THE + HORRORS + THE + LAST + FREE + TROLL + TERRIFIES + THE + HORSES + OF + FIRE + THE + TROLL + RESTS + AT + THE + HOLE + OF + LOSSES + IT + IS + THERE + THAT + SHE + STORES + ROLES + OF + LEATHERS + AFTER + SHE + SATISFIES + HER + HATE + OFF + THOSE + FEARS + A + TASTE + RISES + AS + SHE + HEARS + THE + LEAST + FAR + HORSE + THOSE + FAST + HORSES + THAT + FIRST + HEAR + THE + TROLL + FLEE + OFF + TO + THE + FOREST + THE + HORSES + THAT + ALERTS + RAISE + THE + STARES + OF + THE + OTHERS + AS + THE + TROLL + ASSAILS + AT + THE + TOTAL + SHIFT + HER + TEETH + TEAR + HOOF + OFF + TORSO + AS + THE + LAST + HORSE + FORFEITS + ITS + LIFE + THE + FIRST + FATHERS + HEAR + OF + THE + HORRORS + THEIR + FEARS + THAT + THE + FIRES + FOR + THEIR + FEASTS + ARREST + AS + THE + FIRST + FATHERS + RESETTLE + THE + LAST + OF + THE + FIRE + HORSES + THE + LAST + TROLL + HARASSES + THE + FOREST + HEART + FREE + AT + LAST + OF + THE + LAST + TROLL + ALL + OFFER + THEIR + FIRE + HEAT + TO + THE + ASSISTERS + FAR + OFF + THE + TROLL + FASTS + ITS + LIFE + SHORTER + AS + STARS + RISE + THE + HORSES + REST + SAFE + AFTER + ALL + SHARE + HOT + FISH + AS + THEIR + AFFILIATES + TAILOR + A + ROOFS + FOR + THEIR + SAFE == FORTRESSES\n"
     ]
    }
   ],
   "source": [
    "# Competition: https://www.reddit.com/r/dailyprogrammer/comments/7p5p2o/20180108_challenge_346_easy_cryptarithmetic_solver/\n",
    "challenges = [\n",
    "    \"WHAT + WAS + THY == CAUSE\",\n",
    "    \"HIS + HORSE + IS == SLAIN\",\n",
    "    \"HERE + SHE == COMES\",\n",
    "    \"FOR + LACK + OF == TREAD\",\n",
    "    \"I + WILL + PAY + THE == THEFT\",\n",
    "    \"TEN + HERONS + REST + NEAR + NORTH + SEA + SHORE + AS + TAN + TERNS + SOAR + TO + ENTER + THERE + AS + HERONS + NEST + ON + STONES + AT + SHORE + THREE + STARS + ARE + SEEN + TERN + SNORES + ARE + NEAR == SEVVOTH\",\n",
    "    \"SO + MANY + MORE + MEN + SEEM + TO + SAY + THAT + THEY + MAY + SOON + TRY + TO + STAY + AT + HOME +  SO + AS + TO + SEE + OR + HEAR + THE + SAME + ONE + MAN + TRY + TO + MEET + THE + TEAM + ON + THE + MOON + AS + HE + HAS + AT + THE + OTHER + TEN == TESTS\",\n",
    "]\n",
    "for challenge in challenges:\n",
    "    cryptarithmetic(challenge, limit=1)    "
   ]
  },
  {
   "cell_type": "code",
   "execution_count": null,
   "metadata": {},
   "outputs": [],
   "source": [
    "challenges = [\n",
    "    \"THIS + A + FIRE + THEREFORE + FOR + ALL + HISTORIES + I + TELL + A + TALE + THAT + FALSIFIES + ITS + TITLE + TIS + A + LIE + THE + TALE + OF + THE + LAST + FIRE + HORSES + LATE + AFTER + THE + FIRST + FATHERS + FORESEE + THE + HORRORS + THE + LAST + FREE + TROLL + TERRIFIES + THE + HORSES + OF + FIRE + THE + TROLL + RESTS + AT + THE + HOLE + OF + LOSSES + IT + IS + THERE + THAT + SHE + STORES + ROLES + OF + LEATHERS + AFTER + SHE + SATISFIES + HER + HATE + OFF + THOSE + FEARS + A + TASTE + RISES + AS + SHE + HEARS + THE + LEAST + FAR + HORSE + THOSE + FAST + HORSES + THAT + FIRST + HEAR + THE + TROLL + FLEE + OFF + TO + THE + FOREST + THE + HORSES + THAT + ALERTS + RAISE + THE + STARES + OF + THE + OTHERS + AS + THE + TROLL + ASSAILS + AT + THE + TOTAL + SHIFT + HER + TEETH + TEAR + HOOF + OFF + TORSO + AS + THE + LAST + HORSE + FORFEITS + ITS + LIFE + THE + FIRST + FATHERS + HEAR + OF + THE + HORRORS + THEIR + FEARS + THAT + THE + FIRES + FOR + THEIR + FEASTS + ARREST + AS + THE + FIRST + FATHERS + RESETTLE + THE + LAST + OF + THE + FIRE + HORSES + THE + LAST + TROLL + HARASSES + THE + FOREST + HEART + FREE + AT + LAST + OF + THE + LAST + TROLL + ALL + OFFER + THEIR + FIRE + HEAT + TO + THE + ASSISTERS + FAR + OFF + THE + TROLL + FASTS + ITS + LIFE + SHORTER + AS + STARS + RISE + THE + HORSES + REST + SAFE + AFTER + ALL + SHARE + HOT + FISH + AS + THEIR + AFFILIATES + TAILOR + A + ROOFS + FOR + THEIR + SAFE == FORTRESSES\",\n",
    "]\n",
    "for challenge in challenges:\n",
    "    cryptarithmetic(challenge, limit=1)    "
   ]
  },
  {
   "cell_type": "markdown",
   "metadata": {},
   "source": [
    "---\n",
    "## II. Map Coloring\n",
    "\n",
    "[Map coloring](https://en.wikipedia.org/wiki/Map_coloring) is a classic example of CSPs. A map coloring problem is specified by a set of colors and a map showing the borders between distinct regions. A solution to a map coloring problem is an assignment of one color to each region of the map such that no pair of adjacent regions have the same color.\n",
    "\n",
    "Run the first cell below to declare the color palette and a solver. The color palette specifies a mapping from integer to color. We'll use integers to represent the values in each constraint; then we can decode the solution from Z3 to determine the color applied to each region in the map.\n",
    "\n",
    "![Map coloring is a classic example CSP](map.png)"
   ]
  },
  {
   "cell_type": "code",
   "execution_count": 7,
   "metadata": {},
   "outputs": [],
   "source": [
    "# create instance of Z3 solver & declare color palette\n",
    "mc_solver = Solver()\n",
    "colors = {'0': \"Blue\", '1': \"Red\", '2': \"Green\", '3': \"Purple\"}"
   ]
  },
  {
   "cell_type": "markdown",
   "metadata": {},
   "source": [
    "### IMPLEMENTATION: Add Variables\n",
    "Add a variable to represent each region on the map above. Use the abbreviated name for the regions: WA=Western Australia, SA=Southern Australia, NT=Northern Territory, Q=Queensland, NSW=New South Wales, V=Victoria, T=Tasmania. Add constraints to each variable to restrict it to one of the available colors: 0=Blue, 1=Red, 2=Green."
   ]
  },
  {
   "cell_type": "code",
   "execution_count": 8,
   "metadata": {},
   "outputs": [],
   "source": [
    "regions = (WA, NT, SA, Q, NSW, V, T) = Ints(\"WA NT SA Q NSW V T\")\n",
    "neighbours = {\n",
    "    WA:  [NT, SA],\n",
    "    NT:  [WA, SA, Q],\n",
    "    SA:  [WA, NT, Q, NSW, V, T],\n",
    "    NSW: [Q,SA, V],\n",
    "    Q:   [NT, SA, NSW],\n",
    "    V:   [SA, NSW, T],    \n",
    "    T:   [V]\n",
    "}"
   ]
  },
  {
   "cell_type": "markdown",
   "metadata": {},
   "source": [
    "### IMPLEMENTATION: Distinct Adjacent Colors Constraints\n",
    "As in the previous example, there are many valid ways to add constraints that enforce assigning different colors to adjacent regions of the map. One way is to add boolean constraints for each pair of adjacent regions, e.g., WA != SA; WA != NT; etc.\n",
    "\n",
    "Another way is to use so-called pseudo-boolean cardinality constraint, which is a constraint of the form $ \\sum w_i l_i = k $. Constraints of this form can be created in Z3 using `PbEq(((booleanA, w_A), (booleanB, w_B), ...), k)`. Distinct neighbors can be written with k=0, and w_i = 1 for all values of i. (Note: Z3 also has `PbLe()` for $\\sum w_i l_i <= k $ and `PbGe()` for $\\sum w_i l_i >= k $)\n",
    "\n",
    "Choose one of the encodings discussed above and add the required constraints to the solver in the next cell."
   ]
  },
  {
   "cell_type": "code",
   "execution_count": 9,
   "metadata": {},
   "outputs": [],
   "source": [
    "for region, neighbour in neighbours.items():\n",
    "    for n in neighbour:\n",
    "        mc_solver.add(region != n)    \n",
    "    \n",
    "color_count = 0\n",
    "while True:\n",
    "    mc_solver.push()\n",
    "    for region in regions: \n",
    "        mc_solver.add(0 <= region, region < color_count)    \n",
    "    if mc_solver.check() == sat:\n",
    "        break\n",
    "    else: \n",
    "        mc_solver.pop()\n",
    "        color_count += 1"
   ]
  },
  {
   "cell_type": "code",
   "execution_count": 10,
   "metadata": {},
   "outputs": [
    {
     "name": "stdout",
     "output_type": "stream",
     "text": [
      "WA=Blue\n",
      "NT=Green\n",
      "SA=Red\n",
      "Q=Blue\n",
      "NSW=Green\n",
      "V=Blue\n",
      "T=Green\n"
     ]
    }
   ],
   "source": [
    "assert mc_solver.check() == sat, \"Uh oh. The solver failed to find a solution. Check your constraints.\"\n",
    "print(\"WA={}\".format(colors[mc_solver.model()[WA].as_string()]))\n",
    "print(\"NT={}\".format(colors[mc_solver.model()[NT].as_string()]))\n",
    "print(\"SA={}\".format(colors[mc_solver.model()[SA].as_string()]))\n",
    "print(\"Q={}\".format(colors[mc_solver.model()[Q].as_string()]))\n",
    "print(\"NSW={}\".format(colors[mc_solver.model()[NSW].as_string()]))\n",
    "print(\"V={}\".format(colors[mc_solver.model()[V].as_string()]))\n",
    "print(\"T={}\".format(colors[mc_solver.model()[T].as_string()]))"
   ]
  },
  {
   "cell_type": "markdown",
   "metadata": {
    "collapsed": true
   },
   "source": [
    "#### Map Coloring Challenge Problems\n",
    "1. Generalize the procedure for this problem and try it on a larger map (countries in Africa, states in the USA, etc.)\n",
    "2. Extend your procedure to perform [graph coloring](https://en.wikipedia.org/wiki/Graph_coloring) (maps are planar graphs; extending to all graphs generalizes the concept of \"neighbors\" to any pair of connected nodes). (Note: graph coloring is [NP-hard](https://en.wikipedia.org/wiki/Graph_coloring#Computational_complexity), so it may take a very long time to color large graphs.)"
   ]
  },
  {
   "cell_type": "markdown",
   "metadata": {},
   "source": [
    "---\n",
    "## III. N-Queens\n",
    "\n",
    "In the next problem domain you'll solve the 8-queens puzzle, then use it to explore the complexity of solving CSPs. The 8-queens problem asks you to place 8 queens on a standard 8x8 chessboard such that none of the queens are in \"check\" (i.e., no two queens occupy the same row, column, or diagonal). The N-queens problem generalizes the puzzle to to any size square board.\n",
    "\n",
    "![The 8-queens problem is another classic CSP example](EightQueens.gif)\n",
    "\n",
    "There are many acceptable ways to represent the N-queens problem, but one convenient way is to recognize that one of the constraints (either the row or column constraint) can be enforced implicitly by the encoding.  If we represent a solution as an array with N elements, then each position in the array can represent a column of the board, and the value at each position can represent which row the queen is placed on.\n",
    "\n",
    "In this encoding, we only need a constraint to make sure that no two queens occupy the same row, and one to make sure that no two queens occupy the same diagonal.\n",
    "\n",
    "#### IMPLEMENTATION: N-Queens Solver\n",
    "Complete the function below to take an integer N >= 5 and return a Z3 solver instance with appropriate constraints to solve the N-Queens problem. NOTE: it may take a few minutes for the solver to complete the suggested sizes below."
   ]
  },
  {
   "cell_type": "code",
   "execution_count": 11,
   "metadata": {},
   "outputs": [],
   "source": [
    "def display_board(N, queens):\n",
    "    print('-'*(N*2+1))\n",
    "    for i in range(N):\n",
    "        print('|' + \"|\".join([ 'Q' if (i,j) in queens else ' ' for j in range(N) ]) + '|')\n",
    "        print('-'*(N*2+1))\n"
   ]
  },
  {
   "cell_type": "code",
   "execution_count": 34,
   "metadata": {},
   "outputs": [
    {
     "name": "stdout",
     "output_type": "stream",
     "text": [
      "sat\n",
      "\n",
      "1 [(0, 12), (1, 7), (2, 4), (3, 1), (4, 9), (5, 13), (6, 5), (7, 0), (8, 8), (9, 10), (10, 14), (11, 3), (12, 15), (13, 2), (14, 11), (15, 6)]\n",
      "---------------------------------\n",
      "| | | | | | | | | | | | |Q| | | |\n",
      "---------------------------------\n",
      "| | | | | | | |Q| | | | | | | | |\n",
      "---------------------------------\n",
      "| | | | |Q| | | | | | | | | | | |\n",
      "---------------------------------\n",
      "| |Q| | | | | | | | | | | | | | |\n",
      "---------------------------------\n",
      "| | | | | | | | | |Q| | | | | | |\n",
      "---------------------------------\n",
      "| | | | | | | | | | | | | |Q| | |\n",
      "---------------------------------\n",
      "| | | | | |Q| | | | | | | | | | |\n",
      "---------------------------------\n",
      "|Q| | | | | | | | | | | | | | | |\n",
      "---------------------------------\n",
      "| | | | | | | | |Q| | | | | | | |\n",
      "---------------------------------\n",
      "| | | | | | | | | | |Q| | | | | |\n",
      "---------------------------------\n",
      "| | | | | | | | | | | | | | |Q| |\n",
      "---------------------------------\n",
      "| | | |Q| | | | | | | | | | | | |\n",
      "---------------------------------\n",
      "| | | | | | | | | | | | | | | |Q|\n",
      "---------------------------------\n",
      "| | |Q| | | | | | | | | | | | | |\n",
      "---------------------------------\n",
      "| | | | | | | | | | | |Q| | | | |\n",
      "---------------------------------\n",
      "| | | | | | |Q| | | | | | | | | |\n",
      "---------------------------------\n"
     ]
    }
   ],
   "source": [
    "def nqueens_rows(N):\n",
    "    solver = Solver()\n",
    "    rows   = [ Int(str(f'r{n}')) for n in range(N) ]\n",
    "    \n",
    "    for row in rows:\n",
    "        solver.add(0 <= row, row < N)\n",
    "    solver.add(Distinct(rows)) \n",
    "\n",
    "    solver.add(Distinct([ row - index for index, row in enumerate(rows) ]))  # (0,0), (1,1), (2,2) \n",
    "    solver.add(Distinct([ row + index for index, row in enumerate(rows) ]))  # (0,4), (1,3), (2,2)    \n",
    "\n",
    "    return solver\n",
    "    \n",
    "count = 0\n",
    "N = 16\n",
    "nq_solver = nqueens_rows(N)\n",
    "print(nq_solver.check())\n",
    "if nq_solver.check() == sat:\n",
    "    count  += 1\n",
    "    model   = nq_solver.model()\n",
    "    answers = { str(row): model[row] for row in model }    \n",
    "    queens  = [ ( index, answers[f'r{index}'] )  for index in range(N) ]\n",
    "    print()    \n",
    "    print(count, queens)\n",
    "    display_board(N, queens)   \n",
    "    \n",
    "#     # Remove solution from list of constraints and loop\n",
    "#     nq_solver.push()\n",
    "#     nq_solver.add(Or(*[ row != model[row] for row in model ]))            \n",
    "# nq_solver.pop()    \n",
    "\n",
    "# print(nq_solver.model())\n",
    "# print(nq_solver)"
   ]
  },
  {
   "cell_type": "code",
   "execution_count": 43,
   "metadata": {},
   "outputs": [
    {
     "name": "stdout",
     "output_type": "stream",
     "text": [
      "5 sat\n",
      "\n",
      "1 [(0, 1), (1, 4), (2, 2), (3, 0), (4, 3)]\n",
      "-----------\n",
      "| |Q| | | |\n",
      "-----------\n",
      "| | | | |Q|\n",
      "-----------\n",
      "| | |Q| | |\n",
      "-----------\n",
      "|Q| | | | |\n",
      "-----------\n",
      "| | | |Q| |\n",
      "-----------\n"
     ]
    }
   ],
   "source": [
    "def nqueens_squares(N):\n",
    "    solver = Solver()\n",
    "    queens = [ IntVector(f'Q{i}', 2) for i in range(N) ]\n",
    "    \n",
    "    for n, queen in enumerate(queens):\n",
    "        solver.add(\n",
    "            0 <= queen[0], \n",
    "            0 <= queen[1], \n",
    "            queen[0] == n,  # queen[0] < N, \n",
    "            queen[1] < N\n",
    "        )\n",
    "    solver.add(Distinct(*[ queen[0] for queen in queens ]))  # rows \n",
    "    solver.add(Distinct(*[ queen[1] for queen in queens ]))  # columns\n",
    "    \n",
    "    for queen in queens:\n",
    "        for other in queens:\n",
    "            if other == queen: continue\n",
    "            solver.add(queen[0] != other[0])  # rows\n",
    "            solver.add(queen[1] != other[1])  # columns\n",
    "    # diagonals\n",
    "    solver.add(Distinct(*[ queen[0] - queen[1] for queen in queens ]))  # (0,0), (1,1), (2,2) \n",
    "    solver.add(Distinct(*[ queen[0] + queen[1] for queen in queens ]))  # (0,4), (1,3), (2,2)\n",
    "    return solver, queens\n",
    "    \n",
    "\n",
    "N = 5\n",
    "nq_solver, queens = nqueens_squares(N)\n",
    "print(N, nq_solver.check())\n",
    "count = 0\n",
    "if nq_solver.check() == sat:\n",
    "    count  += 1\n",
    "    model   = nq_solver.model()\n",
    "    \n",
    "    answers = { str(queen): model[queen] for queen in model}\n",
    "    board   = [ ( answers[f'Q{n}__0'], answers[f'Q{n}__1'] ) for n in range(0,N) ]\n",
    "    print()        \n",
    "    print(count, board)\n",
    "    display_board(N, board)\n",
    "    \n",
    "#     # Remove solution from list of constraints and loop\n",
    "#     nq_solver.push()\n",
    "#     nq_solver.add(Or(*[ \n",
    "#         queen != model[queen]\n",
    "#         for queen in queens \n",
    "#     ]))            \n",
    "# nq_solver.pop()    \n",
    "# # print(nq_solver)    "
   ]
  },
  {
   "cell_type": "code",
   "execution_count": 14,
   "metadata": {},
   "outputs": [
    {
     "name": "stdout",
     "output_type": "stream",
     "text": [
      "4-queens: 7.78ms\n",
      "8-queens: 13.39ms\n",
      "16-queens: 196.71ms\n",
      "32-queens: 4715.97ms\n",
      "64-queens: 26308.77ms\n"
     ]
    },
    {
     "data": {
      "text/plain": [
       "[<matplotlib.lines.Line2D at 0x7fa787181be0>]"
      ]
     },
     "execution_count": 14,
     "metadata": {},
     "output_type": "execute_result"
    },
    {
     "data": {
      "image/png": "[encoded data removed]",
      "text/plain": [
       "<matplotlib.figure.Figure at 0x7fa787181470>"
      ]
     },
     "metadata": {
      "needs_background": "light"
     },
     "output_type": "display_data"
    }
   ],
   "source": [
    "# nqueens_rows(N)\n",
    "import time\n",
    "from itertools import chain\n",
    "\n",
    "runtimes  = []\n",
    "solutions = []\n",
    "sizes = [4, 8, 16, 32, 64]\n",
    "# sizes = [4,5,6,7,8,9,10,11,12]\n",
    "\n",
    "for N in sizes:\n",
    "    nq_solver = nqueens_rows(N)\n",
    "    start = time.perf_counter()\n",
    "    nq_solver.check()\n",
    "    end = time.perf_counter()\n",
    "    print(\"{}-queens: {}ms\".format(N, round((end-start) * 1000, 2)))\n",
    "    runtimes.append((end - start) * 1000)\n",
    "    solutions.append(nq_solver)\n",
    "\n",
    "plt.plot(sizes, runtimes)"
   ]
  },
  {
   "cell_type": "code",
   "execution_count": 15,
   "metadata": {},
   "outputs": [
    {
     "name": "stdout",
     "output_type": "stream",
     "text": [
      "4-queens: 9.46ms\n",
      "8-queens: 11.97ms\n",
      "16-queens: 188.57ms\n",
      "32-queens: 8798.79ms\n",
      "64-queens: 25691.73ms\n"
     ]
    },
    {
     "data": {
      "text/plain": [
       "[<matplotlib.lines.Line2D at 0x7fa78685a860>]"
      ]
     },
     "execution_count": 15,
     "metadata": {},
     "output_type": "execute_result"
    },
    {
     "data": {
      "image/png": "[encoded data removed]",
      "text/plain": [
       "<matplotlib.figure.Figure at 0x7fa787184da0>"
      ]
     },
     "metadata": {
      "needs_background": "light"
     },
     "output_type": "display_data"
    }
   ],
   "source": [
    "# nqueens_squares(N)\n",
    "import time\n",
    "from itertools import chain\n",
    "\n",
    "runtimes  = []\n",
    "solutions = []\n",
    "sizes = [4, 8, 16, 32, 64]\n",
    "\n",
    "for N in sizes:\n",
    "    nq_solver = nqueens_squares(N)\n",
    "    start = time.perf_counter()\n",
    "    nq_solver.check()\n",
    "    end = time.perf_counter()\n",
    "    print(\"{}-queens: {}ms\".format(N, round((end-start) * 1000, 2)))\n",
    "    runtimes.append((end - start) * 1000)\n",
    "    solutions.append(nq_solver)\n",
    "\n",
    "plt.plot(sizes, runtimes)"
   ]
  },
  {
   "cell_type": "markdown",
   "metadata": {},
   "source": [
    "### Queen Problem Challenges\n",
    "- Extend the loop to run several times and estimate the variance in the solver. How consistent is the solver timing between runs?\n",
    "- Read the `displayBoard()` function in the `util.py` module and use it to show your N-queens solution."
   ]
  },
  {
   "cell_type": "code",
   "execution_count": 16,
   "metadata": {},
   "outputs": [],
   "source": [
    "import numpy  as np\n",
    "import pandas as pd\n",
    "\n",
    "sizes  = [4,6,8,10,12,14,16]\n",
    "timers = { N: [] for N in sizes }\n",
    "for i in range(100):\n",
    "    for N in sizes:\n",
    "        time_start = time.perf_counter()\n",
    "        nq_solver  = nqueens_squares(N)    \n",
    "        nq_solver.check()\n",
    "        time_end   = time.perf_counter()        \n",
    "        timers[N].append(time_end - time_start)"
   ]
  },
  {
   "cell_type": "code",
   "execution_count": 17,
   "metadata": {},
   "outputs": [
    {
     "data": {
      "text/html": [
       "<div>\n",
       "<style scoped>\n",
       "    .dataframe tbody tr th:only-of-type {\n",
       "        vertical-align: middle;\n",
       "    }\n",
       "\n",
       "    .dataframe tbody tr th {\n",
       "        vertical-align: top;\n",
       "    }\n",
       "\n",
       "    .dataframe thead th {\n",
       "        text-align: right;\n",
       "    }\n",
       "</style>\n",
       "<table border=\"1\" class=\"dataframe\">\n",
       "  <thead>\n",
       "    <tr style=\"text-align: right;\">\n",
       "      <th></th>\n",
       "      <th>4</th>\n",
       "      <th>6</th>\n",
       "      <th>8</th>\n",
       "      <th>10</th>\n",
       "      <th>12</th>\n",
       "      <th>14</th>\n",
       "      <th>16</th>\n",
       "    </tr>\n",
       "  </thead>\n",
       "  <tbody>\n",
       "    <tr>\n",
       "      <th>count</th>\n",
       "      <td>100.000000</td>\n",
       "      <td>100.000000</td>\n",
       "      <td>100.000000</td>\n",
       "      <td>100.000000</td>\n",
       "      <td>100.000000</td>\n",
       "      <td>100.000000</td>\n",
       "      <td>100.000000</td>\n",
       "    </tr>\n",
       "    <tr>\n",
       "      <th>mean</th>\n",
       "      <td>0.026206</td>\n",
       "      <td>0.040967</td>\n",
       "      <td>0.061339</td>\n",
       "      <td>0.093548</td>\n",
       "      <td>0.129429</td>\n",
       "      <td>0.175132</td>\n",
       "      <td>0.352325</td>\n",
       "    </tr>\n",
       "    <tr>\n",
       "      <th>std</th>\n",
       "      <td>0.002634</td>\n",
       "      <td>0.001649</td>\n",
       "      <td>0.001789</td>\n",
       "      <td>0.002662</td>\n",
       "      <td>0.003752</td>\n",
       "      <td>0.003730</td>\n",
       "      <td>0.008777</td>\n",
       "    </tr>\n",
       "    <tr>\n",
       "      <th>min</th>\n",
       "      <td>0.024808</td>\n",
       "      <td>0.039171</td>\n",
       "      <td>0.059039</td>\n",
       "      <td>0.089781</td>\n",
       "      <td>0.124432</td>\n",
       "      <td>0.169460</td>\n",
       "      <td>0.340504</td>\n",
       "    </tr>\n",
       "    <tr>\n",
       "      <th>25%</th>\n",
       "      <td>0.025308</td>\n",
       "      <td>0.039861</td>\n",
       "      <td>0.059960</td>\n",
       "      <td>0.091366</td>\n",
       "      <td>0.127017</td>\n",
       "      <td>0.172247</td>\n",
       "      <td>0.346224</td>\n",
       "    </tr>\n",
       "    <tr>\n",
       "      <th>50%</th>\n",
       "      <td>0.025577</td>\n",
       "      <td>0.040458</td>\n",
       "      <td>0.060942</td>\n",
       "      <td>0.092797</td>\n",
       "      <td>0.128314</td>\n",
       "      <td>0.174292</td>\n",
       "      <td>0.349401</td>\n",
       "    </tr>\n",
       "    <tr>\n",
       "      <th>75%</th>\n",
       "      <td>0.026384</td>\n",
       "      <td>0.041507</td>\n",
       "      <td>0.062096</td>\n",
       "      <td>0.095151</td>\n",
       "      <td>0.130474</td>\n",
       "      <td>0.177495</td>\n",
       "      <td>0.356296</td>\n",
       "    </tr>\n",
       "    <tr>\n",
       "      <th>max</th>\n",
       "      <td>0.050539</td>\n",
       "      <td>0.049622</td>\n",
       "      <td>0.067980</td>\n",
       "      <td>0.102464</td>\n",
       "      <td>0.152201</td>\n",
       "      <td>0.185540</td>\n",
       "      <td>0.389937</td>\n",
       "    </tr>\n",
       "  </tbody>\n",
       "</table>\n",
       "</div>"
      ],
      "text/plain": [
       "               4           6           8           10          12          14  \\\n",
       "count  100.000000  100.000000  100.000000  100.000000  100.000000  100.000000   \n",
       "mean     0.026206    0.040967    0.061339    0.093548    0.129429    0.175132   \n",
       "std      0.002634    0.001649    0.001789    0.002662    0.003752    0.003730   \n",
       "min      0.024808    0.039171    0.059039    0.089781    0.124432    0.169460   \n",
       "25%      0.025308    0.039861    0.059960    0.091366    0.127017    0.172247   \n",
       "50%      0.025577    0.040458    0.060942    0.092797    0.128314    0.174292   \n",
       "75%      0.026384    0.041507    0.062096    0.095151    0.130474    0.177495   \n",
       "max      0.050539    0.049622    0.067980    0.102464    0.152201    0.185540   \n",
       "\n",
       "               16  \n",
       "count  100.000000  \n",
       "mean     0.352325  \n",
       "std      0.008777  \n",
       "min      0.340504  \n",
       "25%      0.346224  \n",
       "50%      0.349401  \n",
       "75%      0.356296  \n",
       "max      0.389937  "
      ]
     },
     "execution_count": 17,
     "metadata": {},
     "output_type": "execute_result"
    }
   ],
   "source": [
    "pd.DataFrame(timers).describe()"
   ]
  },
  {
   "cell_type": "markdown",
   "metadata": {},
   "source": [
    "Z3 Solver times are consistent to +-3%"
   ]
  },
  {
   "cell_type": "code",
   "execution_count": 18,
   "metadata": {},
   "outputs": [
    {
     "data": {
      "text/plain": [
       "4     0.100497\n",
       "6     0.040251\n",
       "8     0.029170\n",
       "10    0.028458\n",
       "12    0.028990\n",
       "14    0.021298\n",
       "16    0.024913\n",
       "dtype: float64"
      ]
     },
     "execution_count": 18,
     "metadata": {},
     "output_type": "execute_result"
    }
   ],
   "source": [
    "pd.DataFrame(timers).describe().apply(lambda col: col['std']/col['mean'])"
   ]
  },
  {
   "cell_type": "markdown",
   "metadata": {},
   "source": [
    "---\n",
    "## IV. Revisiting Sudoku\n",
    "For the last CSP we'll revisit Sudoku from the first project. You previously solved Sudoku using backtracking search with constraint propagation. This time you'll re-write your solver using Z3. The backtracking search solver relied on domain-specific heuristics to select assignments during search, and to apply constraint propagation strategies (like elimination, only-choice, naked twins, etc.). The Z3 solver does not incorporate any domain-specific information, but makes up for that by incorporating a more sophisticated and a compiled solver routine.\n",
    "\n",
    "![Example of an easy sudoku puzzle](sudoku.png)"
   ]
  },
  {
   "cell_type": "code",
   "execution_count": 19,
   "metadata": {},
   "outputs": [],
   "source": [
    "from itertools import chain  # flatten nested lists; chain(*[[a, b], [c, d], ...]) == [a, b, c, d, ...]\n",
    "rows = 'ABCDEFGHI'\n",
    "cols = '123456789'\n",
    "boxes = [[Int(\"{}{}\".format(r, c)) for c in cols] for r in rows]  # declare variables for each box in the puzzle\n",
    "square_units = [ [ x+y for x in A for y in B ] for A in ('ABC','DEF','GHI') for B in ('123','456','789') ]\n"
   ]
  },
  {
   "cell_type": "markdown",
   "metadata": {},
   "source": [
    "#### IMPLEMENTATION: General Constraints\n",
    "Add constraints for each of the following conditions:\n",
    "- Boxes can only have values between 1-9 (inclusive)\n",
    "- Each box in a row must have a distinct value\n",
    "- Each box in a column must have a distinct value\n",
    "- Each box in a 3x3 block must have a distinct value"
   ]
  },
  {
   "cell_type": "code",
   "execution_count": 20,
   "metadata": {},
   "outputs": [],
   "source": [
    "def sudoku_solver(board):\n",
    "    s_solver = Solver()  # create a solver instance\n",
    "    \n",
    "    # TODO: Add constraints that every box has a value between 1-9 (inclusive)\n",
    "    s_solver.add([ And(1 <= box, box <= 9) for box in chain(*boxes) ])\n",
    "\n",
    "    # # TODO: Add constraints that every box in a row has a distinct value\n",
    "    for i in range(len(boxes)): s_solver.add(Distinct(boxes[i]))\n",
    "\n",
    "    # # TODO: Add constraints that every box in a column has a distinct value\n",
    "    for i in range(len(boxes)): s_solver.add(Distinct([ row[i] for row in boxes ]))\n",
    "\n",
    "    # TODO: Add constraints so that every box in a 3x3 block has a distinct value\n",
    "    for rows in [[0,1,2],[3,4,5],[6,7,8]]:\n",
    "        for cols in [[0,1,2],[3,4,5],[6,7,8]]:\n",
    "            s_solver.add(Distinct([ boxes[r][c] for r in rows for c in cols ]))\n",
    "            \n",
    "    # TODO: Add constraints boxes[i][j] == board[i][j] for each box where board[i][j] != 0\n",
    "    for i in range(len(board)):\n",
    "        for j in range(len(board[0])):    \n",
    "            if board[i][j] != 0:\n",
    "                # print(i,j,board[i][j])\n",
    "                s_solver.add( boxes[i][j] == board[i][j] )        \n",
    "    \n",
    "    return s_solver"
   ]
  },
  {
   "cell_type": "markdown",
   "metadata": {},
   "source": [
    "#### IMPLMENTATION: Puzzle-Specific Constraints\n",
    "Given the hints provided in the initial puzzle layout, you must also add constraints binding the box values to the specified values. For example, to solve the example puzzle you must specify A3 == 3 and B1 == 9, etc. The cells with a value of zero in the board below are \"blank\", so you should **not** create any constraint with the associate box."
   ]
  },
  {
   "cell_type": "code",
   "execution_count": 21,
   "metadata": {},
   "outputs": [],
   "source": [
    "# use the value 0 to indicate that a box does not have an assigned value\n",
    "board = ((0, 0, 3, 0, 2, 0, 6, 0, 0),\n",
    "         (9, 0, 0, 3, 0, 5, 0, 0, 1),\n",
    "         (0, 0, 1, 8, 0, 6, 4, 0, 0),\n",
    "         (0, 0, 8, 1, 0, 2, 9, 0, 0),\n",
    "         (7, 0, 0, 0, 0, 0, 0, 0, 8),\n",
    "         (0, 0, 6, 7, 0, 8, 2, 0, 0),\n",
    "         (0, 0, 2, 6, 0, 9, 5, 0, 0),\n",
    "         (8, 0, 0, 2, 0, 3, 0, 0, 9),\n",
    "         (0, 0, 5, 0, 1, 0, 3, 0, 0))"
   ]
  },
  {
   "cell_type": "code",
   "execution_count": 22,
   "metadata": {},
   "outputs": [
    {
     "name": "stdout",
     "output_type": "stream",
     "text": [
      " 4  8  3 | 9  2  1 | 6  5  7 \n",
      " 9  6  7 | 3  4  5 | 8  2  1 \n",
      " 2  5  1 | 8  7  6 | 4  9  3 \n",
      "---------|---------|---------\n",
      " 5  4  8 | 1  3  2 | 9  7  6 \n",
      " 7  2  9 | 5  6  4 | 1  3  8 \n",
      " 1  3  6 | 7  9  8 | 2  4  5 \n",
      "---------|---------|---------\n",
      " 3  7  2 | 6  8  9 | 5  1  4 \n",
      " 8  1  4 | 2  5  3 | 7  6  9 \n",
      " 6  9  5 | 4  1  7 | 3  8  2 \n",
      "\n",
      "solved in 0.16 s\n"
     ]
    }
   ],
   "source": [
    "def print_sudoku(board):\n",
    "    time_start = time.perf_counter()\n",
    "    s_solver = sudoku_solver(board)    \n",
    "    assert s_solver.check() == sat, \"Uh oh. The solver didn't find a solution. Check your constraints.\"\n",
    "    for row, _boxes in enumerate(boxes):\n",
    "        if row and row % 3 == 0:\n",
    "            print('-'*9+\"|\"+'-'*9+\"|\"+'-'*9)\n",
    "        for col, box in enumerate(_boxes):\n",
    "            if col and col % 3 == 0:\n",
    "                print('|', end='')\n",
    "            print(' {} '.format(s_solver.model()[box]), end='')\n",
    "        print()\n",
    "    print()\n",
    "    print('solved in', round(time.perf_counter() - time_start,2), 's')        \n",
    "        \n",
    "print_sudoku(board)"
   ]
  },
  {
   "cell_type": "markdown",
   "metadata": {},
   "source": [
    "#### Sudoku Challenges\n",
    "1. Solve the \"[hardest sudoku puzzle](# https://www.telegraph.co.uk/news/science/science-news/9359579/Worlds-hardest-sudoku-can-you-crack-it.html)\"\n",
    "2. Search for \"3d Sudoku rules\", then extend your solver to handle 3d puzzles"
   ]
  },
  {
   "cell_type": "code",
   "execution_count": 23,
   "metadata": {},
   "outputs": [
    {
     "name": "stdout",
     "output_type": "stream",
     "text": [
      " 8  1  2 | 7  5  3 | 6  4  9 \n",
      " 9  4  3 | 6  8  2 | 1  7  5 \n",
      " 6  7  5 | 4  9  1 | 2  8  3 \n",
      "---------|---------|---------\n",
      " 1  5  4 | 2  3  7 | 8  9  6 \n",
      " 3  6  9 | 8  4  5 | 7  2  1 \n",
      " 2  8  7 | 1  6  9 | 5  3  4 \n",
      "---------|---------|---------\n",
      " 5  2  1 | 9  7  4 | 3  6  8 \n",
      " 4  3  8 | 5  2  6 | 9  1  7 \n",
      " 7  9  6 | 3  1  8 | 4  5  2 \n",
      "\n",
      "solved in 0.39 s\n"
     ]
    }
   ],
   "source": [
    "board_hardest_sudoku = (\n",
    "    (8, 0, 0, 0, 0, 0, 0, 0, 0),\n",
    "    (0, 0, 3, 6, 0, 0, 0, 0, 0),\n",
    "    (0, 7, 0, 0, 9, 0, 2, 0, 0),\n",
    "    (0, 5, 0, 0, 0, 7, 0, 0, 0),\n",
    "    (0, 0, 0, 0, 4, 5, 7, 0, 0),\n",
    "    (0, 0, 0, 1, 0, 0, 0, 3, 0),\n",
    "    (0, 0, 1, 0, 0, 0, 0, 6, 8),\n",
    "    (0, 0, 8, 5, 0, 0, 0, 1, 0),\n",
    "    (0, 9, 0, 0, 0, 0, 4, 0, 0)\n",
    ")\n",
    "time_start = time.perf_counter()\n",
    "print_sudoku(board_hardest_sudoku)"
   ]
  },
  {
   "cell_type": "code",
   "execution_count": null,
   "metadata": {},
   "outputs": [],
   "source": []
  }
 ],
 "metadata": {
  "anaconda-cloud": {},
  "kernelspec": {
   "display_name": "Python 3",
   "language": "python",
   "name": "python3"
  },
  "language_info": {
   "codemirror_mode": {
    "name": "ipython",
    "version": 3
   },
   "file_extension": ".py",
   "mimetype": "text/x-python",
   "name": "python",
   "nbconvert_exporter": "python",
   "pygments_lexer": "ipython3",
   "version": "3.6.3"
  }
 },
 "nbformat": 4,
 "nbformat_minor": 1
}
