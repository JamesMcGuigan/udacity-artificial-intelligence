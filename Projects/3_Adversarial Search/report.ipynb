{
 "cells": [
  {
   "cell_type": "markdown",
   "metadata": {
    "collapsed": true,
    "pycharm": {
     "name": "#%% md\n"
    }
   },
   "source": [
    "# Build a Game Playing Agent - Knights Isolation\n",
    "## James McGuigan\n",
    "- Source: https://github.com/JamesMcGuigan/udacity-artificial-intelligence/blob/master/Projects/3_Adversarial%20Search/\n",
    "\n",
    "# Unit Tests"
   ]
  },
  {
   "cell_type": "code",
   "execution_count": 1,
   "metadata": {},
   "outputs": [],
   "source": [
    "from agents.AlphaBetaPlayer import AlphaBetaAreaPlayer, AlphaBetaPlayer, MinimaxPlayer\n",
    "from agents.DistancePlayer import DistancePlayer, GreedyDistancePlayer\n",
    "from agents.MCTS import MCTSMaximum, MCTSMaximumHeuristic, MCTSRandom, MCTSRandomHeuristic\n",
    "from agents.UCT import UCTPlayer\n",
    "from sample_players import GreedyPlayer, RandomPlayer\n",
    "from run_backpropagation import run_backpropagation\n",
    "from isolation import Agent, logger\n",
    "from run_match_sync import play_sync\n",
    "\n",
    "\n",
    "%load_ext autoreload\n",
    "%autoreload 2"
   ]
  },
  {
   "cell_type": "code",
   "execution_count": 2,
   "metadata": {
    "pycharm": {
     "name": "#%%\n"
    }
   },
   "outputs": [
    {
     "name": "stdout",
     "output_type": "stream",
     "text": [
      "test_get_action_midgame (tests.test_my_custom_player.CustomPlayerGetActionTest)\n",
      "get_action() calls self.queue.put() before timeout in a game in progress ... ok\n",
      "test_get_action_player1 (tests.test_my_custom_player.CustomPlayerGetActionTest)\n",
      "get_action() calls self.queue.put() before timeout on an empty board ... ok\n",
      "test_get_action_player2 (tests.test_my_custom_player.CustomPlayerGetActionTest)\n",
      "get_action() calls self.queue.put() before timeout as player 2 ... ok\n",
      "test_get_action_terminal (tests.test_my_custom_player.CustomPlayerGetActionTest)\n",
      "get_action() calls self.queue.put() before timeout when the game is over ... ok\n",
      "test_custom_player (tests.test_my_custom_player.CustomPlayerPlayTest)\n",
      "CustomPlayer successfully completes a game against itself ... ok\n",
      "\n",
      "----------------------------------------------------------------------\n",
      "Ran 5 tests in 16.348s\n",
      "\n",
      "OK\n"
     ]
    }
   ],
   "source": [
    "! python3 -m unittest -v"
   ]
  },
  {
   "cell_type": "markdown",
   "metadata": {
    "pycharm": {
     "name": "#%% md\n"
    }
   },
   "source": [
    "# Infrastructure\n",
    "\n",
    "- [run_match_sync.py](run_match_sync.py)\n",
    "- [run_backpropagation.py](run_backpropagation.py)\n",
    "- [agents/DataSavePlayer.py](agents/DataSavePlayer.py)\n",
    "\n",
    "I've rewritten `run_match.py` with a synchronous implementation in `run_match_sync.py` and `run_backpropagation.py`.\n",
    "using signals rather than `multithreading.Pool()`, which allows for better profiling and a 2x performance speedup.\n",
    "\n",
    "I have improved the CLI flags and logging ouput, with an extra `--verbose` flag which can\n",
    "be used to ASCII print out the board state after each turn.\n",
    "\n",
    "DataSavePlayer now handles loading and atexit autosaving of cls.data, whilst also gzipping contents\n",
    "\n",
    "\n",
    "# Advanced Heuristic\n",
    "\n",
    "- [agents/AlphaBetaPlayer.py](agents/AlphaBetaPlayer.py)\n",
    "\n",
    "> What features of the game does your heuristic incorporate, and why do you think those features matter in evaluating states during search?\n",
    "\n",
    "The main analogy is with the game of Go. The goal is to surround your opponent and capture a larger territory.\n",
    "\n",
    "Recursively computing liberties several moves ahead shows the area of the board that the opponent\n",
    "could potentially escape to.\n",
    "\n",
    "At `depth=1` this `heuristic_area()` is equivalent to `#my_moves - #opponent_moves`\n",
    "\n",
    "Early in the game the opponent effectively has access to the entire board, making this heuristic ineffective,\n",
    "hence `max_area` is used in addition to depth to shortcircuit the computational cost of\n",
    "expanding breadth-first search to all possible future moves on a mostly empty board when neither side is trapped.\n",
    "\n",
    "This heuristic is endgame focused. It solves the simplified subproblem of local search without an adversary,\n",
    "and provides an upper-bound estimate for the difference in maximum number of total moves each player has remaining.\n",
    "It reaches maximum value for moves that trap a player within a self-contained section whilst leaving\n",
    "the other a means of escape. The player in the smaller territory will run out of moves first.\n",
    "\n",
    "The other major impact on the performance of this agent is the addition of alphabeta pruning\n",
    "with the aggressive use of caching. This avoids the computation expense of recomputing previously explored subtrees, and by caching on `@classmethod`\n",
    "parts of the cache can even be reused between runs. The net effect of this is to increase the\n",
    "maximum depth of iterative deepening before the timeout to beyond what `MinimaxPlayer(depth=3)` can compute.\n",
    "\n",
    "Improvements over previous submission:\n",
    "- Iterative Deepening checks terminates early if action score is infinite\n",
    "- Caching has been redone: now keyed on (player_id,state) and ignores depth/alpha/beta\n",
    "- Alphabeta caching only stores infinite values, which is effectively an endgame table\n",
    "- Caching is persisted to disk ./data/*.zi  p.pickle via DataSavePlayer base class\n",
    "- Persisted caching means Alphabeta can pretrained with a higher timeout before the match\n",
    "\n",
    "Performance improvements mean the algorithm now dominates the course Minimax implementation\n",
    "- First percentage is the total winrate, second percentage is the rolling average winrate"
   ]
  },
  {
   "cell_type": "code",
   "execution_count": 13,
   "metadata": {},
   "outputs": [],
   "source": [
    "!rm -f ./data/A*.pickle"
   ]
  },
  {
   "cell_type": "markdown",
   "metadata": {},
   "source": [
    "Greedy vs Minimax depends on who gets the first turn"
   ]
  },
  {
   "cell_type": "code",
   "execution_count": 14,
   "metadata": {},
   "outputs": [
    {
     "name": "stdout",
     "output_type": "stream",
     "text": [
      "+-+-+-+-+-+-+-+-+-+-+-+-+-+-+-+-+-+-+-+-+-+-+-+-+-+-+-+-+-+-+-+-+-+-+- match_id:   70 |   9s |  50% ->  49% | Greedy vs Minimax\n"
     ]
    }
   ],
   "source": [
    "! python3 ./run_backpropagation.py  -a GREEDY -o MINIMAX --progress -r 70"
   ]
  },
  {
   "cell_type": "markdown",
   "metadata": {
    "pycharm": {
     "name": "#%% md\n"
    }
   },
   "source": [
    "AlphaBeta gets 90%+ winrate vs both Greedy and Minimax"
   ]
  },
  {
   "cell_type": "code",
   "execution_count": 15,
   "metadata": {},
   "outputs": [
    {
     "name": "stdout",
     "output_type": "stream",
     "text": [
      "+-+++++++++++++-+++-+++++++++++++-+++++-++++++++++++++++++++++++++++++ match_id:   70 | 246s |  93% ->  96% | AlphaBeta vs Greedy\n",
      "wrote:  ./data/AlphaBetaPlayer.zip.pickle        |  0.7MB in  1.2s | entries: 45237\n"
     ]
    }
   ],
   "source": [
    "! python3 ./run_backpropagation.py  -a ALPHABETA -o GREEDY --progress -r 70"
   ]
  },
  {
   "cell_type": "code",
   "execution_count": 16,
   "metadata": {},
   "outputs": [
    {
     "name": "stdout",
     "output_type": "stream",
     "text": [
      "loaded: ./data/AlphaBetaPlayer.zip.pickle        |  0.7MB in  0.3s | entries: 45237\n",
      "+++++-+-+-+-+-+-+++-++++++-++++++++++++++-+++++++++--+++++++++++++++++ match_id:   70 | 260s |  84% ->  90% | AlphaBeta vs Minimax\n",
      "wrote:  ./data/AlphaBetaPlayer.zip.pickle        |  1.4MB in  1.9s | entries: 91139\n"
     ]
    }
   ],
   "source": [
    "! python3 ./run_backpropagation.py  -a ALPHABETA -o MINIMAX --progress -r 70"
   ]
  },
  {
   "cell_type": "markdown",
   "metadata": {
    "pycharm": {
     "name": "#%% md\n"
    }
   },
   "source": [
    "AlphaBetaAreaPlayer gets near 100% winrate vs Greedy and Minimax, plus 70% vs AlphaBetaPlayer"
   ]
  },
  {
   "cell_type": "code",
   "execution_count": 17,
   "metadata": {},
   "outputs": [
    {
     "name": "stdout",
     "output_type": "stream",
     "text": [
      "+++++++++++++++++++++++++++++++++++++++++++++++++++++++++-++++++++++++ match_id:   70 | 247s |  99% ->  98% | AlphaBeta Area vs Greedy\n",
      "wrote:  ./data/AlphaBetaAreaPlayer.zip.pickle    |  4.9MB in  7.0s | entries: 306855\n"
     ]
    }
   ],
   "source": [
    "! python3 ./run_backpropagation.py  -a AREA -o GREEDY --progress -r 70"
   ]
  },
  {
   "cell_type": "code",
   "execution_count": 18,
   "metadata": {
    "pycharm": {
     "name": "#%%\n"
    }
   },
   "outputs": [
    {
     "name": "stdout",
     "output_type": "stream",
     "text": [
      "loaded: ./data/AlphaBetaAreaPlayer.zip.pickle    |  4.9MB in  1.8s | entries: 306855\n",
      "+-++++++++++++++++++++++++++++++++++++++++++++++++++++++++++++++++++++ match_id:   70 | 243s |  99% -> 100% | AlphaBeta Area vs Minimax\n",
      "wrote:  ./data/AlphaBetaAreaPlayer.zip.pickle    |  8.2MB in 11.8s | entries: 516356\n"
     ]
    }
   ],
   "source": [
    "! python3 ./run_backpropagation.py  -a AREA -o MINIMAX --progress -r 70"
   ]
  },
  {
   "cell_type": "code",
   "execution_count": 19,
   "metadata": {
    "pycharm": {
     "name": "#%%\n"
    }
   },
   "outputs": [
    {
     "name": "stdout",
     "output_type": "stream",
     "text": [
      "loaded: ./data/AlphaBetaPlayer.zip.pickle        |  1.4MB in  0.5s | entries: 91139\n",
      "loaded: ./data/AlphaBetaAreaPlayer.zip.pickle    |  8.2MB in  3.3s | entries: 516356\n",
      "+++--+++++-+++-+++++++++--++++++++--+--+--++++++++++-++--+-++-++++-++- match_id:   70 | 632s |  73% ->  70% | AlphaBeta Area vs AlphaBeta\n",
      "wrote:  ./data/AlphaBetaPlayer.zip.pickle        |  3.1MB in  4.6s | entries: 202838\n",
      "wrote:  ./data/AlphaBetaAreaPlayer.zip.pickle    | 15.3MB in 23.0s | entries: 969287\n"
     ]
    }
   ],
   "source": [
    "! python3 ./run_backpropagation.py  -a AREA -o ALPHABETA --progress -r 70"
   ]
  },
  {
   "cell_type": "markdown",
   "metadata": {},
   "source": [
    "# Depth Analysis\n",
    "\n",
    "- MiniMax course default is depth 3\n",
    "- AlphaBeta\n",
    "    - has trouble getting past depth 1 on the first turn\n",
    "    - can get to depth 5 on the second turn\n",
    "    - remains at depth 4-6 for the early game\n",
    "    - grows to depth 6-9 during the mid-game\n",
    "    - expands out to max depth of 14 before finding a -inf lose condition\n",
    "- AlphaBetaArea\n",
    "    - is usually depth-2 compared to AlphaBeta\n",
    "    - the area heuristic effectively adds an extra 4 layers of hidden depth\n",
    "    - so for the same CPU cost, AlphaBetaArea has a depth 2 advantage\n",
    "    - finds the inf win condition before AlphaBeta and at a lower depth"
   ]
  },
  {
   "cell_type": "code",
   "execution_count": 28,
   "metadata": {},
   "outputs": [
    {
     "name": "stdout",
     "output_type": "stream",
     "text": [
      "\n",
      "AlphaBetaV           | depth: 1 \n",
      "AlphaBetaAreaV       | depth: 1 \n",
      "AlphaBetaV           | depth: 1 2 3 4 5 \n",
      "AlphaBetaAreaV       | depth: 1 2 3 \n",
      "AlphaBetaV           | depth: 1 2 3 4 5 \n",
      "AlphaBetaAreaV       | depth: 1 2 3 4 \n",
      "AlphaBetaV           | depth: 1 2 3 4 5 \n",
      "AlphaBetaAreaV       | depth: 1 2 3 \n",
      "AlphaBetaV           | depth: 1 2 3 4 \n",
      "AlphaBetaAreaV       | depth: 1 2 3 \n",
      "AlphaBetaV           | depth: 1 2 3 4 \n",
      "AlphaBetaAreaV       | depth: 1 2 3 \n",
      "AlphaBetaV           | depth: 1 2 3 4 5 \n",
      "AlphaBetaAreaV       | depth: 1 2 3 \n",
      "AlphaBetaV           | depth: 1 2 3 4 5 \n",
      "AlphaBetaAreaV       | depth: 1 2 3 \n",
      "AlphaBetaV           | depth: 1 2 3 4 5 \n",
      "AlphaBetaAreaV       | depth: 1 2 3 \n",
      "AlphaBetaV           | depth: 1 2 3 4 5 \n",
      "AlphaBetaAreaV       | depth: 1 2 3 \n",
      "AlphaBetaV           | depth: 1 2 3 4 \n",
      "AlphaBetaAreaV       | depth: 1 2 3 \n",
      "AlphaBetaV           | depth: 1 2 3 4 5 \n",
      "AlphaBetaAreaV       | depth: 1 2 \n",
      "AlphaBetaV           | depth: 1 2 3 4 5 6 \n",
      "AlphaBetaAreaV       | depth: 1 2 3 4 \n",
      "AlphaBetaV           | depth: 1 2 3 4 5 6 \n",
      "AlphaBetaAreaV       | depth: 1 2 3 4 5 \n",
      "AlphaBetaV           | depth: 1 2 3 4 5 6 \n",
      "AlphaBetaAreaV       | depth: 1 2 3 4 \n",
      "AlphaBetaV           | depth: 1 2 3 4 5 6 7 \n",
      "AlphaBetaAreaV       | depth: 1 2 3 4 5 \n",
      "AlphaBetaV           | depth: 1 2 3 4 5 6 7 8 \n",
      "AlphaBetaAreaV       | depth: 1 2 3 4 5 6 \n",
      "AlphaBetaV           | depth: 1 2 3 4 5 6 7 \n",
      "AlphaBetaAreaV       | depth: 1 2 3 4 5 \n",
      "AlphaBetaV           | depth: 1 2 3 4 5 6 7 \n",
      "AlphaBetaAreaV       | depth: 1 2 3 4 5 \n",
      "AlphaBetaV           | depth: 1 2 3 4 5 6 7 8 \n",
      "AlphaBetaAreaV       | depth: 1 2 3 4 5 6 \n",
      "AlphaBetaV           | depth: 1 2 3 4 5 6 7 8 \n",
      "AlphaBetaAreaV       | depth: 1 2 3 4 5 6 \n",
      "AlphaBetaV           | depth: 1 2 3 4 5 6 7 \n",
      "AlphaBetaAreaV       | depth: 1 2 3 4 5 6 \n",
      "AlphaBetaV           | depth: 1 2 3 4 5 6 7 8 \n",
      "AlphaBetaAreaV       | depth: 1 2 3 4 5 6 \n",
      "AlphaBetaV           | depth: 1 2 3 4 5 6 7 8 9 \n",
      "AlphaBetaAreaV       | depth: 1 2 3 4 5 6 7 \n",
      "AlphaBetaV           | depth: 1 2 3 4 5 6 7 8 9 \n",
      "AlphaBetaAreaV       | depth: 1 2 3 4 5 6 \n",
      "AlphaBetaV           | depth: 1 2 3 4 5 6 7 8 9 \n",
      "AlphaBetaAreaV       | depth: 1 2 3 4 5 6 7 \n",
      "AlphaBetaV           | depth: 1 2 3 4 5 6 7 8 9 10 \n",
      "AlphaBetaAreaV       | depth: 1 2 3 4 5 6 7 \n",
      "AlphaBetaV           | depth: 1 2 3 4 5 6 7 8 9 10 11 12 13 14 \n",
      "AlphaBetaAreaV       | depth: 1 2 3 4 5 6 7 8 9 10 \n",
      "AlphaBetaV           | depth: 1 2 3 4 5 6 7 8 9 10 11 12 13 14 \n",
      "AlphaBetaAreaV       | depth: 1 2 3 4 5 6 7 8 9 10 \n",
      "AlphaBetaV           | depth: 1 2 3 4 5 6 7 8 9 10 11 12 \n",
      "AlphaBetaAreaV       | depth: 1 2 3 4 5 6 7 8 9 10 \n",
      "AlphaBetaV           | depth: 1 2 3 4 5 6 7 8 9 10 11 -inf \n",
      "AlphaBetaAreaV       | depth: 1 2 3 4 5 6 7 8 9 10 inf \n",
      "AlphaBetaV           | depth: 1 -inf \n",
      "AlphaBetaAreaV       | depth: 1 inf \n",
      "AlphaBetaV           | depth: 1 -inf \n",
      "AlphaBetaAreaV       | depth: 1 inf \n",
      "AlphaBetaV           | depth: 1 -inf \n",
      "AlphaBetaAreaV       | depth: 1 inf \n",
      "AlphaBetaV           | depth: 1 -inf "
     ]
    }
   ],
   "source": [
    "AlphaBetaPlayer.verbose_depth     = True\n",
    "AlphaBetaAreaPlayer.verbose_depth = True\n",
    "\n",
    "play_sync( ( Agent(AlphaBetaPlayer,'AlphaBeta'), Agent(AlphaBetaAreaPlayer,'AlphaBetaArea') ) )\n",
    "\n",
    "AlphaBetaPlayer.save()\n",
    "AlphaBetaAreaPlayer.save()"
   ]
  },
  {
   "cell_type": "markdown",
   "metadata": {},
   "source": [
    "We can pretrain AlphaBeta with a 10 minute timeout to fully explore the opening position and optimal game strategy, and build up a killer startgame cache, which should allow AlphaBeta to now beat AlphaBetaArea"
   ]
  },
  {
   "cell_type": "code",
   "execution_count": null,
   "metadata": {},
   "outputs": [
    {
     "name": "stdout",
     "output_type": "stream",
     "text": [
      "\n",
      "AlphaBetaPlayer      | depth: 1 2 3 4 5 6 7 8 9 "
     ]
    }
   ],
   "source": [
    "AlphaBetaPlayer.verbose_depth = True\n",
    "run_backpropagation({\n",
    "    'agent':     'ALPHABETA',\n",
    "    'opponent':  'ALPHABETA',\n",
    "    'rounds':     1,\n",
    "    'timeout':    10*60,     # seconds\n",
    "    'time_limit': 10*60*100, # milliseconds\n",
    "})\n",
    "AlphaBetaPlayer.save()"
   ]
  },
  {
   "cell_type": "code",
   "execution_count": null,
   "metadata": {},
   "outputs": [],
   "source": [
    "play_sync( ( Agent(AlphaBetaPlayer,'AlphaBeta'), Agent(AlphaBetaAreaPlayer,'AlphaBetaArea') ) )\n",
    "\n",
    "AlphaBetaPlayer.save()\n",
    "AlphaBetaAreaPlayer.save()\n",
    "AlphaBetaPlayer.verbose_depth     = False\n",
    "AlphaBetaAreaPlayer.verbose_depth = False"
   ]
  },
  {
   "cell_type": "markdown",
   "metadata": {
    "pycharm": {
     "name": "#%% md\n"
    }
   },
   "source": [
    "# Monty Carlo Tree Search\n",
    "\n",
    "- [agents/MCTS.py](agents/MCTS.py)\n",
    "- [agents/UCT.py](agents/UCT.py)\n",
    "\n",
    "I have implemented variations on Monty Carlo Tree Search.\n",
    "\n",
    "## MCTSMaximum\n",
    "\n",
    "is designed to be reinforcement learning agents,\n",
    "to be trained by running repeatedly before the match. Initially they will make random moves.\n",
    "After each match, the `.backpropergate()` function is called, which will build a record of\n",
    "the win/loss ratio for each seen board position, and also compute the BestChild score\n",
    "`(w/n + c√(ln N/n))` for each seen node. The agent is runtime fast in the sense that it only\n",
    "needs to read from it's own cache to compute the max score of available actions, which assumes\n",
    "the agent has seen this exact board position before during training,\n",
    "\n",
    "## MCTSRandom\n",
    "\n",
    "Is a variation inspired by the Ant Colony Optimization Algorithm.\n",
    "It removes the exploration term, and instead of selecting the action with the maximum score,\n",
    "it uses the difference in score as random weighting factor to stochastically select the next action.\n",
    "\n",
    "## MCTSRandomHeuristic + MCTSMaximumHeuristic\n",
    "\n",
    "These are variants that add the liberties heuristic to the BestChild score\n",
    "\n",
    "\n",
    "## Results\n",
    "\n",
    "- MCTSRandom wins against MCTSMaximum by 68%"
   ]
  },
  {
   "cell_type": "code",
   "execution_count": 52,
   "metadata": {
    "pycharm": {
     "name": "#%%\n"
    }
   },
   "outputs": [
    {
     "name": "stdout",
     "output_type": "stream",
     "text": [
      " match_id:  100 |   1s |  74% ->  74% | MCTS Random vs MCTS Maximum\n",
      "wrote:  ./data/MCTSMaximum.zip.pickle            |  0.1MB in  0.1s | entries: 4281\n",
      "wrote:  ./data/MCTSRandom.zip.pickle             |  0.1MB in  0.1s | entries: 4281\n"
     ]
    }
   ],
   "source": [
    "! rm -f ./data/MCTS*.pickle\n",
    "! python3 ./run_backpropagation.py  -a MCR  -o MCM  -r 100 -l 100"
   ]
  },
  {
   "cell_type": "markdown",
   "metadata": {
    "pycharm": {
     "name": "#%% md\n"
    }
   },
   "source": [
    "MCTSRandom can be shown to be trainable against a Greedy opponent"
   ]
  },
  {
   "cell_type": "code",
   "execution_count": 53,
   "metadata": {
    "pycharm": {
     "name": "#%%\n"
    }
   },
   "outputs": [
    {
     "name": "stdout",
     "output_type": "stream",
     "text": [
      "loaded: ./data/MCTSRandom.zip.pickle             |  0.1MB in  0.0s | entries: 4281\n",
      " match_id:  100 |   1s |  35% ->  44% | MCTS Random vs Greedy\n",
      " match_id:  200 |   2s |  36% ->  40% | MCTS Random vs Greedy\n",
      " match_id:  300 |   4s |  38% ->  40% | MCTS Random vs Greedy\n",
      " match_id:  400 |   5s |  40% ->  43% | MCTS Random vs Greedy\n",
      " match_id:  500 |   6s |  43% ->  47% | MCTS Random vs Greedy\n",
      " match_id:  600 |   8s |  44% ->  48% | MCTS Random vs Greedy\n",
      " match_id:  700 |   9s |  46% ->  50% | MCTS Random vs Greedy\n",
      " match_id:  800 |  10s |  45% ->  48% | MCTS Random vs Greedy\n",
      " match_id:  900 |  12s |  45% ->  48% | MCTS Random vs Greedy\n",
      " match_id: 1000 |  13s |  46% ->  50% | MCTS Random vs Greedy\n",
      "wrote:  ./data/MCTSRandom.zip.pickle             |  0.6MB in  0.8s | entries: 29813\n"
     ]
    }
   ],
   "source": [
    "! python3 ./run_backpropagation.py  -a MCR -o GREEDY -r 1000  -l 100"
   ]
  },
  {
   "cell_type": "markdown",
   "metadata": {
    "pycharm": {
     "name": "#%% md\n"
    }
   },
   "source": [
    "MCTSRandom can almost match Minimax when trained for a sufficently long time, but has a hard time against AlphaBeta even with a reduced timer"
   ]
  },
  {
   "cell_type": "code",
   "execution_count": 54,
   "metadata": {
    "pycharm": {
     "name": "#%%\n"
    }
   },
   "outputs": [
    {
     "name": "stdout",
     "output_type": "stream",
     "text": [
      "loaded: ./data/MCTSRandom.zip.pickle             |  0.6MB in  0.1s | entries: 29813\n",
      " match_id:  100 |  14s |  31% ->  28% | MCTS Random vs Minimax\n",
      " match_id:  200 |  27s |  33% ->  33% | MCTS Random vs Minimax\n",
      " match_id:  300 |  40s |  34% ->  35% | MCTS Random vs Minimax\n",
      " match_id:  400 |  52s |  36% ->  38% | MCTS Random vs Minimax\n",
      " match_id:  500 |  65s |  38% ->  40% | MCTS Random vs Minimax\n",
      " match_id:  600 |  78s |  40% ->  43% | MCTS Random vs Minimax\n",
      " match_id:  700 |  91s |  40% ->  43% | MCTS Random vs Minimax\n",
      " match_id:  800 | 104s |  41% ->  43% | MCTS Random vs Minimax\n",
      " match_id:  900 | 117s |  42% ->  46% | MCTS Random vs Minimax\n",
      " match_id: 1000 | 130s |  42% ->  45% | MCTS Random vs Minimax\n",
      "wrote:  ./data/MCTSRandom.zip.pickle             |  1.0MB in  1.3s | entries: 51073\n"
     ]
    }
   ],
   "source": [
    "! python3 ./run_backpropagation.py  -a MCR -o MINIMAX -r 1000"
   ]
  },
  {
   "cell_type": "code",
   "execution_count": 57,
   "metadata": {
    "pycharm": {
     "name": "#%%\n"
    }
   },
   "outputs": [
    {
     "name": "stdout",
     "output_type": "stream",
     "text": [
      "loaded: ./data/MCTSRandom.zip.pickle             |  1.0MB in  0.3s | entries: 51073\n",
      " match_id:  100 | 124s |   1% ->   1% | MCTS Random vs AlphaBeta\n",
      "wrote:  ./data/AlphaBetaPlayer.zip.pickle        |  0.6MB in  0.6s | entries: 37887\n",
      "wrote:  ./data/MCTSRandom.zip.pickle             |  1.1MB in  1.4s | entries: 55693\n"
     ]
    }
   ],
   "source": [
    "! python3 ./run_backpropagation.py  -a MCR -o ALPHABETA -r 250 -l 50 --time_limit 50"
   ]
  },
  {
   "cell_type": "markdown",
   "metadata": {
    "pycharm": {
     "name": "#%% md\n"
    }
   },
   "source": [
    "What if we pretrain all the Monty Carlo agents against each other?"
   ]
  },
  {
   "cell_type": "code",
   "execution_count": null,
   "metadata": {
    "pycharm": {
     "name": "#%%\n"
    }
   },
   "outputs": [],
   "source": [
    "from run_backpropagation import TEST_AGENTS, run_backpropagation\n",
    "import gc\n",
    "import time\n",
    "for agent in TEST_AGENTS.keys():\n",
    "    for opponent in TEST_AGENTS.keys():\n",
    "        if agent.startswith('MC') and opponent.startswith('MC'):\n",
    "            time.sleep(0.1)\n",
    "            TEST_AGENTS[agent   ].agent_class.verbose = False\n",
    "            TEST_AGENTS[opponent].agent_class.verbose = False\n",
    "            run_backpropagation({\n",
    "                \"agent\":      agent,\n",
    "                \"opponent\":   opponent,\n",
    "                \"rounds\":     1000,\n",
    "                \"logging\":    1000,\n",
    "                \"progress\":   False,\n",
    "                \"time_limit\": 150\n",
    "            })\n",
    "\n",
    "for agent in TEST_AGENTS.keys():\n",
    "    for opponent in TEST_AGENTS.keys():\n",
    "        if agent.startswith('MC') and opponent.startswith('MC'):\n",
    "            TEST_AGENTS[opponent].agent_class.save()"
   ]
  },
  {
   "cell_type": "markdown",
   "metadata": {
    "pycharm": {
     "name": "#%% md\n"
    }
   },
   "source": [
    "Then attempt a rematch against AlphaBeta"
   ]
  },
  {
   "cell_type": "code",
   "execution_count": null,
   "metadata": {
    "pycharm": {
     "name": "#%%\n"
    }
   },
   "outputs": [],
   "source": [
    "! python3 ./run_backpropagation.py  -a MCR -o ALPHABETA -r 250 -l 50 --time_limit 50"
   ]
  },
  {
   "cell_type": "markdown",
   "metadata": {
    "pycharm": {
     "name": "#%% md\n"
    }
   },
   "source": [
    "## UCTPlayer\n",
    "\n",
    "While MCTSMaximum and MCTSRandom are fast agents, UCTPlayer will use its 150ms of time to simulate\n",
    "MCTSMaximum from the current board position before returning an answer."
   ]
  },
  {
   "cell_type": "code",
   "execution_count": null,
   "metadata": {},
   "outputs": [],
   "source": [
    "! python3 ./run_backpropagation.py  -a UCT -o GREEDY -r 250 -l 50"
   ]
  },
  {
   "cell_type": "code",
   "execution_count": null,
   "metadata": {
    "pycharm": {
     "name": "#%%\n"
    }
   },
   "outputs": [],
   "source": [
    "! python3 ./run_backpropagation.py  -a UCT -o MINIMAX -r 250 -l 50"
   ]
  },
  {
   "cell_type": "code",
   "execution_count": null,
   "metadata": {
    "pycharm": {
     "name": "#%%\n"
    }
   },
   "outputs": [],
   "source": [
    "! python3 ./run_backpropagation.py  -a UCT -o ALPHABETA -r 250 -l 50 --time_limit 50"
   ]
  },
  {
   "cell_type": "markdown",
   "metadata": {
    "pycharm": {
     "name": "#%% md\n"
    }
   },
   "source": [
    "# Opening Book\n",
    "\n",
    "## Monty Carlo Method\n",
    "\n",
    "We can derive an opening book by looking at the cached scores in MCTSRandom\n",
    "- score priorities exploration of 100% winrate nodes that have only been explored once\n",
    "    - sorting by score actually suggested the best countermove was the corner square\n",
    "    - sort by wins * wins/count to find the best move\n",
    "\n",
    "- Monty Carlo suggests the best opening strategy is:\n",
    "    - defend the corner on the 3,3 point\n",
    "    - attack the knights blind spot on the 4,3 point\n",
    "        - knight requires three turns to move one space sideways\n",
    "    - the first player is attempting to move into position to directly attack their opponent\n",
    "    - the second player is attempting to remain in the blind spot adjcent to the first player"
   ]
  },
  {
   "cell_type": "code",
   "execution_count": 72,
   "metadata": {
    "pycharm": {
     "name": "#%%\n"
    }
   },
   "outputs": [
    {
     "name": "stdout",
     "output_type": "stream",
     "text": [
      "Best move 1 is:\n",
      "(2, 2) MCTSRecord(wins=697, count=1277, score=0.5454545454545454)\n",
      "1111111111100111111111110011111111111001111111111100111111111110011111111111001111111101100111111111110011111111111\n",
      "\n",
      "+ - + - + - + - + - + - + - + - + - + - + - +\n",
      "|   |   |   |   |   |   |   |   |   |   |   |\n",
      "+ - + - + - + - + - + - + - + - + - + - + - +\n",
      "|   |   |   |   |   |   |   |   |   |   |   |\n",
      "+ - + - + - + - + - + - + - + - + - + - + - +\n",
      "|   |   |   |   |   |   |   |   |   |   |   |\n",
      "+ - + - + - + - + - + - + - + - + - + - + - +\n",
      "|   |   |   |   |   |   |   |   |   |   |   |\n",
      "+ - + - + - + - + - + - + - + - + - + - + - +\n",
      "|   |   |   |   |   |   |   |   |   |   |   |\n",
      "+ - + - + - + - + - + - + - + - + - + - + - +\n",
      "|   |   |   |   |   |   |   |   |   |   |   |\n",
      "+ - + - + - + - + - + - + - + - + - + - + - +\n",
      "|   |   |   |   |   |   |   |   | 1 |   |   |\n",
      "+ - + - + - + - + - + - + - + - + - + - + - +\n",
      "|   |   |   |   |   |   |   |   |   |   |   |\n",
      "+ - + - + - + - + - + - + - + - + - + - + - +\n",
      "|   |   |   |   |   |   |   |   |   |   |   |\n",
      "+ - + - + - + - + - + - + - + - + - + - + - +\n",
      "\n",
      "Best move 2 is:\n",
      "(3, 2) MCTSRecord(wins=88, count=141, score=0.6214285714285714)\n",
      "1111111111100111111111110011111111111001111111111100111111111110011111111111001111111001100111111111110011111111111\n",
      "\n",
      "+ - + - + - + - + - + - + - + - + - + - + - +\n",
      "|   |   |   |   |   |   |   |   |   |   |   |\n",
      "+ - + - + - + - + - + - + - + - + - + - + - +\n",
      "|   |   |   |   |   |   |   |   |   |   |   |\n",
      "+ - + - + - + - + - + - + - + - + - + - + - +\n",
      "|   |   |   |   |   |   |   |   |   |   |   |\n",
      "+ - + - + - + - + - + - + - + - + - + - + - +\n",
      "|   |   |   |   |   |   |   |   |   |   |   |\n",
      "+ - + - + - + - + - + - + - + - + - + - + - +\n",
      "|   |   |   |   |   |   |   |   |   |   |   |\n",
      "+ - + - + - + - + - + - + - + - + - + - + - +\n",
      "|   |   |   |   |   |   |   |   |   |   |   |\n",
      "+ - + - + - + - + - + - + - + - + - + - + - +\n",
      "|   |   |   |   |   |   |   | 2 | 1 |   |   |\n",
      "+ - + - + - + - + - + - + - + - + - + - + - +\n",
      "|   |   |   |   |   |   |   |   |   |   |   |\n",
      "+ - + - + - + - + - + - + - + - + - + - + - +\n",
      "|   |   |   |   |   |   |   |   |   |   |   |\n",
      "+ - + - + - + - + - + - + - + - + - + - + - +\n",
      "\n",
      "Best move 3 is:\n",
      "(4, 3) MCTSRecord(wins=37, count=102, score=0.36633663366336633)\n",
      "1111111111100111111111110011111111111001111111111100111111111110011111101111001111111001100111111111110011111111111\n",
      "\n",
      "+ - + - + - + - + - + - + - + - + - + - + - +\n",
      "|   |   |   |   |   |   |   |   |   |   |   |\n",
      "+ - + - + - + - + - + - + - + - + - + - + - +\n",
      "|   |   |   |   |   |   |   |   |   |   |   |\n",
      "+ - + - + - + - + - + - + - + - + - + - + - +\n",
      "|   |   |   |   |   |   |   |   |   |   |   |\n",
      "+ - + - + - + - + - + - + - + - + - + - + - +\n",
      "|   |   |   |   |   |   |   |   |   |   |   |\n",
      "+ - + - + - + - + - + - + - + - + - + - + - +\n",
      "|   |   |   |   |   |   |   |   |   |   |   |\n",
      "+ - + - + - + - + - + - + - + - + - + - + - +\n",
      "|   |   |   |   |   |   | 1 |   |   |   |   |\n",
      "+ - + - + - + - + - + - + - + - + - + - + - +\n",
      "|   |   |   |   |   |   |   | 2 | X |   |   |\n",
      "+ - + - + - + - + - + - + - + - + - + - + - +\n",
      "|   |   |   |   |   |   |   |   |   |   |   |\n",
      "+ - + - + - + - + - + - + - + - + - + - + - +\n",
      "|   |   |   |   |   |   |   |   |   |   |   |\n",
      "+ - + - + - + - + - + - + - + - + - + - + - +\n",
      "\n",
      "Best move 4 is:\n",
      "(5, 3) MCTSRecord(wins=56, count=84, score=0.6626506024096386)\n",
      "1111111111100111111111110011111111111001111111111100111111111110011111001111001111111001100111111111110011111111111\n",
      "\n",
      "+ - + - + - + - + - + - + - + - + - + - + - +\n",
      "|   |   |   |   |   |   |   |   |   |   |   |\n",
      "+ - + - + - + - + - + - + - + - + - + - + - +\n",
      "|   |   |   |   |   |   |   |   |   |   |   |\n",
      "+ - + - + - + - + - + - + - + - + - + - + - +\n",
      "|   |   |   |   |   |   |   |   |   |   |   |\n",
      "+ - + - + - + - + - + - + - + - + - + - + - +\n",
      "|   |   |   |   |   |   |   |   |   |   |   |\n",
      "+ - + - + - + - + - + - + - + - + - + - + - +\n",
      "|   |   |   |   |   |   |   |   |   |   |   |\n",
      "+ - + - + - + - + - + - + - + - + - + - + - +\n",
      "|   |   |   |   |   | 2 | 1 |   |   |   |   |\n",
      "+ - + - + - + - + - + - + - + - + - + - + - +\n",
      "|   |   |   |   |   |   |   | X | X |   |   |\n",
      "+ - + - + - + - + - + - + - + - + - + - + - +\n",
      "|   |   |   |   |   |   |   |   |   |   |   |\n",
      "+ - + - + - + - + - + - + - + - + - + - + - +\n",
      "|   |   |   |   |   |   |   |   |   |   |   |\n",
      "+ - + - + - + - + - + - + - + - + - + - + - +\n",
      "\n",
      "Best move 5 is:\n",
      "(3, 5) MCTSRecord(wins=21, count=64, score=0.3333333333333333)\n",
      "1111111111100111111111110011111111111001111111011100111111111110011111001111001111111001100111111111110011111111111\n",
      "\n",
      "+ - + - + - + - + - + - + - + - + - + - + - +\n",
      "|   |   |   |   |   |   |   |   |   |   |   |\n",
      "+ - + - + - + - + - + - + - + - + - + - + - +\n",
      "|   |   |   |   |   |   |   |   |   |   |   |\n",
      "+ - + - + - + - + - + - + - + - + - + - + - +\n",
      "|   |   |   |   |   |   |   |   |   |   |   |\n",
      "+ - + - + - + - + - + - + - + - + - + - + - +\n",
      "|   |   |   |   |   |   |   | 1 |   |   |   |\n",
      "+ - + - + - + - + - + - + - + - + - + - + - +\n",
      "|   |   |   |   |   |   |   |   |   |   |   |\n",
      "+ - + - + - + - + - + - + - + - + - + - + - +\n",
      "|   |   |   |   |   | 2 | X |   |   |   |   |\n",
      "+ - + - + - + - + - + - + - + - + - + - + - +\n",
      "|   |   |   |   |   |   |   | X | X |   |   |\n",
      "+ - + - + - + - + - + - + - + - + - + - + - +\n",
      "|   |   |   |   |   |   |   |   |   |   |   |\n",
      "+ - + - + - + - + - + - + - + - + - + - + - +\n",
      "|   |   |   |   |   |   |   |   |   |   |   |\n",
      "+ - + - + - + - + - + - + - + - + - + - + - +\n",
      "\n",
      "Best move 6 is:\n",
      "(4, 5) MCTSRecord(wins=22, count=30, score=0.7241379310344828)\n",
      "1111111111100111111111110011111111111001111110011100111111111110011111001111001111111001100111111111110011111111111\n",
      "\n",
      "+ - + - + - + - + - + - + - + - + - + - + - +\n",
      "|   |   |   |   |   |   |   |   |   |   |   |\n",
      "+ - + - + - + - + - + - + - + - + - + - + - +\n",
      "|   |   |   |   |   |   |   |   |   |   |   |\n",
      "+ - + - + - + - + - + - + - + - + - + - + - +\n",
      "|   |   |   |   |   |   |   |   |   |   |   |\n",
      "+ - + - + - + - + - + - + - + - + - + - + - +\n",
      "|   |   |   |   |   |   | 2 | 1 |   |   |   |\n",
      "+ - + - + - + - + - + - + - + - + - + - + - +\n",
      "|   |   |   |   |   |   |   |   |   |   |   |\n",
      "+ - + - + - + - + - + - + - + - + - + - + - +\n",
      "|   |   |   |   |   | X | X |   |   |   |   |\n",
      "+ - + - + - + - + - + - + - + - + - + - + - +\n",
      "|   |   |   |   |   |   |   | X | X |   |   |\n",
      "+ - + - + - + - + - + - + - + - + - + - + - +\n",
      "|   |   |   |   |   |   |   |   |   |   |   |\n",
      "+ - + - + - + - + - + - + - + - + - + - + - +\n",
      "|   |   |   |   |   |   |   |   |   |   |   |\n",
      "+ - + - + - + - + - + - + - + - + - + - + - +\n",
      "\n",
      "Best move 7 is:\n",
      "(2, 3) MCTSRecord(wins=8, count=28, score=0.2962962962962963)\n",
      "1111111111100111111111110011111111111001111110011100111111111110011111001011001111111001100111111111110011111111111\n",
      "\n",
      "+ - + - + - + - + - + - + - + - + - + - + - +\n",
      "|   |   |   |   |   |   |   |   |   |   |   |\n",
      "+ - + - + - + - + - + - + - + - + - + - + - +\n",
      "|   |   |   |   |   |   |   |   |   |   |   |\n",
      "+ - + - + - + - + - + - + - + - + - + - + - +\n",
      "|   |   |   |   |   |   |   |   |   |   |   |\n",
      "+ - + - + - + - + - + - + - + - + - + - + - +\n",
      "|   |   |   |   |   |   | 2 | X |   |   |   |\n",
      "+ - + - + - + - + - + - + - + - + - + - + - +\n",
      "|   |   |   |   |   |   |   |   |   |   |   |\n",
      "+ - + - + - + - + - + - + - + - + - + - + - +\n",
      "|   |   |   |   |   | X | X |   | 1 |   |   |\n",
      "+ - + - + - + - + - + - + - + - + - + - + - +\n",
      "|   |   |   |   |   |   |   | X | X |   |   |\n",
      "+ - + - + - + - + - + - + - + - + - + - + - +\n",
      "|   |   |   |   |   |   |   |   |   |   |   |\n",
      "+ - + - + - + - + - + - + - + - + - + - + - +\n",
      "|   |   |   |   |   |   |   |   |   |   |   |\n",
      "+ - + - + - + - + - + - + - + - + - + - + - +\n",
      "\n",
      "Best move 8 is:\n",
      "(2, 6) MCTSRecord(wins=12, count=17, score=0.6875)\n",
      "1111111111100111111111110011111111011001111110011100111111111110011111001011001111111001100111111111110011111111111\n",
      "\n",
      "+ - + - + - + - + - + - + - + - + - + - + - +\n",
      "|   |   |   |   |   |   |   |   |   |   |   |\n",
      "+ - + - + - + - + - + - + - + - + - + - + - +\n",
      "|   |   |   |   |   |   |   |   |   |   |   |\n",
      "+ - + - + - + - + - + - + - + - + - + - + - +\n",
      "|   |   |   |   |   |   |   |   | 2 |   |   |\n",
      "+ - + - + - + - + - + - + - + - + - + - + - +\n",
      "|   |   |   |   |   |   | X | X |   |   |   |\n",
      "+ - + - + - + - + - + - + - + - + - + - + - +\n",
      "|   |   |   |   |   |   |   |   |   |   |   |\n",
      "+ - + - + - + - + - + - + - + - + - + - + - +\n",
      "|   |   |   |   |   | X | X |   | 1 |   |   |\n",
      "+ - + - + - + - + - + - + - + - + - + - + - +\n",
      "|   |   |   |   |   |   |   | X | X |   |   |\n",
      "+ - + - + - + - + - + - + - + - + - + - + - +\n",
      "|   |   |   |   |   |   |   |   |   |   |   |\n",
      "+ - + - + - + - + - + - + - + - + - + - + - +\n",
      "|   |   |   |   |   |   |   |   |   |   |   |\n",
      "+ - + - + - + - + - + - + - + - + - + - + - +\n",
      "\n",
      "Best move 9 is:\n",
      "(4, 2) MCTSRecord(wins=5, count=16, score=0.3333333333333333)\n",
      "1111111111100111111111110011111111011001111110011100111111111110011111001011001111110001100111111111110011111111111\n",
      "\n",
      "+ - + - + - + - + - + - + - + - + - + - + - +\n",
      "|   |   |   |   |   |   |   |   |   |   |   |\n",
      "+ - + - + - + - + - + - + - + - + - + - + - +\n",
      "|   |   |   |   |   |   |   |   |   |   |   |\n",
      "+ - + - + - + - + - + - + - + - + - + - + - +\n",
      "|   |   |   |   |   |   |   |   | 2 |   |   |\n",
      "+ - + - + - + - + - + - + - + - + - + - + - +\n",
      "|   |   |   |   |   |   | X | X |   |   |   |\n",
      "+ - + - + - + - + - + - + - + - + - + - + - +\n",
      "|   |   |   |   |   |   |   |   |   |   |   |\n",
      "+ - + - + - + - + - + - + - + - + - + - + - +\n",
      "|   |   |   |   |   | X | X |   | X |   |   |\n",
      "+ - + - + - + - + - + - + - + - + - + - + - +\n",
      "|   |   |   |   |   |   | 1 | X | X |   |   |\n",
      "+ - + - + - + - + - + - + - + - + - + - + - +\n",
      "|   |   |   |   |   |   |   |   |   |   |   |\n",
      "+ - + - + - + - + - + - + - + - + - + - + - +\n",
      "|   |   |   |   |   |   |   |   |   |   |   |\n",
      "+ - + - + - + - + - + - + - + - + - + - + - +\n",
      "\n",
      "Best move 10 is:\n",
      "(3, 4) MCTSRecord(wins=11, count=14, score=0.7692307692307693)\n",
      "1111111111100111111111110011111111011001111110011100111111101110011111001011001111110001100111111111110011111111111\n",
      "\n",
      "+ - + - + - + - + - + - + - + - + - + - + - +\n",
      "|   |   |   |   |   |   |   |   |   |   |   |\n",
      "+ - + - + - + - + - + - + - + - + - + - + - +\n",
      "|   |   |   |   |   |   |   |   |   |   |   |\n",
      "+ - + - + - + - + - + - + - + - + - + - + - +\n",
      "|   |   |   |   |   |   |   |   | X |   |   |\n",
      "+ - + - + - + - + - + - + - + - + - + - + - +\n",
      "|   |   |   |   |   |   | X | X |   |   |   |\n",
      "+ - + - + - + - + - + - + - + - + - + - + - +\n",
      "|   |   |   |   |   |   |   | 2 |   |   |   |\n",
      "+ - + - + - + - + - + - + - + - + - + - + - +\n",
      "|   |   |   |   |   | X | X |   | X |   |   |\n",
      "+ - + - + - + - + - + - + - + - + - + - + - +\n",
      "|   |   |   |   |   |   | 1 | X | X |   |   |\n",
      "+ - + - + - + - + - + - + - + - + - + - + - +\n",
      "|   |   |   |   |   |   |   |   |   |   |   |\n",
      "+ - + - + - + - + - + - + - + - + - + - + - +\n",
      "|   |   |   |   |   |   |   |   |   |   |   |\n",
      "+ - + - + - + - + - + - + - + - + - + - + - +\n",
      "\n"
     ]
    }
   ],
   "source": [
    "from agents.MCTS import MCTSRandom\n",
    "from isolation.isolation import Isolation, DebugState\n",
    "MCTSRandom.load()\n",
    "\n",
    "def best_response(parent_state=Isolation(), verbose=True):\n",
    "    actions      = parent_state.actions()\n",
    "    child_states = [ parent_state.result(action) for action in actions ]\n",
    "    child_states = [ child for child in child_states if child in MCTSRandom.data ]\n",
    "    records      = [ MCTSRandom.data[child] for child in child_states  ]\n",
    "    best_state, best_record = max(zip(child_states, records),\n",
    "                                  key=lambda key_value: key_value[1].wins * key_value[1].wins/key_value[1].count)\n",
    "    best_move    = DebugState.ind2xy(best_state.locs[parent_state.player()])\n",
    "    if verbose:\n",
    "        print('Best move '+str(best_state.ply_count)+' is:')\n",
    "        print(best_move, best_record)\n",
    "        print( DebugState.from_state(best_state).bitboard_string )\n",
    "        print( DebugState.from_state(best_state) )\n",
    "    return best_move, best_record, best_state\n",
    "\n",
    "best_state = Isolation()\n",
    "for i in range(10):\n",
    "    try:\n",
    "        best_move, best_record, best_state = best_response(best_state)\n",
    "    except: pass\n"
   ]
  },
  {
   "cell_type": "markdown",
   "metadata": {
    "pycharm": {
     "name": "#%% md\n"
    }
   },
   "source": [
    "# AlphaBetaArea Method\n",
    "\n",
    "Alteratively we could simply watch a precached AlphaBeta play against itself when given 1 minute per move"
   ]
  },
  {
   "cell_type": "code",
   "execution_count": null,
   "metadata": {},
   "outputs": [],
   "source": [
    "AlphaBetaPlayer.verbose_depth = True\n",
    "play_sync(\n",
    "    Agent(AlphaBetaPlayer,'AlphaBeta 1'),\n",
    "    Agent(AlphaBetaPlayer,'AlphaBeta 2'),\n",
    "    { \"verbose\": True, \"time_limit\": 10*60*1000 }\n",
    ")\n",
    "AlphaBetaPlayer.save()"
   ]
  },
  {
   "cell_type": "markdown",
   "metadata": {
    "pycharm": {
     "name": "#%% md\n"
    }
   },
   "source": [
    "# League Tables\n",
    "\n",
    "Lets run every agent against every other agent and compare results"
   ]
  },
  {
   "cell_type": "code",
   "execution_count": 92,
   "metadata": {
    "pycharm": {
     "name": "#%%\n"
    }
   },
   "outputs": [
    {
     "name": "stdout",
     "output_type": "stream",
     "text": [
      " match_id:   10 |   0s |  40% ->  42% | Random vs Random 2\n",
      " match_id:   10 |   0s |  40% ->  32% | Random vs Greedy\n",
      " match_id:   10 |   0s |  50% ->  49% | Random vs Distance\n",
      " match_id:   10 |   0s |   0% ->   0% | Random vs Greedy Distance\n",
      " match_id:   10 |   3s |  10% ->  17% | Random vs Minimax\n",
      " match_id:   10 |  36s |  10% ->  19% | Random vs AlphaBeta\n",
      " match_id:   10 |  32s |   0% ->   0% | Random vs AlphaBeta Area\n",
      " match_id:   10 |   0s |  60% ->  54% | Random vs MCTS Maximum\n",
      " match_id:   10 |   0s |  40% ->  42% | Random vs MCTS Random\n",
      " match_id:   10 |   0s |  90% ->  87% | Random vs MCTS Maximum Heuristic\n",
      " match_id:   10 |   0s |  60% ->  62% | Random vs MCTS Random Heuristic\n",
      " match_id:   10 |  37s |  30% ->  41% | Random vs UCT\n",
      "\n",
      " match_id:   10 |   0s |  70% ->  75% | Greedy vs Random\n",
      " match_id:   10 |   0s |  50% ->  45% | Greedy vs Greedy 2\n",
      " match_id:   10 |   0s |  50% ->  55% | Greedy vs Distance\n",
      " match_id:   10 |   0s |  50% ->  45% | Greedy vs Greedy Distance\n",
      " match_id:   10 |   1s |  50% ->  45% | Greedy vs Minimax\n",
      " match_id:   10 |  35s |   0% ->   0% | Greedy vs AlphaBeta\n",
      " match_id:   10 |  35s |   0% ->   0% | Greedy vs AlphaBeta Area\n",
      " match_id:   10 |   0s | 100% -> 100% | Greedy vs MCTS Maximum\n",
      " match_id:   10 |   0s |  70% ->  77% | Greedy vs MCTS Random\n",
      " match_id:   10 |   0s |  80% ->  70% | Greedy vs MCTS Maximum Heuristic\n",
      " match_id:   10 |   0s |  90% ->  89% | Greedy vs MCTS Random Heuristic\n",
      " match_id:   10 |  43s |  60% ->  68% | Greedy vs UCT\n",
      "\n",
      " match_id:   10 |   0s |  20% ->   8% | Distance vs Random\n",
      " match_id:   10 |   0s |  50% ->  55% | Distance vs Greedy\n",
      " match_id:   10 |   0s |  50% ->  45% | Distance vs Distance 2\n",
      " match_id:   10 |   0s |   0% ->   0% | Distance vs Greedy Distance\n",
      " match_id:   10 |   1s |  50% ->  55% | Distance vs Minimax\n",
      " match_id:   10 |  48s |   0% ->   0% | Distance vs AlphaBeta\n",
      " match_id:   10 |  42s |   0% ->   0% | Distance vs AlphaBeta Area\n",
      " match_id:   10 |   0s |  40% ->  48% | Distance vs MCTS Maximum\n",
      " match_id:   10 |   0s |  80% ->  96% | Distance vs MCTS Random\n",
      " match_id:   10 |   0s |  30% ->  21% | Distance vs MCTS Maximum Heuristic\n",
      " match_id:   10 |   0s |  30% ->  29% | Distance vs MCTS Random Heuristic\n",
      " match_id:   10 |  51s |  30% ->  31% | Distance vs UCT\n",
      "\n",
      " match_id:   10 |   0s |  80% ->  88% | Greedy Distance vs Random\n",
      " match_id:   10 |   0s |  50% ->  45% | Greedy Distance vs Greedy\n",
      " match_id:   10 |   0s | 100% -> 100% | Greedy Distance vs Distance\n",
      " match_id:   10 |   0s |  50% ->  45% | Greedy Distance vs Greedy Distance 2\n",
      " match_id:   10 |   1s |  50% ->  45% | Greedy Distance vs Minimax\n",
      " match_id:   10 |  40s |  10% ->  19% | Greedy Distance vs AlphaBeta\n",
      " match_id:   10 | 203s |   0% ->   0% | Greedy Distance vs AlphaBeta Area\n",
      " match_id:   10 |   0s | 100% -> 100% | Greedy Distance vs MCTS Maximum\n",
      " match_id:   10 |   0s | 100% -> 100% | Greedy Distance vs MCTS Random\n",
      " match_id:   10 |   0s |  40% ->  16% | Greedy Distance vs MCTS Maximum Heuristic\n",
      " match_id:   10 |   0s |  80% ->  82% | Greedy Distance vs MCTS Random Heuristic\n",
      " match_id:   10 |  37s |  80% ->  92% | Greedy Distance vs UCT\n",
      "\n",
      " match_id:   10 |   6s |  70% ->  81% | Minimax vs Random\n",
      " match_id:   10 |   1s |  50% ->  45% | Minimax vs Greedy\n",
      " match_id:   10 |   1s |  50% ->  55% | Minimax vs Distance\n",
      " match_id:   10 |   1s |  50% ->  45% | Minimax vs Greedy Distance\n",
      " match_id:   10 |   3s |  50% ->  45% | Minimax vs Minimax 2\n",
      " match_id:   10 |  44s |  10% ->   5% | Minimax vs AlphaBeta\n",
      " match_id:   10 |  42s |   0% ->   0% | Minimax vs AlphaBeta Area\n",
      " match_id:   10 |   1s | 100% -> 100% | Minimax vs MCTS Maximum\n",
      " match_id:   10 |   2s |  90% ->  85% | Minimax vs MCTS Random\n",
      " match_id:   10 |   1s |  70% ->  77% | Minimax vs MCTS Maximum Heuristic\n",
      " match_id:   10 |   2s |  80% ->  82% | Minimax vs MCTS Random Heuristic\n",
      " match_id:   10 |  40s | 100% -> 100% | Minimax vs UCT\n",
      "\n",
      " match_id:   10 |  35s | 100% -> 100% | AlphaBeta vs Random\n",
      " match_id:   10 |  36s | 100% -> 100% | AlphaBeta vs Greedy\n",
      " match_id:   10 |  48s | 100% -> 100% | AlphaBeta vs Distance\n",
      " match_id:   10 |  38s |  90% ->  91% | AlphaBeta vs Greedy Distance\n",
      " match_id:   10 |  36s |  90% ->  93% | AlphaBeta vs Minimax\n",
      " match_id:   10 |  84s |  40% ->  40% | AlphaBeta vs AlphaBeta 2\n",
      " match_id:   10 |  85s |  40% ->  46% | AlphaBeta vs AlphaBeta Area\n",
      " match_id:   10 |  22s | 100% -> 100% | AlphaBeta vs MCTS Maximum\n",
      " match_id:   10 |  32s | 100% -> 100% | AlphaBeta vs MCTS Random\n",
      " match_id:   10 |  25s | 100% -> 100% | AlphaBeta vs MCTS Maximum Heuristic\n",
      " match_id:   10 |  31s | 100% -> 100% | AlphaBeta vs MCTS Random Heuristic\n",
      " match_id:   10 | 365s |  90% ->  93% | AlphaBeta vs UCT\n",
      "\n",
      " match_id:   10 |  41s | 100% -> 100% | AlphaBeta Area vs Random\n",
      " match_id:   10 |  37s | 100% -> 100% | AlphaBeta Area vs Greedy\n",
      " match_id:   10 |  41s | 100% -> 100% | AlphaBeta Area vs Distance\n",
      " match_id:   10 |  34s |  90% ->  97% | AlphaBeta Area vs Greedy Distance\n",
      " match_id:   10 |  34s | 100% -> 100% | AlphaBeta Area vs Minimax\n",
      " match_id:   10 |  87s |  50% ->  31% | AlphaBeta Area vs AlphaBeta\n",
      " match_id:   10 |  82s |  50% ->  55% | AlphaBeta Area vs AlphaBeta Area 2\n",
      " match_id:   10 | 476s | 100% -> 100% | AlphaBeta Area vs MCTS Maximum\n",
      " match_id:   10 |  34s | 100% -> 100% | AlphaBeta Area vs MCTS Random\n",
      " match_id:   10 |  32s | 100% -> 100% | AlphaBeta Area vs MCTS Maximum Heuristic\n",
      " match_id:   10 |  40s | 100% -> 100% | AlphaBeta Area vs MCTS Random Heuristic\n",
      " match_id:   10 |  73s |  90% ->  87% | AlphaBeta Area vs UCT\n",
      "\n",
      " match_id:   10 |   0s |  30% ->  37% | MCTS Maximum vs Random\n",
      " match_id:   10 |   0s |  60% ->  84% | MCTS Maximum vs Greedy\n",
      " match_id:   10 |   0s |  40% ->  46% | MCTS Maximum vs Distance\n",
      " match_id:   10 |   0s |   0% ->   0% | MCTS Maximum vs Greedy Distance\n",
      " match_id:   10 |   8s |   0% ->   0% | MCTS Maximum vs Minimax\n",
      " match_id:   10 |  31s |   0% ->   0% | MCTS Maximum vs AlphaBeta\n",
      " match_id:   10 |  29s |   0% ->   0% | MCTS Maximum vs AlphaBeta Area\n",
      " match_id:   10 |   1s |  30% ->  25% | MCTS Maximum vs MCTS Maximum 2\n",
      " match_id:   10 |   1s |  40% ->  50% | MCTS Maximum vs MCTS Random\n",
      " match_id:   10 |   1s |  30% ->  35% | MCTS Maximum vs MCTS Maximum Heuristic\n",
      " match_id:   10 |   1s |  30% ->  21% | MCTS Maximum vs MCTS Random Heuristic\n",
      " match_id:   10 |  31s |  50% ->  47% | MCTS Maximum vs UCT\n",
      "\n",
      " match_id:   10 |   1s |  20% ->  12% | MCTS Random vs Random\n",
      " match_id:   10 |   0s |  20% ->  20% | MCTS Random vs Greedy\n",
      " match_id:   10 |   0s |  80% ->  88% | MCTS Random vs Distance\n",
      " match_id:   10 |   0s |  20% ->  20% | MCTS Random vs Greedy Distance\n",
      " match_id:   10 |   3s |  40% ->  30% | MCTS Random vs Minimax\n",
      " match_id:   10 |  37s |   0% ->   0% | MCTS Random vs AlphaBeta\n",
      " match_id:   10 |  34s |   0% ->   0% | MCTS Random vs AlphaBeta Area\n",
      " match_id:   10 |   1s |  90% ->  91% | MCTS Random vs MCTS Maximum\n",
      " match_id:   10 |   1s |  30% ->  21% | MCTS Random vs MCTS Random 2\n",
      " match_id:   10 |   1s |  60% ->  66% | MCTS Random vs MCTS Maximum Heuristic\n",
      " match_id:   10 |   2s |  50% ->  53% | MCTS Random vs MCTS Random Heuristic\n",
      " match_id:   10 |  36s |  70% ->  83% | MCTS Random vs UCT\n",
      "\n",
      " match_id:   10 |   2s |  30% ->  37% | MCTS Maximum Heuristic vs Random\n",
      " match_id:   10 |   0s |  60% ->  70% | MCTS Maximum Heuristic vs Greedy\n",
      " match_id:   10 |   0s |  10% ->   1% | MCTS Maximum Heuristic vs Distance\n",
      " match_id:   10 |   0s |   0% ->   0% | MCTS Maximum Heuristic vs Greedy Distance\n",
      " match_id:   10 |   2s |   0% ->   0% | MCTS Maximum Heuristic vs Minimax\n",
      " match_id:   10 |  37s |  10% ->   7% | MCTS Maximum Heuristic vs AlphaBeta\n",
      " match_id:   10 |  29s |   0% ->   0% | MCTS Maximum Heuristic vs AlphaBeta Area\n",
      " match_id:   10 |   2s |  40% ->  56% | MCTS Maximum Heuristic vs MCTS Maximum\n",
      " match_id:   10 |   5s |  40% ->  36% | MCTS Maximum Heuristic vs MCTS Random\n",
      " match_id:   10 |   2s |  10% ->  15% | MCTS Maximum Heuristic vs MCTS Maximum Heuristic 2\n",
      " match_id:   10 |   3s |  50% ->  29% | MCTS Maximum Heuristic vs MCTS Random Heuristic\n",
      " match_id:   10 |  31s |  20% ->  32% | MCTS Maximum Heuristic vs UCT\n",
      "\n",
      " match_id:   10 |   4s |  40% ->  46% | MCTS Random Heuristic vs Random\n",
      " match_id:   10 |   1s |  20% ->  18% | MCTS Random Heuristic vs Greedy\n"
     ]
    },
    {
     "name": "stdout",
     "output_type": "stream",
     "text": [
      " match_id:   10 |   1s |  70% ->  69% | MCTS Random Heuristic vs Distance\n",
      " match_id:   10 |   0s |  20% ->  22% | MCTS Random Heuristic vs Greedy Distance\n",
      " match_id:   10 |   3s |  20% ->  10% | MCTS Random Heuristic vs Minimax\n",
      " match_id:   10 |  37s |  20% ->  18% | MCTS Random Heuristic vs AlphaBeta\n",
      " match_id:   10 |  43s |   0% ->   0% | MCTS Random Heuristic vs AlphaBeta Area\n",
      " match_id:   10 |   2s |  50% ->  49% | MCTS Random Heuristic vs MCTS Maximum\n",
      " match_id:   10 |   5s |  40% ->  28% | MCTS Random Heuristic vs MCTS Random\n",
      " match_id:   10 |   2s |  70% ->  79% | MCTS Random Heuristic vs MCTS Maximum Heuristic\n",
      " match_id:   10 |   2s |  50% ->  51% | MCTS Random Heuristic vs MCTS Random Heuristic 2\n",
      " match_id:   10 |  34s |  50% ->  55% | MCTS Random Heuristic vs UCT\n",
      "\n",
      " match_id:   10 |  39s |  20% ->   6% | UCT vs Random\n",
      " match_id:   10 |  37s |  30% ->  47% | UCT vs Greedy\n",
      " match_id:   10 |  44s |  70% ->  75% | UCT vs Distance\n",
      " match_id:   10 |  37s |  20% ->  26% | UCT vs Greedy Distance\n",
      " match_id:   10 |  45s |  30% ->  19% | UCT vs Minimax\n",
      " match_id:   10 | 1628s |   0% ->   0% | UCT vs AlphaBeta\n",
      " match_id:   10 | 634s |  30% ->  27% | UCT vs AlphaBeta Area\n",
      " match_id:   10 |  36s |  80% ->  68% | UCT vs MCTS Maximum\n",
      " match_id:   10 |  35s |  60% ->  58% | UCT vs MCTS Random\n",
      " match_id:   10 |  51s |  90% ->  83% | UCT vs MCTS Maximum Heuristic\n",
      " match_id:   10 |  40s |  40% ->  22% | UCT vs MCTS Random Heuristic\n",
      " match_id:   10 |  78s |  40% ->  34% | UCT vs UCT 2\n",
      "\n"
     ]
    },
    {
     "ename": "AttributeError",
     "evalue": "type object 'RandomPlayer' has no attribute 'save'",
     "output_type": "error",
     "traceback": [
      "\u001B[0;31m---------------------------------------------------------------------------\u001B[0m",
      "\u001B[0;31mAttributeError\u001B[0m                            Traceback (most recent call last)",
      "\u001B[0;32m<ipython-input-92-df50bbeba7d0>\u001B[0m in \u001B[0;36m<module>\u001B[0;34m\u001B[0m\n\u001B[1;32m     15\u001B[0m \u001B[0;34m\u001B[0m\u001B[0m\n\u001B[1;32m     16\u001B[0m \u001B[0;32mfor\u001B[0m \u001B[0magent\u001B[0m \u001B[0;32min\u001B[0m \u001B[0mTEST_AGENTS\u001B[0m\u001B[0;34m.\u001B[0m\u001B[0mkeys\u001B[0m\u001B[0;34m(\u001B[0m\u001B[0;34m)\u001B[0m\u001B[0;34m:\u001B[0m\u001B[0;34m\u001B[0m\u001B[0;34m\u001B[0m\u001B[0m\n\u001B[0;32m---> 17\u001B[0;31m     \u001B[0mTEST_AGENTS\u001B[0m\u001B[0;34m[\u001B[0m\u001B[0magent\u001B[0m\u001B[0;34m]\u001B[0m\u001B[0;34m.\u001B[0m\u001B[0magent_class\u001B[0m\u001B[0;34m.\u001B[0m\u001B[0msave\u001B[0m\u001B[0;34m(\u001B[0m\u001B[0;34m)\u001B[0m\u001B[0;34m\u001B[0m\u001B[0;34m\u001B[0m\u001B[0m\n\u001B[0m",
      "\u001B[0;31mAttributeError\u001B[0m: type object 'RandomPlayer' has no attribute 'save'"
     ]
    }
   ],
   "source": [
    "gc.collect()\n",
    "for agent in TEST_AGENTS.keys():\n",
    "    for opponent in TEST_AGENTS.keys():\n",
    "        time.sleep(0.1)\n",
    "        TEST_AGENTS[agent   ].agent_class.verbose = False\n",
    "        TEST_AGENTS[opponent].agent_class.verbose = False\n",
    "        is_slow = any(\n",
    "            name in TEST_AGENTS[agent].name + TEST_AGENTS[opponent].name\n",
    "            for name in ['Alpha', 'Area', 'UCT']\n",
    "        )\n",
    "        run_backpropagation({\n",
    "            \"agent\":      agent,\n",
    "            \"opponent\":   opponent,\n",
    "            \"rounds\":     10  if is_slow else 100,\n",
    "            \"progress\":   False,\n",
    "            \"time_limit\": 150    # increase to prevent TimeoutErrors\n",
    "        })\n",
    "    print()\n",
    "\n",
    "for agent in TEST_AGENTS.keys():\n",
    "    try: TEST_AGENTS[agent].agent_class.save()\n",
    "    except: pass"
   ]
  },
  {
   "cell_type": "code",
   "execution_count": null,
   "metadata": {},
   "outputs": [],
   "source": []
  }
 ],
 "metadata": {
  "kernelspec": {
   "display_name": "Python 3",
   "language": "python",
   "name": "python3"
  },
  "language_info": {
   "codemirror_mode": {
    "name": "ipython",
    "version": 3
   },
   "file_extension": ".py",
   "mimetype": "text/x-python",
   "name": "python",
   "nbconvert_exporter": "python",
   "pygments_lexer": "ipython3",
   "version": "3.7.7"
  }
 },
 "nbformat": 4,
 "nbformat_minor": 1
}