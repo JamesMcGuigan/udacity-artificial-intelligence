{
 "cells": [
  {
   "cell_type": "markdown",
   "metadata": {},
   "source": [
    "# Project: Part of Speech Tagging with Hidden Markov Models\n",
    "---\n",
    "### Introduction\n",
    "\n",
    "Part of speech tagging is the process of determining the syntactic category of a word from the words in its surrounding context. It is often used to help disambiguate natural language phrases because it can be done quickly with high accuracy. Tagging can be used for many NLP tasks like determining correct pronunciation during speech synthesis (for example, _dis_-count as a noun vs dis-_count_ as a verb), for information retrieval, and for word sense disambiguation.\n",
    "\n",
    "In this notebook, you'll use the [Pomegranate](http://pomegranate.readthedocs.io/) library to build a hidden Markov model for part of speech tagging using a \"universal\" tagset. Hidden Markov models have been able to achieve [>96% tag accuracy with larger tagsets on realistic text corpora](http://www.coli.uni-saarland.de/~thorsten/publications/Brants-ANLP00.pdf). Hidden Markov models have also been used for speech recognition and speech generation, machine translation, gene recognition for bioinformatics, and human gesture recognition for computer vision, and more.\n",
    "\n",
    "![](_post-hmm.png)\n",
    "\n",
    "The notebook already contains some code to get you started. You only need to add some new functionality in the areas indicated to complete the project; you will not need to modify the included code beyond what is requested. Sections that begin with **'IMPLEMENTATION'** in the header indicate that you must provide code in the block that follows. Instructions will be provided for each section, and the specifics of the implementation are marked in the code block with a 'TODO' statement. Please be sure to read the instructions carefully!"
   ]
  },
  {
   "cell_type": "markdown",
   "metadata": {},
   "source": [
    "<div class=\"alert alert-block alert-info\">\n",
    "**Note:** Once you have completed all of the code implementations, you need to finalize your work by exporting the iPython Notebook as an HTML document. Before exporting the notebook to html, all of the code cells need to have been run so that reviewers can see the final implementation and output. You must then **export the notebook** by running the last cell in the notebook, or by using the menu above and navigating to **File -> Download as -> HTML (.html)** Your submissions should include both the `html` and `ipynb` files.\n",
    "</div>"
   ]
  },
  {
   "cell_type": "markdown",
   "metadata": {},
   "source": [
    "<div class=\"alert alert-block alert-info\">\n",
    "**Note:** Code and Markdown cells can be executed using the `Shift + Enter` keyboard shortcut. Markdown cells can be edited by double-clicking the cell to enter edit mode.\n",
    "</div>"
   ]
  },
  {
   "cell_type": "markdown",
   "metadata": {},
   "source": [
    "### The Road Ahead\n",
    "You must complete Steps 1-3 below to pass the project. The section on Step 4 includes references & resources you can use to further explore HMM taggers.\n",
    "\n",
    "- [Step 1](#Step-1:-Read-and-preprocess-the-dataset): Review the provided interface to load and access the text corpus\n",
    "- [Step 2](#Step-2:-Build-a-Most-Frequent-Class-tagger): Build a Most Frequent Class tagger to use as a baseline\n",
    "- [Step 3](#Step-3:-Build-an-HMM-tagger): Build an HMM Part of Speech tagger and compare to the MFC baseline\n",
    "- [Step 4](#Step-4:-[Optional]-Improving-model-performance): (Optional) Improve the HMM tagger"
   ]
  },
  {
   "cell_type": "code",
   "execution_count": 1,
   "metadata": {},
   "outputs": [],
   "source": [
    "# Jupyter \"magic methods\" -- only need to be run once per kernel restart\n",
    "%load_ext autoreload\n",
    "%aimport helpers, tests\n",
    "%autoreload 1"
   ]
  },
  {
   "cell_type": "code",
   "execution_count": 2,
   "metadata": {},
   "outputs": [],
   "source": [
    "# import python modules -- this cell needs to be run again if you make changes to any of the files\n",
    "import matplotlib.pyplot as plt\n",
    "import numpy as np\n",
    "import random\n",
    "\n",
    "from IPython.core.display import HTML\n",
    "from itertools import chain\n",
    "from collections import Counter, defaultdict\n",
    "from helpers import show_model, Dataset\n",
    "from pomegranate import State, HiddenMarkovModel, DiscreteDistribution\n",
    "from operator import itemgetter"
   ]
  },
  {
   "cell_type": "markdown",
   "metadata": {},
   "source": [
    "## Step 1: Read and preprocess the dataset\n",
    "---\n",
    "We'll start by reading in a text corpus and splitting it into a training and testing dataset. The data set is a copy of the [Brown corpus](https://en.wikipedia.org/wiki/Brown_Corpus) (originally from the [NLTK](https://www.nltk.org/) library) that has already been pre-processed to only include the [universal tagset](https://arxiv.org/pdf/1104.2086.pdf). You should expect to get slightly higher accuracy using this simplified tagset than the same model would achieve on a larger tagset like the full [Penn treebank tagset](https://www.ling.upenn.edu/courses/Fall_2003/ling001/penn_treebank_pos.html), but the process you'll follow would be the same.\n",
    "\n",
    "The `Dataset` class provided in helpers.py will read and parse the corpus. You can generate your own datasets compatible with the reader by writing them to the following format. The dataset is stored in plaintext as a collection of words and corresponding tags. Each sentence starts with a unique identifier on the first line, followed by one tab-separated word/tag pair on each following line. Sentences are separated by a single blank line.\n",
    "\n",
    "Example from the Brown corpus.\n",
    "```\n",
    "b100-38532\n",
    "Perhaps\tADV\n",
    "it\tPRON\n",
    "was\tVERB\n",
    "right\tADJ\n",
    ";\t.\n",
    ";\t.\n",
    "\n",
    "b100-35577\n",
    "...\n",
    "```"
   ]
  },
  {
   "cell_type": "code",
   "execution_count": 3,
   "metadata": {},
   "outputs": [
    {
     "name": "stdout",
     "output_type": "stream",
     "text": [
      "There are 57340 sentences in the corpus.\n",
      "There are 45872 sentences in the training set.\n",
      "There are 11468 sentences in the testing set.\n"
     ]
    }
   ],
   "source": [
    "data = Dataset(\"tags-universal.txt\", \"brown-universal.txt\", train_test_split=0.8)\n",
    "\n",
    "print(\"There are {} sentences in the corpus.\".format(len(data)))\n",
    "print(\"There are {} sentences in the training set.\".format(len(data.training_set)))\n",
    "print(\"There are {} sentences in the testing set.\".format(len(data.testing_set)))\n",
    "\n",
    "assert len(data) == len(data.training_set) + len(data.testing_set), \\\n",
    "       \"The number of sentences in the training set + testing set should sum to the number of sentences in the corpus\""
   ]
  },
  {
   "cell_type": "markdown",
   "metadata": {},
   "source": [
    "### The Dataset Interface\n",
    "\n",
    "You can access (mostly) immutable references to the dataset through a simple interface provided through the `Dataset` class, which represents an iterable collection of sentences along with easy access to partitions of the data for training & testing. Review the reference below, then run and review the next few cells to make sure you understand the interface before moving on to the next step.\n",
    "\n",
    "```\n",
    "Dataset-only Attributes:\n",
    "    training_set - reference to a Subset object containing the samples for training\n",
    "    testing_set - reference to a Subset object containing the samples for testing\n",
    "\n",
    "Dataset & Subset Attributes:\n",
    "    sentences - a dictionary with an entry {sentence_key: Sentence()} for each sentence in the corpus\n",
    "    keys - an immutable ordered (not sorted) collection of the sentence_keys for the corpus\n",
    "    vocab - an immutable collection of the unique words in the corpus\n",
    "    tagset - an immutable collection of the unique tags in the corpus\n",
    "    X - returns an array of words grouped by sentences ((w11, w12, w13, ...), (w21, w22, w23, ...), ...)\n",
    "    Y - returns an array of tags grouped by sentences ((t11, t12, t13, ...), (t21, t22, t23, ...), ...)\n",
    "    N - returns the number of distinct samples (individual words or tags) in the dataset\n",
    "\n",
    "Methods:\n",
    "    stream() - returns an flat iterable over all (word, tag) pairs across all sentences in the corpus\n",
    "    __iter__() - returns an iterable over the data as (sentence_key, Sentence()) pairs\n",
    "    __len__() - returns the nubmer of sentences in the dataset\n",
    "```\n",
    "\n",
    "For example, consider a Subset, `subset`, of the sentences `{\"s0\": Sentence((\"See\", \"Spot\", \"run\"), (\"VERB\", \"NOUN\", \"VERB\")), \"s1\": Sentence((\"Spot\", \"ran\"), (\"NOUN\", \"VERB\"))}`. The subset will have these attributes:\n",
    "\n",
    "```\n",
    "subset.keys == {\"s1\", \"s0\"}  # unordered\n",
    "subset.vocab == {\"See\", \"run\", \"ran\", \"Spot\"}  # unordered\n",
    "subset.tagset == {\"VERB\", \"NOUN\"}  # unordered\n",
    "subset.X == ((\"Spot\", \"ran\"), (\"See\", \"Spot\", \"run\"))  # order matches .keys\n",
    "subset.Y == ((\"NOUN\", \"VERB\"), (\"VERB\", \"NOUN\", \"VERB\"))  # order matches .keys\n",
    "subset.N == 7  # there are a total of seven observations over all sentences\n",
    "len(subset) == 2  # because there are two sentences\n",
    "```\n",
    "\n",
    "<div class=\"alert alert-block alert-info\">\n",
    "**Note:** The `Dataset` class is _convenient_, but it is **not** efficient. It is not suitable for huge datasets because it stores multiple redundant copies of the same data.\n",
    "</div>"
   ]
  },
  {
   "cell_type": "code",
   "execution_count": 4,
   "metadata": {},
   "outputs": [
    {
     "name": "stdout",
     "output_type": "stream",
     "text": [
      "45872 sentences[0] Sentence(words=('He', 'bases', 'his', 'approach', 'on', 'the', 'belief', 'that', 'anything', 'can', 'follow', 'anything', '.'), tags=('PRON', 'VERB', 'DET', 'NOUN', 'ADP', 'DET', 'NOUN', 'ADP', 'NOUN', 'VERB', 'VERB', 'NOUN', '.'))\n",
      "\n",
      "45872 keys[:5] ['b100-35433', 'b100-16721', 'b100-5902', 'b100-45820', 'b100-9070']\n",
      "\n",
      "50536 vocab[:5] frozenset({'Gerome', 'paradigms', '285', 'twitched', 'mineral-rich'})\n",
      "\n",
      "12 tagset frozenset({'ADV', 'DET', 'ADP', 'CONJ', 'ADJ', 'PRT', '.', 'PRON', 'X', 'NUM', 'NOUN', 'VERB'})\n",
      "\n",
      "45872 X[0] ('Whenever', 'artists', ',', 'indeed', ',', 'turned', 'to', 'actual', 'representations', 'or', 'molded', 'three-dimensional', 'figures', ',', 'which', 'were', 'rare', 'down', 'to', '800', 'B.C.', ',', 'they', 'tended', 'to', 'reflect', 'reality', '(', 'see', 'Plate', '6a', ',', '9b', ')', ';', ';')\n",
      "\n",
      "45872 Y[0] ('ADV', 'NOUN', '.', 'ADV', '.', 'VERB', 'ADP', 'ADJ', 'NOUN', 'CONJ', 'VERB', 'ADJ', 'NOUN', '.', 'DET', 'VERB', 'ADJ', 'PRT', 'ADP', 'NUM', 'NOUN', '.', 'PRON', 'VERB', 'PRT', 'VERB', 'NOUN', '.', 'VERB', 'NOUN', 'NUM', '.', 'NUM', '.', '.', '.')\n",
      "\n",
      "N 928458\n"
     ]
    }
   ],
   "source": [
    "print(len(data.training_set.sentences), 'sentences[0]', data.training_set.sentences['b100-21072'])\n",
    "print()\n",
    "print(len(data.training_set.keys), 'keys[:5]', data.training_set.keys[0:5])\n",
    "print()\n",
    "print(len(data.training_set.vocab), 'vocab[:5]', frozenset(random.sample(data.training_set.vocab,5)))\n",
    "print()\n",
    "print(len(data.training_set.tagset), 'tagset', data.training_set.tagset)\n",
    "print()\n",
    "print(len(data.training_set.X), 'X[0]', data.training_set.X[0])\n",
    "print()\n",
    "print(len(data.training_set.Y), 'Y[0]', data.training_set.Y[0])\n",
    "print()\n",
    "print('N', data.training_set.N)"
   ]
  },
  {
   "cell_type": "markdown",
   "metadata": {},
   "source": [
    "#### Sentences\n",
    "\n",
    "`Dataset.sentences` is a dictionary of all sentences in the training corpus, each keyed to a unique sentence identifier. Each `Sentence` is itself an object with two attributes: a tuple of the words in the sentence named `words` and a tuple of the tag corresponding to each word named `tags`."
   ]
  },
  {
   "cell_type": "code",
   "execution_count": 5,
   "metadata": {},
   "outputs": [
    {
     "name": "stdout",
     "output_type": "stream",
     "text": [
      "Sentence: b100-38532\n",
      "words:\n",
      "\t('Perhaps', 'it', 'was', 'right', ';', ';')\n",
      "tags:\n",
      "\t('ADV', 'PRON', 'VERB', 'ADJ', '.', '.')\n"
     ]
    }
   ],
   "source": [
    "key = 'b100-38532'\n",
    "print(\"Sentence: {}\".format(key))\n",
    "print(\"words:\\n\\t{!s}\".format(data.sentences[key].words))\n",
    "print(\"tags:\\n\\t{!s}\".format(data.sentences[key].tags))"
   ]
  },
  {
   "cell_type": "markdown",
   "metadata": {},
   "source": [
    "<div class=\"alert alert-block alert-info\">\n",
    "**Note:** The underlying iterable sequence is **unordered** over the sentences in the corpus; it is not guaranteed to return the sentences in a consistent order between calls. Use `Dataset.stream()`, `Dataset.keys`, `Dataset.X`, or `Dataset.Y` attributes if you need ordered access to the data.\n",
    "</div>\n",
    "\n",
    "#### Counting Unique Elements\n",
    "\n",
    "You can access the list of unique words (the dataset vocabulary) via `Dataset.vocab` and the unique list of tags via `Dataset.tagset`."
   ]
  },
  {
   "cell_type": "code",
   "execution_count": 6,
   "metadata": {},
   "outputs": [
    {
     "name": "stdout",
     "output_type": "stream",
     "text": [
      "There are a total of 1161192 samples of 56057 unique words in the corpus.\n",
      "There are 928458 samples of 50536 unique words in the training set.\n",
      "There are 232734 samples of 25112 unique words in the testing set.\n",
      "There are 5521 words in the test set that are missing in the training set.\n"
     ]
    }
   ],
   "source": [
    "print(\"There are a total of {} samples of {} unique words in the corpus.\"\n",
    "      .format(data.N, len(data.vocab)))\n",
    "print(\"There are {} samples of {} unique words in the training set.\"\n",
    "      .format(data.training_set.N, len(data.training_set.vocab)))\n",
    "print(\"There are {} samples of {} unique words in the testing set.\"\n",
    "      .format(data.testing_set.N, len(data.testing_set.vocab)))\n",
    "print(\"There are {} words in the test set that are missing in the training set.\"\n",
    "      .format(len(data.testing_set.vocab - data.training_set.vocab)))\n",
    "\n",
    "assert data.N == data.training_set.N + data.testing_set.N, \\\n",
    "       \"The number of training + test samples should sum to the total number of samples\""
   ]
  },
  {
   "cell_type": "markdown",
   "metadata": {},
   "source": [
    "#### Accessing word and tag Sequences\n",
    "The `Dataset.X` and `Dataset.Y` attributes provide access to ordered collections of matching word and tag sequences for each sentence in the dataset."
   ]
  },
  {
   "cell_type": "code",
   "execution_count": 7,
   "metadata": {},
   "outputs": [
    {
     "name": "stdout",
     "output_type": "stream",
     "text": [
      "Sentence 1: ('Mr.', 'Podger', 'had', 'thanked', 'him', 'gravely', ',', 'and', 'now', 'he', 'made', 'use', 'of', 'the', 'advice', '.')\n",
      "\n",
      "Labels 1: ('NOUN', 'NOUN', 'VERB', 'VERB', 'PRON', 'ADV', '.', 'CONJ', 'ADV', 'PRON', 'VERB', 'NOUN', 'ADP', 'DET', 'NOUN', '.')\n",
      "\n",
      "Sentence 2: ('But', 'there', 'seemed', 'to', 'be', 'some', 'difference', 'of', 'opinion', 'as', 'to', 'how', 'far', 'the', 'board', 'should', 'go', ',', 'and', 'whose', 'advice', 'it', 'should', 'follow', '.')\n",
      "\n",
      "Labels 2: ('CONJ', 'PRT', 'VERB', 'PRT', 'VERB', 'DET', 'NOUN', 'ADP', 'NOUN', 'ADP', 'ADP', 'ADV', 'ADV', 'DET', 'NOUN', 'VERB', 'VERB', '.', 'CONJ', 'DET', 'NOUN', 'PRON', 'VERB', 'VERB', '.')\n",
      "\n"
     ]
    }
   ],
   "source": [
    "# accessing words with Dataset.X and tags with Dataset.Y\n",
    "for i in range(2):\n",
    "    print(\"Sentence {}:\".format(i + 1), data.X[i])\n",
    "    print()\n",
    "    print(\"Labels {}:\".format(i + 1), data.Y[i])\n",
    "    print()"
   ]
  },
  {
   "cell_type": "markdown",
   "metadata": {},
   "source": [
    "#### Accessing (word, tag) Samples\n",
    "The `Dataset.stream()` method returns an iterator that chains together every pair of (word, tag) entries across all sentences in the entire corpus."
   ]
  },
  {
   "cell_type": "code",
   "execution_count": 8,
   "metadata": {},
   "outputs": [
    {
     "name": "stdout",
     "output_type": "stream",
     "text": [
      "\n",
      "Stream (word, tag) pairs:\n",
      "\n",
      "\t ('Mr.', 'NOUN')\n",
      "\t ('Podger', 'NOUN')\n",
      "\t ('had', 'VERB')\n",
      "\t ('thanked', 'VERB')\n",
      "\t ('him', 'PRON')\n",
      "\t ('gravely', 'ADV')\n",
      "\t (',', '.')\n"
     ]
    }
   ],
   "source": [
    "# use Dataset.stream() (word, tag) samples for the entire corpus\n",
    "print(\"\\nStream (word, tag) pairs:\\n\")\n",
    "for i, pair in enumerate(data.stream()):\n",
    "    print(\"\\t\", pair)\n",
    "    if i > 5: break"
   ]
  },
  {
   "cell_type": "markdown",
   "metadata": {},
   "source": [
    "\n",
    "For both our baseline tagger and the HMM model we'll build, we need to estimate the frequency of tags & words from the frequency counts of observations in the training corpus. In the next several cells you will complete functions to compute the counts of several sets of counts."
   ]
  },
  {
   "cell_type": "markdown",
   "metadata": {},
   "source": [
    "## Step 2: Build a Most Frequent Class tagger\n",
    "---\n",
    "\n",
    "Perhaps the simplest tagger (and a good baseline for tagger performance) is to simply choose the tag most frequently assigned to each word. This \"most frequent class\" tagger inspects each observed word in the sequence and assigns it the label that was most often assigned to that word in the corpus."
   ]
  },
  {
   "cell_type": "markdown",
   "metadata": {},
   "source": [
    "### IMPLEMENTATION: Pair Counts\n",
    "\n",
    "Complete the function below that computes the joint frequency counts for two input sequences."
   ]
  },
  {
   "cell_type": "code",
   "execution_count": 9,
   "metadata": {},
   "outputs": [
    {
     "name": "stdout",
     "output_type": "stream",
     "text": [
      "emission_counts[:1] {'PRT': {'nary': 1, 'such': 223, \"y'know\": 1, 'Glory': 1, 'oops': 1, 'Out': 12, 'Ah-ah': 1, 'Hell': 7, 'Boy': 1, \"Penny's\": 2, \"he's\": 48, \"I'll\": 139, \"Guardino's\": 1, \"he'd\": 62, 'Bullshit': 1, \"Myra's\": 1, \"You'd\": 5, 'Such': 28, 'Hallelujah': 1, 'to': 11784, 'Uh-huh': 4, \"What'd\": 1, 'Amen': 5, 'presto': 1, 'God': 2, 'Why': 2, \"t'\": 1, \"We've\": 18, \"Mack's\": 1, \"They'll\": 15, \"he'll\": 13, \"camera's\": 1, \"there'll\": 1, \"throat's\": 1, \"How'd\": 2, 'farewell': 1, 'Bah': 1, 'half': 182, 'boom-boom-boom': 1, \"Wally's\": 2, \"duds'd\": 1, \"Katharine's\": 1, \"we'd\": 18, \"Seaton's\": 1, 'M-m-m': 1, \"She'd\": 12, 'Oh-the-pain-of-it': 1, \"Breed's\": 1, 'dammit': 3, 'goddammit': 1, \"You'll\": 26, \"we'll\": 22, 'Aaa-ee': 1, 'Hurrah': 2, \"nobody'd\": 1, 'O.K.': 5, 'Yooee': 1, 'please': 7, 'Up': 10, \"Summer's\": 1, 'Dammit': 3, \"we're\": 28, 'rather': 5, 'Ah': 10, \"company's\": 3, \"she'll\": 4, 'say': 10, 'pugh': 1, 'good-bye': 4, 'Many': 5, \"cane's\": 1, 'Aaawww': 1, 'Mmm': 1, 'up': 1373, 'Man': 1, 'Gee': 1, \"that'd\": 1, \"wife's\": 1, 'Goodby': 1, \"doctor's\": 1, 'zounds': 2, 'uh-uh': 1, 'Sure-sure': 1, 'Shh': 1, \"undersecretary's\": 1, \"roulette's\": 1, 'Toot-toot': 1, \"they'll\": 13, \"Who'd\": 1, 'over': 309, \"that's\": 71, \"What's\": 27, 'Hurray': 1, \"It'll\": 6, \"He'd\": 16, \"you'll\": 44, 'Sssshoo': 1, 'ahem': 1, 'Jeepers': 1, 'Henh': 1, \"He'll\": 13, 'Please': 7, 'There': 660, 'Say': 1, 'Whee': 1, \"Them's\": 2, 'out': 1304, \"Somebody's\": 1, \"We'd\": 9, \"Heat's\": 1, 'Zingggg-O': 1, \"fire's\": 2, 'So': 1, \"cowhand'd\": 1, 'Goodbye': 1, 'my': 1, 'godamit': 1, 'goodnight': 1, \"That's\": 83, 'Jesus': 4, 'tarantara': 1, \"ye're\": 2, 'Crunch': 1, \"Lucille's\": 1, 'honest-to-Betsy': 1, 'goddamit': 1, \"what's\": 14, \"out'n\": 2, 'OK.': 1, \"Nobody's\": 1, 'Good-by': 1, 'In': 1, \"Rob's\": 1, 'about': 16, 'Eh': 5, \"boat's\": 1, \"Black's\": 1, 'Good-bye': 1, 'quite': 34, \"Buckhorn's\": 1, \"I'd\": 87, \"They'd\": 5, \"there'd\": 3, 'ah': 1, \"You're\": 42, 'uhhu': 1, 'Howdy': 1, 'Chrissake': 1, \"Pietro's\": 1, 'oh': 5, \"kind's\": 1, 'huh': 3, \"'ello\": 1, 'Pap-pap-pap-hey': 1, \"it'd\": 3, 'Hi': 5, 'Howda': 1, 'goooolick': 1, 'Hello': 4, \"you've\": 32, 'good-night': 1, 'Alas': 4, 'Atta': 2, \"granite's\": 1, \"father's\": 1, 'Ahm': 1, 'many': 14, 'Yesiree': 1, 'ha': 2, \"else's\": 7, \"Arthur's\": 1, \"oystchers'll\": 1, 'dairy-oh': 1, \"anybody'd\": 1, 'after': 1, 'Creepers': 1, 'ba-a-a': 1, 'amen': 4, 'Be': 1, \"Ike's\": 1, 'Oooo': 1, 'gosh': 1, \"it's\": 122, \"Springfield's\": 1, 'pip': 2, \"Who'll\": 1, \"'tis\": 1, 'Aah': 1, \"'tain't\": 1, 'hey': 4, \"money's\": 1, \"you'd\": 24, \"t'jawn\": 1, \"Everything's\": 1, \"We're\": 21, \"guy's\": 2, \"Y're\": 1, \"Skolman's\": 1, \"t'lah\": 1, 'Umm': 1, 'damn': 1, \"That'll\": 5, \"I've\": 100, 'Pugh': 1, 'uh': 2, \"there's\": 48, \"Nothing's\": 1, 'Fiddlesticks': 1, 'Goolick': 1, \"C'mon\": 3, 'Well': 86, \"sun'll\": 1, \"other's\": 5, 'Krist': 1, \"Knife's\": 1, 'help': 1, 'Heigh-ho': 1, \"they're\": 32, 'across': 11, 'up-pp': 1, \"Where'd\": 4, 'down': 543, 'ther': 1, 'Hmm': 1, \"Tim's\": 1, \"we've\": 12, 'Indeed': 2, 'unnnt': 1, 'Welcome': 3, 'Half': 4, 'All': 168, \"He's\": 53, \"Mahzeer's\": 2, 'Bong': 6, 'on': 421, \"thet's\": 1, 'Oh': 89, 'Shucks': 1, \"Arlene's\": 1, \"Blackwell's\": 1, \"Kate's\": 1, \"You've\": 21, \"leg's\": 1, \"'mon\": 1, \"who'd\": 7, 'hoo-pig': 1, 'On': 1, \"they've\": 6, \"who's\": 5, 'Wow': 1, \"it'll\": 7, 'off': 365, 'Bravo': 1, 'there': 1101, 'diddle': 1, 'Morning': 1, \"you're\": 72, 'eh': 1, 'O': 9, 'see': 1, 'hubba': 1, \"Why'n\": 1, 'bannnnnng': 1, 'damnit': 1, 'Jerusalem': 1, 'goodbye': 2, 'hello': 2, 'Off': 3, 'Goody': 1, 'theare': 1, \"kid's\": 3, \"Where's\": 6, \"Great's\": 1, 'rum-tum-tum': 1, 'hell': 3, 'insomma': 1, 'uh-huh': 1, \"Pa'd\": 1, 'Um': 2, \"John'll\": 1, \"She'll\": 5, 'Roger': 1, \"How's\": 8, 'Okay': 11, 'alas': 4, 'in': 362, \"Celie's\": 1, 'Aw': 1, 'Over': 8, 'sake': 1, 'Keeeerist': 1, \"what're\": 1, \"she'd\": 46, \"level's\": 1, 'Golly': 1, 'shucks': 1, \"Crosson's\": 1, 'Uhhu': 2, 'Hey': 9, \"They're\": 21, 'boy': 1, \"I'm\": 216, 'Goddamn': 1, \"There's\": 45, 'Gosh': 2, \"name's\": 4, 'outta': 2, 'Jee-sus': 1, \"she's\": 18, \"fat's\": 1, 'Ahah': 1, 'well': 20, \"They've\": 8, 'huh-uh': 1, \"She's\": 21, 'Uh': 2, \"W.'s\": 1, \"Who's\": 9, 'To': 207, 'crap': 1, \"everything's\": 1, \"It's\": 130, \"Here's\": 10, 'Hubba': 1, \"Somebody'll\": 1, \"you's\": 1, \"There'd\": 1, 'Yalagaloo': 1, \"they'd\": 22, \"We'll\": 31, 'Mmmm': 1, 'goody': 1, 'Christ': 2, 'Toot': 3, 'Da-da-da-dum': 1, 'bang': 2, 'hush': 1, \"Whyn't\": 1, 'Rockabye': 1, 'through': 48, 'it': 1, 'Bye': 1, 'okay': 2, 'Down': 2, 'Jumping': 1, \"water's\": 1, 'Kaboom': 1, 'sure-sure': 1, 'all': 2069}}\n"
     ]
    },
    {
     "data": {
      "text/html": [
       "<div class=\"alert alert-block alert-success\">Your emission counts look good!</div>"
      ],
      "text/plain": [
       "<IPython.core.display.HTML object>"
      ]
     },
     "execution_count": 9,
     "metadata": {},
     "output_type": "execute_result"
    }
   ],
   "source": [
    "def pair_counts(sequences_A, sequences_B):\n",
    "    \"\"\"Return a dictionary keyed to each unique value in the first sequence list\n",
    "    that counts the number of occurrences of the corresponding value from the\n",
    "    second sequences list.\n",
    "\n",
    "    For example, if sequences_A is tags and sequences_B is the corresponding\n",
    "    words, then if 1244 sequences contain the word \"time\" tagged as a NOUN, then\n",
    "    you should return a dictionary such that pair_counts[NOUN][time] == 1244\n",
    "    \"\"\"\n",
    "    # TODO: Finish this function!\n",
    "    pair_counts = defaultdict(Counter)\n",
    "    for key, word in zip(sequences_A, sequences_B):\n",
    "        pair_counts[key].update([word])\n",
    "    pair_counts = { key: dict(value) for key, value in pair_counts.items() }\n",
    "    return pair_counts\n",
    "\n",
    "# Calculate C(t_i, w_i)\n",
    "words, tags = zip(*data.training_set.stream())\n",
    "emission_counts = pair_counts(tags, words)\n",
    "\n",
    "print('emission_counts[:1]', dict(list(emission_counts.items())[2:3]))\n",
    "\n",
    "\n",
    "# DO NOT MODIFY BELOW THIS LINE\n",
    "assert len(emission_counts) == 12, \\\n",
    "       \"Uh oh. There should be 12 tags in your dictionary.\"\n",
    "assert max(emission_counts[\"NOUN\"], key=emission_counts[\"NOUN\"].get) == 'time', \\\n",
    "       \"Hmmm...'time' is expected to be the most common NOUN.\"\n",
    "HTML('<div class=\"alert alert-block alert-success\">Your emission counts look good!</div>')"
   ]
  },
  {
   "cell_type": "markdown",
   "metadata": {},
   "source": [
    "### IMPLEMENTATION: Most Frequent Class Tagger\n",
    "\n",
    "Use the `pair_counts()` function and the training dataset to find the most frequent class label for each word in the training data, and populate the `mfc_table` below. The table keys should be words, and the values should be the appropriate tag string.\n",
    "\n",
    "The `MFCTagger` class is provided to mock the interface of Pomegranite HMM models so that they can be used interchangeably."
   ]
  },
  {
   "cell_type": "code",
   "execution_count": 10,
   "metadata": {},
   "outputs": [
    {
     "name": "stdout",
     "output_type": "stream",
     "text": [
      "mfc_table[:5] {'thirst': 'NOUN', 'Skyway': 'NOUN', 'torpor': 'NOUN', 'foxholes': 'NOUN', 'universal': 'ADJ'}\n"
     ]
    },
    {
     "data": {
      "text/html": [
       "<div class=\"alert alert-block alert-success\">Your MFC tagger has all the correct words!</div>"
      ],
      "text/plain": [
       "<IPython.core.display.HTML object>"
      ]
     },
     "execution_count": 10,
     "metadata": {},
     "output_type": "execute_result"
    }
   ],
   "source": [
    "# Create a lookup table mfc_table where mfc_table[word] contains the tag label most frequently assigned to that word\n",
    "from collections import namedtuple\n",
    "\n",
    "FakeState = namedtuple(\"FakeState\", \"name\")\n",
    "\n",
    "class MFCTagger:\n",
    "    # NOTE: You should not need to modify this class or any of its methods\n",
    "    missing = FakeState(name=\"<MISSING>\")\n",
    "\n",
    "    def __init__(self, table):\n",
    "        self.table = defaultdict(lambda: MFCTagger.missing)\n",
    "        self.table.update({word: FakeState(name=tag) for word, tag in table.items()})\n",
    "\n",
    "    def viterbi(self, seq):\n",
    "        \"\"\"This method simplifies predictions by matching the Pomegranate viterbi() interface\"\"\"\n",
    "        return 0., list(enumerate([\"<start>\"] + [self.table[w] for w in seq] + [\"<end>\"]))\n",
    "\n",
    "\n",
    "# TODO: calculate the frequency of each tag being assigned to each word (hint: similar, but not\n",
    "# the same as the emission probabilities) and use it to fill the mfc_table\n",
    "\n",
    "words, tags = zip(*data.training_set.stream())\n",
    "word_counts = pair_counts(words, tags)\n",
    "mfc_table   = { word: Counter(counter).most_common(1)[0][0] for word, counter in word_counts.items() }\n",
    "\n",
    "print('mfc_table[:5]', dict(list(mfc_table.items())[:5]))\n",
    "\n",
    "# DO NOT MODIFY BELOW THIS LINE\n",
    "mfc_model = MFCTagger(mfc_table) # Create a Most Frequent Class tagger instance\n",
    "\n",
    "assert len(mfc_table) == len(data.training_set.vocab), \"\"\n",
    "assert all(k in data.training_set.vocab for k in mfc_table.keys()), \"\"\n",
    "assert sum(int(k not in mfc_table) for k in data.testing_set.vocab) == 5521, \"\"\n",
    "HTML('<div class=\"alert alert-block alert-success\">Your MFC tagger has all the correct words!</div>')"
   ]
  },
  {
   "cell_type": "markdown",
   "metadata": {},
   "source": [
    "### Making Predictions with a Model\n",
    "The helper functions provided below interface with Pomegranate network models & the mocked MFCTagger to take advantage of the [missing value](http://pomegranate.readthedocs.io/en/latest/nan.html) functionality in Pomegranate through a simple sequence decoding function. Run these functions, then run the next cell to see some of the predictions made by the MFC tagger."
   ]
  },
  {
   "cell_type": "code",
   "execution_count": 11,
   "metadata": {},
   "outputs": [],
   "source": [
    "def replace_unknown(sequence):\n",
    "    \"\"\"Return a copy of the input sequence where each unknown word is replaced\n",
    "    by the literal string value 'nan'. Pomegranate will ignore these values\n",
    "    during computation.\n",
    "    \"\"\"\n",
    "    return [w if w in data.training_set.vocab else 'nan' for w in sequence]\n",
    "\n",
    "def simplify_decoding(X, model):\n",
    "    \"\"\"X should be a 1-D sequence of observations for the model to predict\"\"\"\n",
    "    _, state_path = model.viterbi(replace_unknown(X))\n",
    "    return [state[1].name for state in state_path[1:-1]]  # do not show the start/end state predictions"
   ]
  },
  {
   "cell_type": "markdown",
   "metadata": {},
   "source": [
    "### Example Decoding Sequences with MFC Tagger"
   ]
  },
  {
   "cell_type": "code",
   "execution_count": 12,
   "metadata": {},
   "outputs": [
    {
     "name": "stdout",
     "output_type": "stream",
     "text": [
      "Sentence Key: b100-28144\n",
      "\n",
      "Predicted labels:\n",
      "-----------------\n",
      "['CONJ', 'NOUN', 'NUM', '.', 'NOUN', 'NUM', '.', 'NOUN', 'NUM', '.', 'CONJ', 'NOUN', 'NUM', '.', '.', 'NOUN', '.', '.']\n",
      "\n",
      "Actual labels:\n",
      "--------------\n",
      "('CONJ', 'NOUN', 'NUM', '.', 'NOUN', 'NUM', '.', 'NOUN', 'NUM', '.', 'CONJ', 'NOUN', 'NUM', '.', '.', 'NOUN', '.', '.')\n",
      "\n",
      "\n",
      "Sentence Key: b100-23146\n",
      "\n",
      "Predicted labels:\n",
      "-----------------\n",
      "['PRON', 'VERB', 'DET', 'NOUN', 'ADP', 'ADJ', 'ADJ', 'NOUN', 'VERB', 'VERB', '.', 'ADP', 'VERB', 'DET', 'NOUN', 'ADP', 'NOUN', 'ADP', 'DET', 'NOUN', '.']\n",
      "\n",
      "Actual labels:\n",
      "--------------\n",
      "('PRON', 'VERB', 'DET', 'NOUN', 'ADP', 'ADJ', 'ADJ', 'NOUN', 'VERB', 'VERB', '.', 'ADP', 'VERB', 'DET', 'NOUN', 'ADP', 'NOUN', 'ADP', 'DET', 'NOUN', '.')\n",
      "\n",
      "\n",
      "Sentence Key: b100-35462\n",
      "\n",
      "Predicted labels:\n",
      "-----------------\n",
      "['DET', 'ADJ', 'NOUN', 'VERB', 'VERB', 'VERB', 'ADP', 'DET', 'ADJ', 'ADJ', 'NOUN', 'ADP', 'DET', 'ADJ', 'NOUN', '.', 'ADP', 'ADJ', 'NOUN', '.', 'CONJ', 'ADP', 'DET', '<MISSING>', 'ADP', 'ADJ', 'ADJ', '.', 'ADJ', '.', 'CONJ', 'ADJ', 'NOUN', 'ADP', 'ADV', 'NOUN', '.']\n",
      "\n",
      "Actual labels:\n",
      "--------------\n",
      "('DET', 'ADJ', 'NOUN', 'VERB', 'VERB', 'VERB', 'ADP', 'DET', 'ADJ', 'ADJ', 'NOUN', 'ADP', 'DET', 'ADJ', 'NOUN', '.', 'ADP', 'ADJ', 'NOUN', '.', 'CONJ', 'ADP', 'DET', 'NOUN', 'ADP', 'ADJ', 'ADJ', '.', 'ADJ', '.', 'CONJ', 'ADJ', 'NOUN', 'ADP', 'ADJ', 'NOUN', '.')\n",
      "\n",
      "\n"
     ]
    }
   ],
   "source": [
    "for key in data.testing_set.keys[:3]:\n",
    "    print(\"Sentence Key: {}\\n\".format(key))\n",
    "    print(\"Predicted labels:\\n-----------------\")\n",
    "    print(simplify_decoding(data.sentences[key].words, mfc_model))\n",
    "    print()\n",
    "    print(\"Actual labels:\\n--------------\")\n",
    "    print(data.sentences[key].tags)\n",
    "    print(\"\\n\")"
   ]
  },
  {
   "cell_type": "markdown",
   "metadata": {},
   "source": [
    "### Evaluating Model Accuracy\n",
    "\n",
    "The function below will evaluate the accuracy of the MFC tagger on the collection of all sentences from a text corpus."
   ]
  },
  {
   "cell_type": "code",
   "execution_count": 13,
   "metadata": {},
   "outputs": [],
   "source": [
    "def accuracy(X, Y, model):\n",
    "    \"\"\"Calculate the prediction accuracy by using the model to decode each sequence\n",
    "    in the input X and comparing the prediction with the true labels in Y.\n",
    "\n",
    "    The X should be an array whose first dimension is the number of sentences to test,\n",
    "    and each element of the array should be an iterable of the words in the sequence.\n",
    "    The arrays X and Y should have the exact same shape.\n",
    "\n",
    "    X = [(\"See\", \"Spot\", \"run\"), (\"Run\", \"Spot\", \"run\", \"fast\"), ...]\n",
    "    Y = [(), (), ...]\n",
    "    \"\"\"\n",
    "    correct = total_predictions = 0\n",
    "    for observations, actual_tags in zip(X, Y):\n",
    "\n",
    "        # The model.viterbi call in simplify_decoding will return None if the HMM\n",
    "        # raises an error (for example, if a test sentence contains a word that\n",
    "        # is out of vocabulary for the training set). Any exception counts the\n",
    "        # full sentence as an error (which makes this a conservative estimate).\n",
    "        try:\n",
    "            most_likely_tags = simplify_decoding(observations, model)\n",
    "            correct += sum(p == t for p, t in zip(most_likely_tags, actual_tags))\n",
    "        except:\n",
    "            pass\n",
    "        total_predictions += len(observations)\n",
    "    return correct / total_predictions"
   ]
  },
  {
   "cell_type": "markdown",
   "metadata": {},
   "source": [
    "#### Evaluate the accuracy of the MFC tagger\n",
    "Run the next cell to evaluate the accuracy of the tagger on the training and test corpus."
   ]
  },
  {
   "cell_type": "code",
   "execution_count": 14,
   "metadata": {},
   "outputs": [
    {
     "name": "stdout",
     "output_type": "stream",
     "text": [
      "training accuracy mfc_model: 95.72%\n",
      "testing accuracy mfc_model: 93.02%\n"
     ]
    },
    {
     "data": {
      "text/html": [
       "<div class=\"alert alert-block alert-success\">Your MFC tagger accuracy looks correct!</div>"
      ],
      "text/plain": [
       "<IPython.core.display.HTML object>"
      ]
     },
     "execution_count": 14,
     "metadata": {},
     "output_type": "execute_result"
    }
   ],
   "source": [
    "mfc_training_acc = accuracy(data.training_set.X, data.training_set.Y, mfc_model)\n",
    "print(\"training accuracy mfc_model: {:.2f}%\".format(100 * mfc_training_acc))\n",
    "\n",
    "mfc_testing_acc = accuracy(data.testing_set.X, data.testing_set.Y, mfc_model)\n",
    "print(\"testing accuracy mfc_model: {:.2f}%\".format(100 * mfc_testing_acc))\n",
    "\n",
    "assert mfc_training_acc >= 0.955, \"Uh oh. Your MFC accuracy on the training set doesn't look right.\"\n",
    "assert mfc_testing_acc >= 0.925, \"Uh oh. Your MFC accuracy on the testing set doesn't look right.\"\n",
    "HTML('<div class=\"alert alert-block alert-success\">Your MFC tagger accuracy looks correct!</div>')"
   ]
  },
  {
   "cell_type": "markdown",
   "metadata": {},
   "source": [
    "## Step 3: Build an HMM tagger\n",
    "---\n",
    "The HMM tagger has one hidden state for each possible tag, and parameterized by two distributions: the emission probabilties giving the conditional probability of observing a given **word** from each hidden state, and the transition probabilities giving the conditional probability of moving between **tags** during the sequence.\n",
    "\n",
    "We will also estimate the starting probability distribution (the probability of each **tag** being the first tag in a sequence), and the terminal probability distribution (the probability of each **tag** being the last tag in a sequence).\n",
    "\n",
    "The maximum likelihood estimate of these distributions can be calculated from the frequency counts as described in the following sections where you'll implement functions to count the frequencies, and finally build the model. The HMM model will make predictions according to the formula:\n",
    "\n",
    "$$t_i^n = \\underset{t_i^n}{\\mathrm{argmax}} \\prod_{i=1}^n P(w_i|t_i) P(t_i|t_{i-1})$$\n",
    "\n",
    "Refer to Speech & Language Processing [Chapter 10](https://web.stanford.edu/~jurafsky/slp3/10.pdf) for more information."
   ]
  },
  {
   "cell_type": "markdown",
   "metadata": {},
   "source": [
    "### IMPLEMENTATION: Unigram Counts\n",
    "\n",
    "Complete the function below to estimate the co-occurrence frequency of each symbol over all of the input sequences. The unigram probabilities in our HMM model are estimated from the formula below, where N is the total number of samples in the input. (You only need to compute the counts for now.)\n",
    "\n",
    "$$P(tag_1) = \\frac{C(tag_1)}{N}$$"
   ]
  },
  {
   "cell_type": "code",
   "execution_count": 15,
   "metadata": {},
   "outputs": [
    {
     "name": "stdout",
     "output_type": "stream",
     "text": [
      "tag_unigrams {'ADV': 44877, 'ADP': 115808, 'PRT': 23906, 'ADJ': 66754, 'NOUN': 220632, '.': 117757, 'PRON': 39383, 'NUM': 11878, 'DET': 109671, 'X': 1094, 'VERB': 146161, 'CONJ': 30537}\n"
     ]
    },
    {
     "data": {
      "text/html": [
       "<div class=\"alert alert-block alert-success\">Your tag unigrams look good!</div>"
      ],
      "text/plain": [
       "<IPython.core.display.HTML object>"
      ]
     },
     "execution_count": 15,
     "metadata": {},
     "output_type": "execute_result"
    }
   ],
   "source": [
    "def unigram_counts(sequences):\n",
    "    \"\"\"Return a dictionary keyed to each unique value in the input sequence list that\n",
    "    counts the number of occurrences of the value in the sequences list. The sequences\n",
    "    collection should be a 2-dimensional array.\n",
    "\n",
    "    For example, if the tag NOUN appears 275558 times over all the input sequences,\n",
    "    then you should return a dictionary such that your_unigram_counts[NOUN] == 275558.\n",
    "    \"\"\"\n",
    "    # TODO: Finish this function!\n",
    "    unigram_counts = Counter()\n",
    "    for sequence in sequences:\n",
    "        unigram_counts.update(sequence)\n",
    "    return dict(unigram_counts)\n",
    "\n",
    "# TODO: call unigram_counts with a list of tag sequences from the training set\n",
    "tag_sequences  = tuple([data.training_set.sentences[k].tags for k in data.training_set.keys])\n",
    "tag_unigrams = unigram_counts(tag_sequences)\n",
    "print('tag_unigrams', tag_unigrams)\n",
    "\n",
    "assert set(tag_unigrams.keys()) == data.training_set.tagset, \\\n",
    "       \"Uh oh. It looks like your tag counts doesn't include all the tags!\"\n",
    "assert min(tag_unigrams, key=tag_unigrams.get) == 'X', \\\n",
    "       \"Hmmm...'X' is expected to be the least common class\"\n",
    "assert max(tag_unigrams, key=tag_unigrams.get) == 'NOUN', \\\n",
    "       \"Hmmm...'NOUN' is expected to be the most common class\"\n",
    "HTML('<div class=\"alert alert-block alert-success\">Your tag unigrams look good!</div>')"
   ]
  },
  {
   "cell_type": "markdown",
   "metadata": {},
   "source": [
    "### IMPLEMENTATION: Bigram Counts\n",
    "\n",
    "Complete the function below to estimate the co-occurrence frequency of each pair of symbols in each of the input sequences. These counts are used in the HMM model to estimate the bigram probability of two tags from the frequency counts according to the formula: $$P(tag_2|tag_1) = \\frac{C(tag_2|tag_1)}{C(tag_2)}$$\n"
   ]
  },
  {
   "cell_type": "code",
   "execution_count": 16,
   "metadata": {},
   "outputs": [
    {
     "name": "stdout",
     "output_type": "stream",
     "text": [
      "{('ADV', 'NOUN'): 1478, ('.', 'ADP'): 7595, ('PRT', 'PRT'): 261, ('ADJ', 'PRT'): 1301, ('PRON', 'NUM'): 39, ('NOUN', 'PRT'): 3946, ('DET', 'ADJ'): 26236, ('ADP', '.'): 1099, ('PRT', 'NOUN'): 845, ('NOUN', 'VERB'): 34972, ('NOUN', '.'): 62639, ('NUM', 'ADV'): 234, ('PRT', 'VERB'): 14886, ('.', 'NUM'): 1412, ('PRT', 'ADP'): 2189, ('NUM', 'NOUN'): 4524, ('PRON', 'X'): 1, ('ADP', 'ADP'): 2347, ('ADP', 'X'): 53, ('.', 'NOUN'): 9782, ('X', 'ADJ'): 3, ('CONJ', '.'): 612, ('NUM', '.'): 3210, ('VERB', 'CONJ'): 2105, ('PRON', 'DET'): 695, ('DET', 'PRT'): 220, ('ADJ', 'ADJ'): 3758, ('NOUN', 'ADJ'): 2839, ('.', 'ADV'): 5124, ('DET', '.'): 1385, ('ADV', 'X'): 4, ('VERB', 'NUM'): 1320, ('NUM', 'ADP'): 1559, ('CONJ', 'CONJ'): 9, ('DET', 'X'): 156, ('NUM', 'PRON'): 109, ('CONJ', 'NUM'): 575, ('ADV', 'PRON'): 2136, ('ADJ', 'VERB'): 1167, ('ADV', 'VERB'): 10835, ('ADV', '.'): 7577, ('DET', 'DET'): 662, ('PRT', 'PRON'): 166, ('ADJ', 'NOUN'): 43664, ('PRT', 'NUM'): 117, ('ADP', 'PRON'): 8109, ('ADV', 'ADJ'): 6143, ('PRON', 'PRT'): 919, ('NUM', 'VERB'): 537, ('ADP', 'NUM'): 3467, ('X', 'NUM'): 1, ('PRON', '.'): 4078, ('VERB', 'ADV'): 15076, ('VERB', 'NOUN'): 14230, ('X', 'DET'): 5, ('ADJ', 'X'): 31, ('.', 'VERB'): 9041, ('CONJ', 'DET'): 4636, ('CONJ', 'ADV'): 2759, ('NUM', 'X'): 3, ('NUM', 'CONJ'): 442, ('X', 'X'): 552, ('NOUN', 'DET'): 3425, ('ADP', 'NOUN'): 29965, ('PRT', 'DET'): 2021, ('ADJ', 'CONJ'): 2500, ('ADP', 'VERB'): 4690, ('PRON', 'ADJ'): 359, ('NUM', 'DET'): 156, ('PRT', 'ADV'): 866, ('CONJ', 'ADJ'): 3372, ('.', 'ADJ'): 3334, ('NUM', 'NUM'): 267, ('CONJ', 'VERB'): 6012, ('ADV', 'ADP'): 6352, ('X', 'VERB'): 62, ('X', '.'): 303, ('X', 'CONJ'): 24, ('NOUN', 'PRON'): 4369, ('PRON', 'CONJ'): 455, ('PRON', 'NOUN'): 340, ('CONJ', 'ADP'): 2222, ('ADV', 'NUM'): 597, ('X', 'PRON'): 9, ('VERB', 'VERB'): 26957, ('ADJ', 'ADV'): 645, ('CONJ', 'PRT'): 760, ('PRON', 'ADV'): 2099, ('X', 'PRT'): 8, ('VERB', 'ADJ'): 8423, ('DET', 'CONJ'): 70, ('DET', 'PRON'): 1093, ('ADV', 'ADV'): 4336, ('PRT', 'CONJ'): 285, ('DET', 'NUM'): 1073, ('ADJ', '.'): 6666, ('ADV', 'DET'): 3309, ('ADP', 'PRT'): 1675, ('NOUN', 'CONJ'): 13185, ('.', 'X'): 147, ('VERB', 'X'): 28, ('ADV', 'CONJ'): 789, ('NOUN', 'ADP'): 53884, ('.', 'DET'): 8008, ('VERB', 'DET'): 23764, ('X', 'NOUN'): 58, ('VERB', 'PRT'): 9556, ('.', 'PRT'): 2168, ('CONJ', 'PRON'): 2058, ('.', '.'): 12588, ('NOUN', 'NUM'): 1783, ('ADP', 'DET'): 52841, ('NOUN', 'X'): 74, ('PRON', 'PRON'): 318, ('PRON', 'VERB'): 27860, ('X', 'ADP'): 61, ('NOUN', 'NOUN'): 32990, ('CONJ', 'X'): 18, ('ADV', 'PRT'): 1305, ('.', 'PRON'): 5448, ('ADP', 'CONJ'): 217, ('VERB', '.'): 11699, ('NOUN', 'ADV'): 5804, ('NUM', 'ADJ'): 705, ('PRON', 'ADP'): 2216, ('PRT', 'ADJ'): 467, ('ADP', 'ADJ'): 9533, ('DET', 'NOUN'): 68785, ('ADJ', 'DET'): 386, ('DET', 'VERB'): 7062, ('X', 'ADV'): 7, ('VERB', 'ADP'): 24927, ('ADP', 'ADV'): 1805, ('ADJ', 'NUM'): 467, ('DET', 'ADP'): 978, ('ADJ', 'PRON'): 249, ('.', 'CONJ'): 8174, ('VERB', 'PRON'): 8001, ('CONJ', 'NOUN'): 7502, ('PRT', 'X'): 2, ('ADJ', 'ADP'): 5895, ('DET', 'ADV'): 1937, ('NUM', 'PRT'): 69, ('PRT', '.'): 1794}\n"
     ]
    },
    {
     "data": {
      "text/html": [
       "<div class=\"alert alert-block alert-success\">Your tag bigrams look good!</div>"
      ],
      "text/plain": [
       "<IPython.core.display.HTML object>"
      ]
     },
     "execution_count": 16,
     "metadata": {},
     "output_type": "execute_result"
    }
   ],
   "source": [
    "def bigram_counts(sequences):\n",
    "    \"\"\"Return a dictionary keyed to each unique PAIR of values in the input sequences\n",
    "    list that counts the number of occurrences of pair in the sequences list. The input\n",
    "    should be a 2-dimensional array.\n",
    "\n",
    "    For example, if the pair of tags (NOUN, VERB) appear 61582 times, then you should\n",
    "    return a dictionary such that your_bigram_counts[(NOUN, VERB)] == 61582\n",
    "    \"\"\"\n",
    "    bigram_counts = Counter()\n",
    "    for sequence in sequences:\n",
    "        bigrams = [ (sequence[i], sequence[i+1]) for i in range(len(sequence)-1) ]\n",
    "        bigram_counts.update(bigrams)\n",
    "    return dict(bigram_counts)\n",
    "\n",
    "# TODO: call bigram_counts with a list of tag sequences from the training set\n",
    "tag_sequences = tuple([data.training_set.sentences[k].tags for k in data.training_set.keys])\n",
    "tag_bigrams   = bigram_counts(tag_sequences)\n",
    "print(tag_bigrams)\n",
    "\n",
    "assert len(tag_bigrams) == 144, \\\n",
    "       \"Uh oh. There should be 144 pairs of bigrams (12 tags x 12 tags)\"\n",
    "assert min(tag_bigrams, key=tag_bigrams.get) in [('X', 'NUM'), ('PRON', 'X')], \\\n",
    "       \"Hmmm...The least common bigram should be one of ('X', 'NUM') or ('PRON', 'X').\"\n",
    "assert max(tag_bigrams, key=tag_bigrams.get) in [('DET', 'NOUN')], \\\n",
    "       \"Hmmm...('DET', 'NOUN') is expected to be the most common bigram.\"\n",
    "HTML('<div class=\"alert alert-block alert-success\">Your tag bigrams look good!</div>')"
   ]
  },
  {
   "cell_type": "markdown",
   "metadata": {},
   "source": [
    "### IMPLEMENTATION: Sequence Starting Counts\n",
    "Complete the code below to estimate the bigram probabilities of a sequence starting with each tag."
   ]
  },
  {
   "cell_type": "code",
   "execution_count": 17,
   "metadata": {},
   "outputs": [
    {
     "name": "stdout",
     "output_type": "stream",
     "text": [
      "{'ADV': 4185, 'CONJ': 2282, 'PRT': 1718, 'ADJ': 1582, 'NOUN': 6469, '.': 4107, 'PRON': 7318, 'NUM': 760, 'DET': 9763, 'X': 25, 'VERB': 2080, 'ADP': 5583}\n"
     ]
    },
    {
     "data": {
      "text/html": [
       "<div class=\"alert alert-block alert-success\">Your starting tag counts look good!</div>"
      ],
      "text/plain": [
       "<IPython.core.display.HTML object>"
      ]
     },
     "execution_count": 17,
     "metadata": {},
     "output_type": "execute_result"
    }
   ],
   "source": [
    "def starting_counts(sequences):\n",
    "    \"\"\"Return a dictionary keyed to each unique value in the input sequences list\n",
    "    that counts the number of occurrences where that value is at the beginning of\n",
    "    a sequence.\n",
    "\n",
    "    For example, if 8093 sequences start with NOUN, then you should return a\n",
    "    dictionary such that your_starting_counts[NOUN] == 8093\n",
    "    \"\"\"\n",
    "    starting_counts = Counter(sequence[0] for sequence in sequences)\n",
    "    return dict(starting_counts)\n",
    "\n",
    "# TODO: Calculate the count of each tag starting a sequence\n",
    "tag_sequences = tuple([data.training_set.sentences[k].tags for k in data.training_set.keys])\n",
    "tag_starts    = starting_counts(tag_sequences)\n",
    "print(tag_starts)\n",
    "\n",
    "assert len(tag_starts) == 12, \"Uh oh. There should be 12 tags in your dictionary.\"\n",
    "assert min(tag_starts, key=tag_starts.get) == 'X', \"Hmmm...'X' is expected to be the least common starting bigram.\"\n",
    "assert max(tag_starts, key=tag_starts.get) == 'DET', \"Hmmm...'DET' is expected to be the most common starting bigram.\"\n",
    "HTML('<div class=\"alert alert-block alert-success\">Your starting tag counts look good!</div>')"
   ]
  },
  {
   "cell_type": "markdown",
   "metadata": {},
   "source": [
    "### IMPLEMENTATION: Sequence Ending Counts\n",
    "Complete the function below to estimate the bigram probabilities of a sequence ending with each tag."
   ]
  },
  {
   "cell_type": "code",
   "execution_count": 18,
   "metadata": {},
   "outputs": [
    {
     "name": "stdout",
     "output_type": "stream",
     "text": [
      "{'ADV': 16, 'ADP': 7, 'PRT': 7, 'ADJ': 25, 'NOUN': 722, '.': 44936, 'PRON': 4, 'NUM': 63, 'DET': 14, 'X': 1, 'VERB': 75, 'CONJ': 2}\n"
     ]
    },
    {
     "data": {
      "text/html": [
       "<div class=\"alert alert-block alert-success\">Your ending tag counts look good!</div>"
      ],
      "text/plain": [
       "<IPython.core.display.HTML object>"
      ]
     },
     "execution_count": 18,
     "metadata": {},
     "output_type": "execute_result"
    }
   ],
   "source": [
    "def ending_counts(sequences):\n",
    "    \"\"\"Return a dictionary keyed to each unique value in the input sequences list\n",
    "    that counts the number of occurrences where that value is at the end of\n",
    "    a sequence.\n",
    "\n",
    "    For example, if 18 sequences end with DET, then you should return a\n",
    "    dictionary such that your_starting_counts[DET] == 18\n",
    "    \"\"\"\n",
    "    ending_counts = Counter(sequence[-1] for sequence in sequences)\n",
    "    return dict(ending_counts)\n",
    "\n",
    "# TODO: Calculate the count of each tag ending a sequence\n",
    "tag_sequences = tuple([data.training_set.sentences[k].tags for k in data.training_set.keys])\n",
    "tag_ends      = ending_counts(tag_sequences)\n",
    "print(tag_ends)\n",
    "\n",
    "assert len(tag_ends) == 12, \"Uh oh. There should be 12 tags in your dictionary.\"\n",
    "assert min(tag_ends, key=tag_ends.get) in ['X', 'CONJ'], \"Hmmm...'X' or 'CONJ' should be the least common ending bigram.\"\n",
    "assert max(tag_ends, key=tag_ends.get) == '.', \"Hmmm...'.' is expected to be the most common ending bigram.\"\n",
    "HTML('<div class=\"alert alert-block alert-success\">Your ending tag counts look good!</div>')"
   ]
  },
  {
   "cell_type": "markdown",
   "metadata": {},
   "source": [
    "### IMPLEMENTATION: Basic HMM Tagger\n",
    "Use the tag unigrams and bigrams calculated above to construct a hidden Markov tagger.\n",
    "\n",
    "- Add one state per tag\n",
    "    - The emission distribution at each state should be estimated with the formula: $P(w|t) = \\frac{C(t, w)}{C(t)}$\n",
    "- Add an edge from the starting state `basic_model.start` to each tag\n",
    "    - The transition probability should be estimated with the formula: $P(t|start) = \\frac{C(start, t)}{C(start)}$\n",
    "- Add an edge from each tag to the end state `basic_model.end`\n",
    "    - The transition probability should be estimated with the formula: $P(end|t) = \\frac{C(t, end)}{C(t)}$\n",
    "- Add an edge between _every_ pair of tags\n",
    "    - The transition probability should be estimated with the formula: $P(t_2|t_1) = \\frac{C(t_1, t_2)}{C(t_1)}$"
   ]
  },
  {
   "cell_type": "code",
   "execution_count": 19,
   "metadata": {},
   "outputs": [
    {
     "data": {
      "text/html": [
       "<div class=\"alert alert-block alert-success\">Your HMM network topology looks good!</div>"
      ],
      "text/plain": [
       "<IPython.core.display.HTML object>"
      ]
     },
     "execution_count": 19,
     "metadata": {},
     "output_type": "execute_result"
    }
   ],
   "source": [
    "basic_model = HiddenMarkovModel(name=\"base-hmm-tagger\")\n",
    "words, tags = zip(*data.training_set.stream())\n",
    "vocab_tags  = frozenset(tags)\n",
    "vocab_words = frozenset(words)\n",
    "\n",
    "\n",
    "# TODO: create states with emission probability distributions P(word | tag) and add to the model\n",
    "# (Hint: you may need to loop & create/add new states)\n",
    "emission_totals = {\n",
    "    tag: sum(counts.values())\n",
    "    for tag, counts in emission_counts.items()\n",
    "}\n",
    "emission_distributions = {\n",
    "    tag: { k: v/emission_totals[tag] for k,v in counts.items() }\n",
    "    for tag, counts in emission_counts.items()\n",
    "}\n",
    "states = {\n",
    "    tag: State( DiscreteDistribution(counts), name=tag )\n",
    "    for tag, counts in emission_distributions.items()\n",
    "}\n",
    "basic_model.add_states(list(states.values()))\n",
    "# basic_model.add_states([basic_model.start, basic_model.end])\n",
    "\n",
    "# TODO: add edges between states for the observed transition frequencies P(tag_i | tag_i-1)\n",
    "# (Hint: you may need to loop & add transitions\n",
    "tag_bigrams_sum = sum(tag_bigrams.values())\n",
    "for bigram, count in tag_bigrams.items():\n",
    "    basic_model.add_transition(\n",
    "        states[bigram[0]],\n",
    "        states[bigram[1]],\n",
    "        count / tag_bigrams_sum\n",
    "    )\n",
    "\n",
    "\n",
    "for tag, count in tag_starts.items():\n",
    "    basic_model.add_transition(\n",
    "        basic_model.start,\n",
    "        states[tag],\n",
    "        count / sum(tag_starts.values())  # a little inefficent, but consise for a small loop\n",
    "    )\n",
    "\n",
    "for tag, count in tag_ends.items():\n",
    "    basic_model.add_transition(\n",
    "        states[tag],\n",
    "        basic_model.end,\n",
    "        count / sum(tag_ends.values())   # a little inefficent, but consise for a small loop\n",
    "    )\n",
    "\n",
    "\n",
    "# NOTE: YOU SHOULD NOT NEED TO MODIFY ANYTHING BELOW THIS LINE\n",
    "# finalize the model\n",
    "basic_model.bake()\n",
    "\n",
    "# print(basic_model)\n",
    "\n",
    "assert all(tag in set(s.name for s in basic_model.states) for tag in data.training_set.tagset), \\\n",
    "       \"Every state in your network should use the name of the associated tag, which must be one of the training set tags.\"\n",
    "assert basic_model.edge_count() == 168, \\\n",
    "       (\"Your network should have an edge from the start node to each state, one edge between every \" +\n",
    "        \"pair of tags (states), and an edge from each state to the end node.\")\n",
    "HTML('<div class=\"alert alert-block alert-success\">Your HMM network topology looks good!</div>')"
   ]
  },
  {
   "cell_type": "code",
   "execution_count": 20,
   "metadata": {
    "scrolled": true
   },
   "outputs": [
    {
     "name": "stdout",
     "output_type": "stream",
     "text": [
      "training accuracy basic hmm model: 97.53%\n",
      "testing accuracy basic hmm model: 95.97%\n"
     ]
    },
    {
     "data": {
      "text/html": [
       "<div class=\"alert alert-block alert-success\">Your HMM tagger accuracy looks correct! Congratulations, you've finished the project.</div>"
      ],
      "text/plain": [
       "<IPython.core.display.HTML object>"
      ]
     },
     "execution_count": 20,
     "metadata": {},
     "output_type": "execute_result"
    }
   ],
   "source": [
    "hmm_training_acc = accuracy(data.training_set.X, data.training_set.Y, basic_model)\n",
    "print(\"training accuracy basic hmm model: {:.2f}%\".format(100 * hmm_training_acc))\n",
    "\n",
    "hmm_testing_acc = accuracy(data.testing_set.X, data.testing_set.Y, basic_model)\n",
    "print(\"testing accuracy basic hmm model: {:.2f}%\".format(100 * hmm_testing_acc))\n",
    "\n",
    "assert hmm_training_acc > 0.97, \"Uh oh. Your HMM accuracy on the training set doesn't look right.\"\n",
    "assert hmm_training_acc > 0.955, \"Uh oh. Your HMM accuracy on the training set doesn't look right.\"\n",
    "HTML('<div class=\"alert alert-block alert-success\">Your HMM tagger accuracy looks correct! Congratulations, you\\'ve finished the project.</div>')"
   ]
  },
  {
   "cell_type": "markdown",
   "metadata": {
    "pycharm": {
     "name": "#%% md\n"
    }
   },
   "source": [
    "### Example Decoding Sequences with the HMM Tagger"
   ]
  },
  {
   "cell_type": "code",
   "execution_count": 21,
   "metadata": {
    "pycharm": {
     "name": "#%%\n"
    }
   },
   "outputs": [
    {
     "name": "stdout",
     "output_type": "stream",
     "text": [
      "Sentence Key: b100-28144\n",
      "\n",
      "Predicted labels:\n",
      "-----------------\n",
      "['CONJ', 'NOUN', 'NUM', '.', 'NOUN', 'NUM', '.', 'NOUN', 'NUM', '.', 'CONJ', 'NOUN', 'NUM', '.', '.', 'NOUN', '.', '.']\n",
      "\n",
      "Actual labels:\n",
      "--------------\n",
      "('CONJ', 'NOUN', 'NUM', '.', 'NOUN', 'NUM', '.', 'NOUN', 'NUM', '.', 'CONJ', 'NOUN', 'NUM', '.', '.', 'NOUN', '.', '.')\n",
      "\n",
      "\n",
      "Sentence Key: b100-23146\n",
      "\n",
      "Predicted labels:\n",
      "-----------------\n",
      "['PRON', 'VERB', 'DET', 'NOUN', 'ADP', 'ADJ', 'ADJ', 'NOUN', 'VERB', 'VERB', '.', 'ADP', 'VERB', 'DET', 'NOUN', 'ADP', 'NOUN', 'ADP', 'DET', 'NOUN', '.']\n",
      "\n",
      "Actual labels:\n",
      "--------------\n",
      "('PRON', 'VERB', 'DET', 'NOUN', 'ADP', 'ADJ', 'ADJ', 'NOUN', 'VERB', 'VERB', '.', 'ADP', 'VERB', 'DET', 'NOUN', 'ADP', 'NOUN', 'ADP', 'DET', 'NOUN', '.')\n",
      "\n",
      "\n",
      "Sentence Key: b100-35462\n",
      "\n",
      "Predicted labels:\n",
      "-----------------\n",
      "['DET', 'ADJ', 'NOUN', 'VERB', 'VERB', 'VERB', 'ADP', 'DET', 'ADJ', 'ADJ', 'NOUN', 'ADP', 'DET', 'ADJ', 'NOUN', '.', 'ADP', 'ADJ', 'NOUN', '.', 'CONJ', 'ADP', 'DET', 'NOUN', 'ADP', 'ADJ', 'ADJ', '.', 'ADJ', '.', 'CONJ', 'ADJ', 'NOUN', 'ADP', 'ADJ', 'NOUN', '.']\n",
      "\n",
      "Actual labels:\n",
      "--------------\n",
      "('DET', 'ADJ', 'NOUN', 'VERB', 'VERB', 'VERB', 'ADP', 'DET', 'ADJ', 'ADJ', 'NOUN', 'ADP', 'DET', 'ADJ', 'NOUN', '.', 'ADP', 'ADJ', 'NOUN', '.', 'CONJ', 'ADP', 'DET', 'NOUN', 'ADP', 'ADJ', 'ADJ', '.', 'ADJ', '.', 'CONJ', 'ADJ', 'NOUN', 'ADP', 'ADJ', 'NOUN', '.')\n",
      "\n",
      "\n"
     ]
    }
   ],
   "source": [
    "for key in data.testing_set.keys[:3]:\n",
    "    print(\"Sentence Key: {}\\n\".format(key))\n",
    "    print(\"Predicted labels:\\n-----------------\")\n",
    "    print(simplify_decoding(data.sentences[key].words, basic_model))\n",
    "    print()\n",
    "    print(\"Actual labels:\\n--------------\")\n",
    "    print(data.sentences[key].tags)\n",
    "    print(\"\\n\")"
   ]
  },
  {
   "cell_type": "markdown",
   "metadata": {
    "pycharm": {
     "name": "#%% md\n"
    }
   },
   "source": [
    "## Step 4: [Optional] Improving model performance\n",
    "---\n",
    "There are additional enhancements that can be incorporated into your tagger that improve performance on larger tagsets where the data sparsity problem is more significant. The data sparsity problem arises because the same amount of data split over more tags means there will be fewer samples in each tag, and there will be more missing data  tags that have zero occurrences in the data. The techniques in this section are optional.\n",
    "\n",
    "- [Laplace Smoothing](https://en.wikipedia.org/wiki/Additive_smoothing) (pseudocounts)\n",
    "    Laplace smoothing is a technique where you add a small, non-zero value to all observed counts to offset for unobserved values.\n",
    "\n",
    "- Backoff Smoothing\n",
    "    Another smoothing technique is to interpolate between n-grams for missing data. This method is more effective than Laplace smoothing at combatting the data sparsity problem. Refer to chapters 4, 9, and 10 of the [Speech & Language Processing](https://web.stanford.edu/~jurafsky/slp3/) book for more information.\n",
    "\n",
    "- Extending to Trigrams\n",
    "    HMM taggers have achieved better than 96% accuracy on this dataset with the full Penn treebank tagset using an architecture described in [this](http://www.coli.uni-saarland.de/~thorsten/publications/Brants-ANLP00.pdf) paper. Altering your HMM to achieve the same performance would require implementing deleted interpolation (described in the paper), incorporating trigram probabilities in your frequency tables, and re-implementing the Viterbi algorithm to consider three consecutive states instead of two."
   ]
  },
  {
   "cell_type": "markdown",
   "metadata": {},
   "source": [
    "# Laplace Smoothing\n",
    "\n",
    "- This doesn't actually improve performance here\n",
    "- Accuracy is the same when applied to the transitions tables\n",
    "- Accuracy decreased to train=95.38% / test=94.41% when applied to emission_distributions"
   ]
  },
  {
   "cell_type": "code",
   "execution_count": 22,
   "metadata": {},
   "outputs": [
    {
     "name": "stdout",
     "output_type": "stream",
     "text": [
      "training accuracy basic hmm model: 95.38%\n",
      "testing accuracy basic hmm model: 94.41%\n"
     ]
    }
   ],
   "source": [
    "smoothing_alpha = 0.5\n",
    "laplace_model = HiddenMarkovModel(name=\"base-hmm-tagger\")\n",
    "\n",
    "words, tags = zip(*data.training_set.stream())\n",
    "vocab_tags  = frozenset(tags)\n",
    "vocab_words = frozenset(words)\n",
    "\n",
    "\n",
    "# TODO: create states with emission probability distributions P(word | tag) and add to the model\n",
    "# (Hint: you may need to loop & create/add new states)\n",
    "emission_counts = pair_counts(tags, words)\n",
    "emission_totals = {\n",
    "    tag: sum(counts.values())\n",
    "    for tag, counts in emission_counts.items()\n",
    "}\n",
    "# emission_distributions = {\n",
    "#     tag: { k: v/emission_totals[tag] for k,v in counts.items() }\n",
    "#     for tag, counts in emission_counts.items()\n",
    "# }\n",
    "\n",
    "### This reduces accuracy to: train=95.38% / test=94.41%\n",
    "emission_distributions = {}\n",
    "for tag in set(tags):\n",
    "    emission_distributions[tag] = {}\n",
    "    for word in set(words):\n",
    "        count       = emission_counts.get(tag,{}).get(word, 0)\n",
    "        pseudocount = (count + smoothing_alpha) / ( emission_totals[tag] + smoothing_alpha * len(vocab_words) )\n",
    "        emission_distributions[tag][word] = pseudocount\n",
    "\n",
    "states = {\n",
    "    tag: State( DiscreteDistribution(counts), name=tag )\n",
    "    for tag, counts in emission_distributions.items()\n",
    "}\n",
    "laplace_model.add_states(list(states.values()))\n",
    "\n",
    "\n",
    "\n",
    "assert len(tag_bigrams) == len(set(tags))**2  # there are no missing/zero values\n",
    "tag_bigrams_sum = sum(tag_bigrams.values())\n",
    "for bigram, count in tag_bigrams.items():\n",
    "    laplace_model.add_transition(\n",
    "        states[bigram[0]],\n",
    "        states[bigram[1]],\n",
    "        (smoothing_alpha + count) / (tag_bigrams_sum + smoothing_alpha * len(tag_bigrams))\n",
    "    )\n",
    "\n",
    "\n",
    "assert len(tag_starts) == len(set(tags))  # there are no missing/zero values\n",
    "for tag, count in tag_starts.items():\n",
    "    laplace_model.add_transition(\n",
    "        laplace_model.start,\n",
    "        states[tag],\n",
    "        (smoothing_alpha + count) / ( sum(tag_starts.values()) + smoothing_alpha*len(tag_starts))\n",
    "    )\n",
    "\n",
    "assert len(tag_ends) == len(set(tags))  # there are no missing/zero values\n",
    "for tag, count in tag_ends.items():\n",
    "    laplace_model.add_transition(\n",
    "        states[tag],\n",
    "        laplace_model.end,\n",
    "        (smoothing_alpha + count) / ( sum(tag_ends.values()) + smoothing_alpha*len(tag_ends))\n",
    "    )\n",
    "\n",
    "\n",
    "# NOTE: YOU SHOULD NOT NEED TO MODIFY ANYTHING BELOW THIS LINE\n",
    "# finalize the model\n",
    "laplace_model.bake()\n",
    "\n",
    "\n",
    "assert all(tag in set(s.name for s in laplace_model.states) for tag in data.training_set.tagset), \\\n",
    "    \"Every state in your network should use the name of the associated tag, which must be one of the training set tags.\"\n",
    "assert laplace_model.edge_count() == 168, \\\n",
    "    (\"Your network should have an edge from the start node to each state, one edge between every \" +\n",
    "     \"pair of tags (states), and an edge from each state to the end node.\")\n",
    "HTML('<div class=\"alert alert-block alert-success\">Your HMM network topology looks good!</div>')\n",
    "\n",
    "hmm_training_acc = accuracy(data.training_set.X, data.training_set.Y, laplace_model)\n",
    "print(\"training accuracy basic hmm model: {:.2f}%\".format(100 * hmm_training_acc))\n",
    "\n",
    "hmm_testing_acc = accuracy(data.testing_set.X, data.testing_set.Y, laplace_model)\n",
    "print(\"testing accuracy basic hmm model: {:.2f}%\".format(100 * hmm_testing_acc))\n",
    "\n",
    "# assert hmm_training_acc > 0.97, \"Uh oh. Your HMM accuracy on the training set doesn't look right.\"\n",
    "# assert hmm_training_acc > 0.955, \"Uh oh. Your HMM accuracy on the training set doesn't look right.\"\n",
    "# HTML('<div class=\"alert alert-block alert-success\">Your HMM tagger accuracy looks correct! Congratulations, you\\'ve finished the project.</div>')"
   ]
  },
  {
   "cell_type": "markdown",
   "metadata": {},
   "source": [
    "### Obtain the Brown Corpus with a Larger Tagset\n",
    "Run the code below to download a copy of the brown corpus with the full NLTK tagset. You will need to research the available tagset information in the NLTK docs and determine the best way to extract the subset of NLTK tags you want to explore. If you write the following the format specified in Step 1, then you can reload the data using all of the code above for comparison.\n",
    "\n",
    "Refer to [Chapter 5](http://www.nltk.org/book/ch05.html) of the NLTK book for more information on the available tagsets."
   ]
  },
  {
   "cell_type": "code",
   "execution_count": 24,
   "metadata": {},
   "outputs": [
    {
     "data": {
      "text/plain": [
       "['[NbConvertApp] Converting notebook HMM Tagger.ipynb to html',\n",
       " '[NbConvertApp] Writing 386259 bytes to HMM Tagger.html',\n",
       " '[NbConvertApp] Converting notebook HMM Tagger.wip.ipynb to html',\n",
       " '[NbConvertApp] Writing 439722 bytes to HMM Tagger.wip.html',\n",
       " '[NbConvertApp] Converting notebook HMM warmup (optional).ipynb to html',\n",
       " '[NbConvertApp] Writing 334676 bytes to HMM warmup (optional).html']"
      ]
     },
     "execution_count": 24,
     "metadata": {},
     "output_type": "execute_result"
    }
   ],
   "source": [
    "# import nltk\n",
    "# from nltk import pos_tag, word_tokenize\n",
    "# from nltk.corpus import brown\n",
    "\n",
    "# nltk.download('brown')\n",
    "# training_corpus = nltk.corpus.brown\n",
    "# training_corpus.tagged_sents()[0]"
   ]
  }
 ],
 "metadata": {
  "kernelspec": {
   "display_name": "Python 3",
   "language": "python",
   "name": "python3"
  },
  "language_info": {
   "codemirror_mode": {
    "name": "ipython",
    "version": 3
   },
   "file_extension": ".py",
   "mimetype": "text/x-python",
   "name": "python",
   "nbconvert_exporter": "python",
   "pygments_lexer": "ipython3",
   "version": "3.5.4"
  }
 },
 "nbformat": 4,
 "nbformat_minor": 2
}